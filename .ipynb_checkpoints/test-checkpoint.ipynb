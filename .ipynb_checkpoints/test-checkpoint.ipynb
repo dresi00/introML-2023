{
 "cells": [
  {
   "cell_type": "markdown",
   "id": "a11a746d-820b-46dd-9cc8-4f1398efcd0b",
   "metadata": {
    "tags": []
   },
   "source": [
    "**j**"
   ]
  },
  {
   "cell_type": "code",
   "execution_count": 1,
   "id": "c35f52fc-8661-4fee-81f9-2873e0e33a70",
   "metadata": {
    "tags": []
   },
   "outputs": [
    {
     "name": "stdout",
     "output_type": "stream",
     "text": [
      "hello\n"
     ]
    }
   ],
   "source": [
    "print(\"hello\")\n"
   ]
  },
  {
   "cell_type": "code",
   "execution_count": 2,
   "id": "a845f39c-a8f0-4f78-a2d4-0e00cfaec687",
   "metadata": {
    "tags": []
   },
   "outputs": [
    {
     "name": "stdout",
     "output_type": "stream",
     "text": [
      "[0, 1, 2]\n"
     ]
    }
   ],
   "source": [
    "from typing import *\n",
    "liste:List = [0,1]\n",
    "liste.append(2)\n",
    "print(liste)\n"
   ]
  },
  {
   "cell_type": "code",
   "execution_count": 3,
   "id": "ec78dd90-167f-43d9-8257-98407edae696",
   "metadata": {},
   "outputs": [
    {
     "name": "stdout",
     "output_type": "stream",
     "text": [
      "[0, 1, 2]\n"
     ]
    }
   ],
   "source": [
    "print(liste)"
   ]
  },
  {
   "cell_type": "code",
   "execution_count": null,
   "id": "4ecfde96-39c4-4e20-8e94-36cf4bc9d353",
   "metadata": {},
   "outputs": [],
   "source": []
  }
 ],
 "metadata": {
  "kernelspec": {
   "display_name": "Python 3 (ipykernel)",
   "language": "python",
   "name": "python3"
  },
  "language_info": {
   "codemirror_mode": {
    "name": "ipython",
    "version": 3
   },
   "file_extension": ".py",
   "mimetype": "text/x-python",
   "name": "python",
   "nbconvert_exporter": "python",
   "pygments_lexer": "ipython3",
   "version": "3.9.13"
  }
 },
 "nbformat": 4,
 "nbformat_minor": 5
}
