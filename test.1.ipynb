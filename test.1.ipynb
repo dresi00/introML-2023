{
 "cells": [
  {
   "cell_type": "code",
   "execution_count": 1,
   "id": "2c00ac68-ca59-493a-bf3e-78b895c5a7cb",
   "metadata": {
    "tags": []
   },
   "outputs": [
    {
     "ename": "IndexError",
     "evalue": "list index out of range",
     "output_type": "error",
     "traceback": [
      "\u001b[1;31m---------------------------------------------------------------------------\u001b[0m",
      "\u001b[1;31mIndexError\u001b[0m                                Traceback (most recent call last)",
      "Cell \u001b[1;32mIn[1], line 8\u001b[0m\n\u001b[0;32m      6\u001b[0m             matrix[i]\u001b[38;5;241m.\u001b[39mappend(\u001b[38;5;241m1\u001b[39m)\n\u001b[0;32m      7\u001b[0m         \u001b[38;5;28;01melse\u001b[39;00m:\n\u001b[1;32m----> 8\u001b[0m             \u001b[43mmatrix\u001b[49m\u001b[43m[\u001b[49m\u001b[43mi\u001b[49m\u001b[43m]\u001b[49m\u001b[38;5;241m.\u001b[39mappend(\u001b[38;5;241m0\u001b[39m)\n\u001b[0;32m      9\u001b[0m \u001b[38;5;28mprint\u001b[39m(matrix)\n",
      "\u001b[1;31mIndexError\u001b[0m: list index out of range"
     ]
    }
   ],
   "source": [
    "from typing import *\n",
    "matrix = [[]]\n",
    "for i in 0,4:\n",
    "    for j in 0,4:\n",
    "        if i==j:\n",
    "            matrix[i].append(1)\n",
    "        else:\n",
    "            matrix[i].append(0)\n",
    "print(matrix)"
   ]
  },
  {
   "cell_type": "code",
   "execution_count": 2,
   "id": "05a8ab9e-37ce-449a-8474-3a7f508849a9",
   "metadata": {},
   "outputs": [
    {
     "name": "stdout",
     "output_type": "stream",
     "text": [
      "Matrix is:\n",
      " [[3 4]\n",
      " [5 2]]\n"
     ]
    }
   ],
   "source": [
    "import numpy as np\n",
    "m = np.matrix([[3, 4], [5, 2]])\n",
    "print('Matrix is:\\n', m)"
   ]
  },
  {
   "cell_type": "code",
   "execution_count": null,
   "id": "b1e4926d-e878-4abc-8fd2-36efde778690",
   "metadata": {},
   "outputs": [],
   "source": []
  }
 ],
 "metadata": {
  "kernelspec": {
   "display_name": "Python 3 (ipykernel)",
   "language": "python",
   "name": "python3"
  },
  "language_info": {
   "codemirror_mode": {
    "name": "ipython",
    "version": 3
   },
   "file_extension": ".py",
   "mimetype": "text/x-python",
   "name": "python",
   "nbconvert_exporter": "python",
   "pygments_lexer": "ipython3",
   "version": "3.8.16"
  }
 },
 "nbformat": 4,
 "nbformat_minor": 5
}
