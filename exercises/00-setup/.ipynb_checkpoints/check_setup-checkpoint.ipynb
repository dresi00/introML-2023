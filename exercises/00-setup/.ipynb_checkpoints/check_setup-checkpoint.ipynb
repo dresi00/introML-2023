{
 "cells": [
  {
   "cell_type": "markdown",
   "id": "noble-opportunity",
   "metadata": {},
   "source": [
    "# Check setup"
   ]
  },
  {
   "attachments": {},
   "cell_type": "markdown",
   "id": "sunset-season",
   "metadata": {},
   "source": [
    "This small notebook checks if your environment is correctly set up.\n",
    "\n",
    "It is also the default notebook which opens when you git-pull the introML-2023 repository directly to Noto."
   ]
  },
  {
   "cell_type": "code",
   "execution_count": null,
   "id": "pacific-specification",
   "metadata": {},
   "outputs": [],
   "source": [
    "import sys\n",
    "print(f'Python path: {sys.executable}')\n",
    "# If you are running this notebook locally (not on Noto), the path should have \"introml\" in it"
   ]
  },
  {
   "cell_type": "markdown",
   "id": "independent-clearing",
   "metadata": {},
   "source": [
    "## 1. Packages"
   ]
  },
  {
   "cell_type": "markdown",
   "id": "fundamental-indianapolis",
   "metadata": {},
   "source": [
    "Let's check that all the necessary packages are installed by importing them."
   ]
  },
  {
   "cell_type": "code",
   "execution_count": null,
   "id": "distant-flavor",
   "metadata": {},
   "outputs": [],
   "source": [
    "import numpy as np\n",
    "import scipy\n",
    "import pandas as pd\n",
    "import matplotlib.pyplot as plt\n",
    "import seaborn as sns\n",
    "import plotly\n",
    "import sklearn\n",
    "import ipywidgets as widgets\n",
    "import tqdm\n",
    "\n",
    "print(\"All good for packages :)\")"
   ]
  },
  {
   "cell_type": "markdown",
   "id": "novel-webster",
   "metadata": {},
   "source": [
    "## 2. JupyterLab extensions"
   ]
  },
  {
   "cell_type": "markdown",
   "id": "cubic-bibliography",
   "metadata": {},
   "source": [
    "### 2.1. JupyterLab Plotly"
   ]
  },
  {
   "cell_type": "markdown",
   "id": "impossible-chile",
   "metadata": {},
   "source": [
    "Run the following cell. If a plot is displayed, then the JupyterLab Plotly extension is correctly installed."
   ]
  },
  {
   "cell_type": "code",
   "execution_count": null,
   "id": "swiss-casino",
   "metadata": {},
   "outputs": [],
   "source": [
    "import plotly.express as px\n",
    "df = px.data.iris()\n",
    "fig = px.scatter(df, x=\"sepal_length\", y=\"sepal_width\", color=\"species\",\n",
    "                title=\"This title and interactive plot should be displayed if the plotly extension is installed correctly\")\n",
    "fig.show()"
   ]
  },
  {
   "cell_type": "markdown",
   "id": "greatest-swedish",
   "metadata": {},
   "source": [
    "### 2.2. JupyterLab Table of Contents"
   ]
  },
  {
   "cell_type": "markdown",
   "id": "vulnerable-vampire",
   "metadata": {},
   "source": [
    "The Table of Contents extension automatically generates a Table of Contents for the currently open notebook. This can be very useful when navigating through the exercises. If it is installed, you should see the following icon (the one shown in the red box) in the left sidebar.\n",
    "\n",
    "<img src=\"images/toc_icon.png\" width=300/>\n",
    "\n",
    "Clicking on it should display a table of contents, like so:\n",
    "\n",
    "<img src=\"images/toc_view.png\" width=300/>"
   ]
  },
  {
   "cell_type": "markdown",
   "id": "pleasant-wings",
   "metadata": {},
   "source": [
    "If everything worked correctly so far, then your setup should be **all good** and you can use it for the exercises and graded homework."
   ]
  },
  {
   "cell_type": "code",
   "execution_count": null,
   "id": "2051bffc-30dc-4342-bb62-f5121ffc89c0",
   "metadata": {},
   "outputs": [],
   "source": []
  }
 ],
 "metadata": {
  "kernelspec": {
   "display_name": "Python 3 (ipykernel)",
   "language": "python",
   "name": "python3"
  },
  "language_info": {
   "codemirror_mode": {
    "name": "ipython",
    "version": 3
   },
   "file_extension": ".py",
   "mimetype": "text/x-python",
   "name": "python",
   "nbconvert_exporter": "python",
   "pygments_lexer": "ipython3",
   "version": "3.8.10"
  },
  "toc-showcode": false
 },
 "nbformat": 4,
 "nbformat_minor": 5
}
