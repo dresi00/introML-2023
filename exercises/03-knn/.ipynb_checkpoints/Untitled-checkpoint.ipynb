{
 "cells": [
  {
   "cell_type": "code",
   "execution_count": 46,
   "id": "a772668c-b608-4124-b02c-50d8f479447f",
   "metadata": {
    "tags": []
   },
   "outputs": [
    {
     "ename": "SyntaxError",
     "evalue": "cannot assign to function call (1073856397.py, line 13)",
     "output_type": "error",
     "traceback": [
      "\u001b[1;36m  Cell \u001b[1;32mIn[46], line 13\u001b[1;36m\u001b[0m\n\u001b[1;33m    man_dis(i) = sum(dis(i))\u001b[0m\n\u001b[1;37m    ^\u001b[0m\n\u001b[1;31mSyntaxError\u001b[0m\u001b[1;31m:\u001b[0m cannot assign to function call\n"
     ]
    }
   ],
   "source": [
    "import numpy as np\n",
    "data= np.array([[1,2],\n",
    "                [1,2],\n",
    "                [1,2]])\n",
    "\n",
    "sample = np.arange(2)\n",
    "sample = sample + [0,1] + 3\n",
    "print(sample)\n",
    "dis=abs(data-sample)\n",
    "print(dis)\n",
    "man_dis = np.zeros(data.shape[0])\n",
    "for i in 3:\n",
    "    man_dis(i) = sum(dis(i)) \n",
    "print(man_dis)"
   ]
  },
  {
   "cell_type": "code",
   "execution_count": null,
   "id": "b94f3e8f-a520-4ccf-8172-4c301a1fe897",
   "metadata": {},
   "outputs": [],
   "source": []
  }
 ],
 "metadata": {
  "kernelspec": {
   "display_name": "Python 3 (ipykernel)",
   "language": "python",
   "name": "python3"
  },
  "language_info": {
   "codemirror_mode": {
    "name": "ipython",
    "version": 3
   },
   "file_extension": ".py",
   "mimetype": "text/x-python",
   "name": "python",
   "nbconvert_exporter": "python",
   "pygments_lexer": "ipython3",
   "version": "3.8.16"
  }
 },
 "nbformat": 4,
 "nbformat_minor": 5
}
