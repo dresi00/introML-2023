{
 "cells": [
  {
   "cell_type": "code",
   "execution_count": 7,
   "id": "a772668c-b608-4124-b02c-50d8f479447f",
   "metadata": {
    "tags": []
   },
   "outputs": [
    {
     "ename": "TypeError",
     "evalue": "'tuple' object is not callable",
     "output_type": "error",
     "traceback": [
      "\u001b[1;31m---------------------------------------------------------------------------\u001b[0m",
      "\u001b[1;31mTypeError\u001b[0m                                 Traceback (most recent call last)",
      "Cell \u001b[1;32mIn[7], line 28\u001b[0m\n\u001b[0;32m     23\u001b[0m labels_gt \u001b[38;5;241m=\u001b[39m np\u001b[38;5;241m.\u001b[39marray([[\u001b[38;5;241m0\u001b[39m],[\u001b[38;5;241m1\u001b[39m],[\u001b[38;5;241m3\u001b[39m],[\u001b[38;5;241m4\u001b[39m]])\n\u001b[0;32m     24\u001b[0m labels_pred \u001b[38;5;241m=\u001b[39m np\u001b[38;5;241m.\u001b[39marray([[\u001b[38;5;241m0\u001b[39m],\n\u001b[0;32m     25\u001b[0m                [\u001b[38;5;241m1\u001b[39m],\n\u001b[0;32m     26\u001b[0m                [\u001b[38;5;241m2\u001b[39m],\n\u001b[0;32m     27\u001b[0m                [\u001b[38;5;241m4\u001b[39m]])\n\u001b[1;32m---> 28\u001b[0m \u001b[38;5;28mprint\u001b[39m(\u001b[43mlabels_gt\u001b[49m\u001b[38;5;241;43m.\u001b[39;49m\u001b[43mshape\u001b[49m\u001b[43m(\u001b[49m\u001b[43m)\u001b[49m)\n\u001b[0;32m     29\u001b[0m \u001b[38;5;28mprint\u001b[39m(accuracy(labels_gt,labels_pred))\n",
      "\u001b[1;31mTypeError\u001b[0m: 'tuple' object is not callable"
     ]
    }
   ],
   "source": [
    "import numpy as np\n",
    "\n",
    "def accuracy(labels_gt: np.ndarray, labels_pred: np.ndarray):\n",
    "    \"\"\" Computes accuracy.\n",
    "    \n",
    "    Args:\n",
    "        labels_gt: labels (ground-truth) of shape (M, ).\n",
    "        labels_pred: Predicted labels of shape (M, ).\n",
    "        \n",
    "    Returns:\n",
    "        float: Accuracy, in range [0, 1].\n",
    "    \"\"\"\n",
    "    ### START CODE HERE ### (≈ 1 line of code)\n",
    "    count = 0\n",
    "    for i in range(labels_gt.shape[0]):\n",
    "        if labels_gt[i] == labels_pred[i]:\n",
    "            count+=1\n",
    "    acc = count/labels_gt.shape[0]\n",
    "        \n",
    "    ### END CODE HERE ###\n",
    "    return acc\n",
    "\n",
    "labels_gt = np.array([[0],[1],[3],[4]])\n",
    "labels_pred = np.array([[0],[1],[2],[4]])\n",
    "\n",
    "print(accuracy(labels_gt,labels_pred))"
   ]
  },
  {
   "cell_type": "code",
   "execution_count": null,
   "id": "b94f3e8f-a520-4ccf-8172-4c301a1fe897",
   "metadata": {},
   "outputs": [],
   "source": []
  }
 ],
 "metadata": {
  "kernelspec": {
   "display_name": "Python 3 (ipykernel)",
   "language": "python",
   "name": "python3"
  },
  "language_info": {
   "codemirror_mode": {
    "name": "ipython",
    "version": 3
   },
   "file_extension": ".py",
   "mimetype": "text/x-python",
   "name": "python",
   "nbconvert_exporter": "python",
   "pygments_lexer": "ipython3",
   "version": "3.8.16"
  }
 },
 "nbformat": 4,
 "nbformat_minor": 5
}
