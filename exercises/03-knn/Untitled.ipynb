{
 "cells": [
  {
   "cell_type": "code",
   "execution_count": 8,
   "id": "a772668c-b608-4124-b02c-50d8f479447f",
   "metadata": {
    "tags": []
   },
   "outputs": [
    {
     "name": "stdout",
     "output_type": "stream",
     "text": [
      "0.75\n"
     ]
    }
   ],
   "source": [
    "import numpy as np\n",
    "\n",
    "def accuracy(labels_gt: np.ndarray, labels_pred: np.ndarray):\n",
    "    \"\"\" Computes accuracy.\n",
    "    \n",
    "    Args:\n",
    "        labels_gt: labels (ground-truth) of shape (M, ).\n",
    "        labels_pred: Predicted labels of shape (M, ).\n",
    "        \n",
    "    Returns:\n",
    "        float: Accuracy, in range [0, 1].\n",
    "    \"\"\"\n",
    "    ### START CODE HERE ### (≈ 1 line of code)\n",
    "    count = 0\n",
    "    for i in range(labels_gt.shape[0]):\n",
    "        if labels_gt[i] == labels_pred[i]:\n",
    "            count+=1\n",
    "    acc = count/labels_gt.shape[0]\n",
    "        \n",
    "    ### END CODE HERE ###\n",
    "    return acc\n",
    "\n",
    "labels_gt = np.array([[0],[1],[3],[4]])\n",
    "labels_pred = np.array([[0],[1],[2],[4]])\n",
    "\n",
    "print(accuracy(labels_gt,labels_pred))"
   ]
  },
  {
   "cell_type": "code",
   "execution_count": null,
   "id": "b94f3e8f-a520-4ccf-8172-4c301a1fe897",
   "metadata": {},
   "outputs": [],
   "source": []
  }
 ],
 "metadata": {
  "kernelspec": {
   "display_name": "Python 3 (ipykernel)",
   "language": "python",
   "name": "python3"
  },
  "language_info": {
   "codemirror_mode": {
    "name": "ipython",
    "version": 3
   },
   "file_extension": ".py",
   "mimetype": "text/x-python",
   "name": "python",
   "nbconvert_exporter": "python",
   "pygments_lexer": "ipython3",
   "version": "3.8.16"
  }
 },
 "nbformat": 4,
 "nbformat_minor": 5
}
