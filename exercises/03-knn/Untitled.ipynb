{
 "cells": [
  {
   "cell_type": "code",
   "execution_count": 32,
   "id": "a772668c-b608-4124-b02c-50d8f479447f",
   "metadata": {
    "tags": []
   },
   "outputs": [
    {
     "name": "stdout",
     "output_type": "stream",
     "text": [
      "[0 1 2]\n",
      "2\n",
      "[2 2 1]\n",
      "2\n"
     ]
    }
   ],
   "source": [
    "import numpy as np\n",
    "\n",
    "sample=np.array([1,2])\n",
    "data=np.arange(10)\n",
    "\n",
    "k_indices=np.array([2,3,11])\n",
    "\n",
    "y_data=np.array([0,1,2,2,1,1,0,0,1,0,2,1])\n",
    "\n",
    "\n",
    "y_chosen=y_data[k_indices]\n",
    "\n",
    "\n",
    "indices_bincount= np.bincount(y_chosen)\n",
    "chosen = np.argmax(indices_bincount)\n",
    "print(indices_bincount)\n",
    "print(np.argmax(indices_bincount))\n",
    "print(y_chosen)\n",
    "\n",
    "print(chosen)\n"
   ]
  },
  {
   "cell_type": "code",
   "execution_count": null,
   "id": "b94f3e8f-a520-4ccf-8172-4c301a1fe897",
   "metadata": {},
   "outputs": [],
   "source": []
  }
 ],
 "metadata": {
  "kernelspec": {
   "display_name": "Python 3 (ipykernel)",
   "language": "python",
   "name": "python3"
  },
  "language_info": {
   "codemirror_mode": {
    "name": "ipython",
    "version": 3
   },
   "file_extension": ".py",
   "mimetype": "text/x-python",
   "name": "python",
   "nbconvert_exporter": "python",
   "pygments_lexer": "ipython3",
   "version": "3.8.16"
  }
 },
 "nbformat": 4,
 "nbformat_minor": 5
}
