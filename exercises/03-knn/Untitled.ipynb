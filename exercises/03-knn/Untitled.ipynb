{
 "cells": [
  {
   "cell_type": "code",
   "execution_count": 28,
   "id": "a772668c-b608-4124-b02c-50d8f479447f",
   "metadata": {
    "tags": []
   },
   "outputs": [
    {
     "name": "stdout",
     "output_type": "stream",
     "text": [
      "5\n",
      "[7.21110255 4.47213595 2.         2.         4.47213595]\n"
     ]
    }
   ],
   "source": [
    "import numpy as np\n",
    "data = np.arange(0,10).reshape(5,2)\n",
    "sample= np.array([4,7])\n",
    "print(data.shape[0])\n",
    "\n",
    "dist1=(np.sum((data-sample)**2,axis=1))**0.5\n",
    "\n",
    "\n",
    "\n",
    "print(dist1)\n"
   ]
  },
  {
   "cell_type": "code",
   "execution_count": null,
   "id": "b94f3e8f-a520-4ccf-8172-4c301a1fe897",
   "metadata": {},
   "outputs": [],
   "source": []
  }
 ],
 "metadata": {
  "kernelspec": {
   "display_name": "Python 3 (ipykernel)",
   "language": "python",
   "name": "python3"
  },
  "language_info": {
   "codemirror_mode": {
    "name": "ipython",
    "version": 3
   },
   "file_extension": ".py",
   "mimetype": "text/x-python",
   "name": "python",
   "nbconvert_exporter": "python",
   "pygments_lexer": "ipython3",
   "version": "3.8.16"
  }
 },
 "nbformat": 4,
 "nbformat_minor": 5
}
