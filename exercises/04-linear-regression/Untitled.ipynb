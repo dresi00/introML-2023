{
 "cells": [
  {
   "cell_type": "code",
   "execution_count": 15,
   "id": "f03fb0bd-def6-4ef9-a1cc-7febdeffb426",
   "metadata": {},
   "outputs": [
    {
     "name": "stdout",
     "output_type": "stream",
     "text": [
      "3\n",
      "shape of X (4, 3),shape of w (3,),shape of yy (4,)\n",
      "[[ 0  3  6  9]\n",
      " [ 1  4  7 10]\n",
      " [ 2  5  8 11]]\n",
      "[ 1 19 37 55]\n",
      "[387. 443. 499.]\n",
      "(3,)\n"
     ]
    }
   ],
   "source": [
    "import numpy as np\n",
    "X = np.arange(12).reshape(4,3)\n",
    "w = np.array([1,2,3])\n",
    "y = np.array([7,7,7,7])\n",
    "\n",
    "print(X.shape[1])\n",
    "yy=np.dot(X,w)\n",
    "print(f\"shape of X {X.shape},shape of w {w.shape},shape of yy {yy.shape}\")\n",
    "print(X.T)\n",
    "print(yy-y)\n",
    "\n",
    "grad = (2/X.shape[0])*np.dot(X.T, (np.dot(X ,w) - y))\n",
    "print(grad)\n",
    "print(grad.shape)"
   ]
  },
  {
   "cell_type": "code",
   "execution_count": null,
   "id": "9d3a6da2-c0d3-48a0-84ce-09474813a1eb",
   "metadata": {},
   "outputs": [],
   "source": []
  }
 ],
 "metadata": {
  "kernelspec": {
   "display_name": "Python 3 (ipykernel)",
   "language": "python",
   "name": "python3"
  },
  "language_info": {
   "codemirror_mode": {
    "name": "ipython",
    "version": 3
   },
   "file_extension": ".py",
   "mimetype": "text/x-python",
   "name": "python",
   "nbconvert_exporter": "python",
   "pygments_lexer": "ipython3",
   "version": "3.8.16"
  }
 },
 "nbformat": 4,
 "nbformat_minor": 5
}
