{
 "cells": [
  {
   "cell_type": "markdown",
   "metadata": {},
   "source": [
    "# Linear Regression"
   ]
  },
  {
   "cell_type": "markdown",
   "metadata": {},
   "source": [
    "<hr style=\"clear:both\">\n",
    "\n",
    "This notebook is part of a series of exercises for the CIVIL-226 Introduction to Machine Learning for Engineers course at EPFL. Copyright (c) 2021 [VITA](https://www.epfl.ch/labs/vita/) lab at EPFL  \n",
    "Use of this source code is governed by an MIT-style license that can be found in the LICENSE file or at https://www.opensource.org/licenses/MIT\n",
    "\n",
    "**Author(s):** [Tom Winandy](mailto:tom.winandy@epfl.ch) and [David Mizrahi](mailto:david.mizrahi@epfl.ch)\n",
    "<hr style=\"clear:both\">\n"
   ]
  },
  {
   "cell_type": "code",
   "execution_count": 1,
   "metadata": {},
   "outputs": [],
   "source": [
    "# Function to align all tables to the left (useful for later on)"
   ]
  },
  {
   "cell_type": "code",
   "execution_count": 2,
   "metadata": {},
   "outputs": [
    {
     "data": {
      "text/html": [
       "<style>\n",
       "table {float:left}\n",
       "</style>\n"
      ],
      "text/plain": [
       "<IPython.core.display.HTML object>"
      ]
     },
     "metadata": {},
     "output_type": "display_data"
    }
   ],
   "source": [
    "%%html\n",
    "<style>\n",
    "table {float:left}\n",
    "</style>"
   ]
  },
  {
   "cell_type": "code",
   "execution_count": 3,
   "metadata": {},
   "outputs": [],
   "source": [
    "import pandas as pd\n",
    "import numpy as np\n",
    "import matplotlib.pyplot as plt\n",
    "from typing import Any, Callable\n",
    "\n",
    "# Helper file with functions for pre-processing and visualization\n",
    "import helpers"
   ]
  },
  {
   "cell_type": "markdown",
   "metadata": {},
   "source": [
    "##  0. Intro \n",
    "\n",
    "In the first part of the exercise, you're tasked with implementing linear regression with only one variable to predict profits for a restaurant. This is known as **[simple linear regression](https://en.wikipedia.org/wiki/Simple_linear_regression)**, as opposed to **multiple linear regression** (where multiple variables are taken into account for the prediction). You'll see later on that the code implemented here will work just as well for multiple linear regression.\n",
    "\n",
    "**Question:** How does a regression problem differ from a classification problem?\n",
    "\n",
    "**Answer:** A regression problem searches a \"tendence\" like a function which the data follows and the classification tries to separate \"areas\" or \"volumes\" in different catergories.\n",
    "\n",
    "*Background: Suppose you're the CEO of a restaurant franchise and are considering different cities for opening a new outlet. The chain already has restaurants in various cities and you have data for profits and populations from the cities. You would like to use this data to predict the profit of a restaurant based on where it opens.*"
   ]
  },
  {
   "cell_type": "markdown",
   "metadata": {},
   "source": [
    "## 1. Data loading & pre-processing"
   ]
  },
  {
   "cell_type": "markdown",
   "metadata": {},
   "source": [
    "Here, we'll use a dataset containing 97 restaurants, with the population of the city (in 10'000's of inhabitants) they operate in and their respective profit (in 10'000's of USD). Take a look at the file `restaurant_data.csv` and see how it's loaded by running the cell below."
   ]
  },
  {
   "cell_type": "code",
   "execution_count": 4,
   "metadata": {},
   "outputs": [
    {
     "name": "stdout",
     "output_type": "stream",
     "text": [
      "There are 97 rows and 2 columns.\n"
     ]
    },
    {
     "data": {
      "text/html": [
       "<div>\n",
       "<style scoped>\n",
       "    .dataframe tbody tr th:only-of-type {\n",
       "        vertical-align: middle;\n",
       "    }\n",
       "\n",
       "    .dataframe tbody tr th {\n",
       "        vertical-align: top;\n",
       "    }\n",
       "\n",
       "    .dataframe thead th {\n",
       "        text-align: right;\n",
       "    }\n",
       "</style>\n",
       "<table border=\"1\" class=\"dataframe\">\n",
       "  <thead>\n",
       "    <tr style=\"text-align: right;\">\n",
       "      <th></th>\n",
       "      <th>population</th>\n",
       "      <th>profit</th>\n",
       "    </tr>\n",
       "  </thead>\n",
       "  <tbody>\n",
       "    <tr>\n",
       "      <th>0</th>\n",
       "      <td>6.1101</td>\n",
       "      <td>17.5920</td>\n",
       "    </tr>\n",
       "    <tr>\n",
       "      <th>1</th>\n",
       "      <td>5.5277</td>\n",
       "      <td>9.1302</td>\n",
       "    </tr>\n",
       "    <tr>\n",
       "      <th>2</th>\n",
       "      <td>8.5186</td>\n",
       "      <td>13.6620</td>\n",
       "    </tr>\n",
       "    <tr>\n",
       "      <th>3</th>\n",
       "      <td>7.0032</td>\n",
       "      <td>11.8540</td>\n",
       "    </tr>\n",
       "    <tr>\n",
       "      <th>4</th>\n",
       "      <td>5.8598</td>\n",
       "      <td>6.8233</td>\n",
       "    </tr>\n",
       "  </tbody>\n",
       "</table>\n",
       "</div>"
      ],
      "text/plain": [
       "   population   profit\n",
       "0      6.1101  17.5920\n",
       "1      5.5277   9.1302\n",
       "2      8.5186  13.6620\n",
       "3      7.0032  11.8540\n",
       "4      5.8598   6.8233"
      ]
     },
     "execution_count": 4,
     "metadata": {},
     "output_type": "execute_result"
    }
   ],
   "source": [
    "restaurant_df = pd.read_csv('data/restaurant_data.csv')\n",
    "\n",
    "print(f\"There are {restaurant_df.shape[0]} rows and {restaurant_df.shape[1]} columns.\")\n",
    "# Show the first 5 rows of the data\n",
    "restaurant_df.head(5)"
   ]
  },
  {
   "cell_type": "markdown",
   "metadata": {},
   "source": [
    "Run the cell below to get a plot of the data. "
   ]
  },
  {
   "cell_type": "code",
   "execution_count": 5,
   "metadata": {},
   "outputs": [
    {
     "data": {
      "text/plain": [
       "<Axes: xlabel='population', ylabel='profit'>"
      ]
     },
     "execution_count": 5,
     "metadata": {},
     "output_type": "execute_result"
    },
    {
     "data": {
      "image/png": "[encoded data removed]",
      "text/plain": [
       "<Figure size 640x480 with 1 Axes>"
      ]
     },
     "metadata": {},
     "output_type": "display_data"
    }
   ],
   "source": [
    "restaurant_df.plot(kind='scatter', x='population', y='profit')"
   ]
  },
  {
   "cell_type": "markdown",
   "metadata": {},
   "source": [
    "To simplify things this time around, we'll omit the validation set. Given that there is no validation set, and that we won't implement cross-validation, we won't be able to perform any hyper-parameter search.\n",
    "\n",
    "Here, the target label is the `profit`, and the (only) feature is the `population`."
   ]
  },
  {
   "cell_type": "code",
   "execution_count": 6,
   "metadata": {},
   "outputs": [],
   "source": [
    "# We'll use 80% of our data as training data and the remaining 20% as test data\n",
    "# Here, we use a random seed to ensure that the data shuffling and splitting can be reproduced\n",
    "X_train, y_train, X_test, y_test, feature_names = helpers.preprocess_data(restaurant_df, label=\"profit\", train_size=0.8, seed=42)"
   ]
  },
  {
   "cell_type": "markdown",
   "metadata": {},
   "source": [
    "### Adding the intercept"
   ]
  },
  {
   "cell_type": "markdown",
   "metadata": {},
   "source": [
    "The goal of linear regression is to fit a line of slope $w_1$ and of intercept $b$ such that for any data $x^{(i)}$, the prediction $\\hat{y}^{(i)}$ is:\n",
    "$$\\hat{y}^{(i)} = w_{1}x^{(i)} +  b$$\n",
    "\n",
    "Note that this can also be written as:\n",
    "$$\\hat{y}^{(i)} = \\begin{bmatrix} b & w_1 \\end{bmatrix} \\cdot \\begin{bmatrix} 1 \\\\ x^{(i)} \\end{bmatrix}$$"
   ]
  },
  {
   "cell_type": "markdown",
   "metadata": {},
   "source": [
    "Therefore, in order to take into account the offset term ($b$) directly in our matrix, we add an additional first column to `X` and set it to all ones. Then, we treat the intercept as another feature (`b` will be treated as `w_0`), which will make our matrix computation easier.\n",
    "\n",
    "__Note__: The same principle applies if the data has multiple features:\n",
    "$$\\hat{y}^{(i)} = w_{n}x^{(i)}_{n} + \\ ... \\ + w_{2}x^{(i)}_{2} + w_{1}x^{(i)}_{1} +  b$$\n",
    "is equivalent to\n",
    "$$\\hat{y}^{(i)} = \\begin{bmatrix} b & w_1 & w_2 & ... & w_D \\end{bmatrix} \\cdot \\begin{bmatrix} 1 \\\\ x^{(i)}_{1} \\\\ x^{(i)}_{2} \\\\ ... \\\\ x^{(i)}_{D} \\end{bmatrix}$$\n",
    "\n",
    "Let's add a column of ones (known as the offset term / constant term) to the feature matrix `X`."
   ]
  },
  {
   "cell_type": "markdown",
   "metadata": {},
   "source": [
    "<div class=\"alert alert-info\">\n",
    "As a rule, for linear regression, the constant is always included in the feature matrix $\\mathbf{X}$, and the intercept / bias term will be part to the weight vector $\\mathbf{w}$. \n",
    "\n",
    "However, this **will not be the case** in future exercises, where the bias term will be separate.\n",
    "    \n",
    "</div>"
   ]
  },
  {
   "cell_type": "code",
   "execution_count": 7,
   "metadata": {},
   "outputs": [],
   "source": [
    "def add_constant(X: np.ndarray) -> np.ndarray:\n",
    "    \"\"\" Adds an constant term to the dataset (as the first column)\n",
    "\n",
    "    Args:\n",
    "        X (np.ndarray): Dataset of shape (N, D-1)\n",
    "\n",
    "    Returns: \n",
    "        Dataset with offset term added, of shape (N, D)\n",
    "\n",
    "    \"\"\"\n",
    "    X_with_offset = np.insert(X, 0, 1, axis=1)\n",
    "\n",
    "    return X_with_offset\n",
    "\n",
    "X_train = add_constant(X_train)\n",
    "X_test = add_constant(X_test)"
   ]
  },
  {
   "cell_type": "markdown",
   "metadata": {},
   "source": [
    "**Question:** In simple linear regression, what happens if no intercept is added?"
   ]
  },
  {
   "cell_type": "markdown",
   "metadata": {},
   "source": [
    "**Answer:** The function must go through (0,0) which can make the model worse. Maybe we have a big interept but a small slope but if we don't specify the intersept, we wouldn't be able to find a good model."
   ]
  },
  {
   "cell_type": "markdown",
   "metadata": {},
   "source": [
    "### Data preview"
   ]
  },
  {
   "cell_type": "code",
   "execution_count": 8,
   "metadata": {},
   "outputs": [
    {
     "name": "stdout",
     "output_type": "stream",
     "text": [
      "Features: ['population']\n"
     ]
    }
   ],
   "source": [
    "print(f\"Features: {feature_names}\")"
   ]
  },
  {
   "cell_type": "code",
   "execution_count": 9,
   "metadata": {},
   "outputs": [
    {
     "name": "stdout",
     "output_type": "stream",
     "text": [
      "Training set features:\n",
      "X_train: \n",
      " [[ 1.      8.2951]\n",
      " [ 1.      9.3102]\n",
      " [ 1.     20.341 ]\n",
      " [ 1.      6.0062]\n",
      " [ 1.      7.0032]\n",
      " [ 1.      8.5781]\n",
      " [ 1.      8.2111]\n",
      " [ 1.      8.0959]\n",
      " [ 1.      5.1301]\n",
      " [ 1.      5.0269]]\n",
      "\n",
      "Training set labels:\n",
      "y_train: \n",
      " [ 5.7442   3.9624  20.992    1.2784  11.854   12.       6.5426   4.1164\n",
      "  0.56077 -2.6807 ]\n"
     ]
    }
   ],
   "source": [
    "# Visualisation of X_train and y_train (separation of the features and the labels)\n",
    "print('Training set features:')\n",
    "print(f'X_train: \\n {X_train[:10]}')\n",
    "\n",
    "print('\\nTraining set labels:')\n",
    "print(f'y_train: \\n {y_train[:10]}')"
   ]
  },
  {
   "cell_type": "code",
   "execution_count": 10,
   "metadata": {},
   "outputs": [
    {
     "name": "stdout",
     "output_type": "stream",
     "text": [
      "Training set shape:\n",
      "X: (77, 2), y: (77,)\n",
      "\n",
      "Test set shape:\n",
      "X: (20, 2), y: (20,)\n"
     ]
    }
   ],
   "source": [
    "# Show shapes\n",
    "print('Training set shape:')\n",
    "print(f'X: {X_train.shape}, y: {y_train.shape}')\n",
    "\n",
    "print('\\nTest set shape:')\n",
    "print(f'X: {X_test.shape}, y: {y_test.shape}')"
   ]
  },
  {
   "cell_type": "markdown",
   "metadata": {},
   "source": [
    "### Notation"
   ]
  },
  {
   "cell_type": "markdown",
   "metadata": {},
   "source": [
    "Now that we have added the constant term, here's how our data looks like:\n",
    "\n",
    "- features: $\\boldsymbol{X} \\in \\mathbb{R}^{N \\times D}$, $\\forall \\ \\boldsymbol{x}^{(i)} \\in \\boldsymbol{X}: \\boldsymbol{x}^{(i)} \\in \\mathbb{R}^{D}$ and $\n",
    "x^{(i)}_0 = 1$\n",
    "- labels: $\\boldsymbol{y} \\in \\mathbb{R}^{N}$, $\\forall \\ y^{(i)} \\in \\boldsymbol{y}: y^{(i)} \\in \\mathbb{R}$ \n",
    "  \n",
    " where $N$ is the number of examples in our dataset, and $D$ is the number of features per example  \n",
    " \n",
    "\n",
    "For the weights, we have:\n",
    " \n",
    " \n",
    " - weights: $\\mathbf{w} \\in \\mathbb{R}^{D}$, where $w_0$ (or $b$) is known as the intercept."
   ]
  },
  {
   "cell_type": "markdown",
   "metadata": {},
   "source": [
    " **Note:**\n",
    " $\\boldsymbol{X}$ is called the design matrix, where $\\boldsymbol{X}_{i, :}$ denotes $\\boldsymbol{x}^{(i)}$.  \n",
    " Note that a single example $\\boldsymbol{x}^{(i)}$ is a column vector of shape $(D \\times 1)$, while the design matrix $\\boldsymbol{X}$ is of shape $(N \\times D)$, where each row represents an example and each column represents a feature."
   ]
  },
  {
   "cell_type": "markdown",
   "metadata": {},
   "source": [
    "## 2. Loss function"
   ]
  },
  {
   "cell_type": "markdown",
   "metadata": {},
   "source": [
    "One of the first step when working on a machine learning problem is to pick a loss / cost function. Here, we will use the Mean Squared Error (MSE), defined as: \n",
    "\n",
    "$$\n",
    "\\begin{align}\n",
    "J(\\mathbf{w}) = \\frac{1}{N} \\sum_{i=1}^{N} (\\hat{y}^{(i)} - y^{(i)})^{2} \\\\\n",
    "= \\frac{1}{N} \\sum_{i=1}^{N} (\\mathbf{w}^T{\\boldsymbol{x}}^{(i)} - y^{(i)})^{2} \\\\\n",
    "= \\frac{1}{N} (\\mathbf{X} \\mathbf{w}-\\mathbf{y})^{T} (\\mathbf{X} \\mathbf{w}-\\mathbf{y})\n",
    "\\end{align}$$\n",
    "\n",
    "where $N$ is the number of examples, $\\hat{y}^{(i)}$ is the prediction for the $i^{th}$ example, and ${y}^{(i)}$ is the ground-truth for the $i^{th}$ example.\n",
    "\n",
    "Implement the function `mse_loss()`\n",
    "\n",
    "**Note about loss / cost:** The function we want to minimize or maximize is called the cost function, loss function, or error function. In this exercise, we use these terms interchangeably, though some machine learning publications assign special meaning to some of these terms.\n",
    "\n",
    "**Hint**: Use the matrix form shown above and make use of NumPy operations."
   ]
  },
  {
   "cell_type": "code",
   "execution_count": 11,
   "metadata": {},
   "outputs": [],
   "source": [
    "def mse_loss(X: np.ndarray, y: np.ndarray, w: np.ndarray) -> float:\n",
    "    \"\"\"Computes the Mean Square Error (MSE)\n",
    "    \n",
    "    Args:\n",
    "        X (np.ndarray): Dataset of shape (N, D)\n",
    "        y (np.ndarray): Labels of shape (N, )\n",
    "        w (np.ndarray): Weights of shape (D, )\n",
    "\n",
    "    Returns:\n",
    "        float: the MSE loss\n",
    "    \"\"\"\n",
    "    ### START CODE HERE ### (≈ 3 lines of code)\n",
    "\n",
    "    loss = np.dot((np.dot(X, w)-y).T, (np.dot(X, w)-y))/y.shape[0]\n",
    "    ### END CODE HERE ###\n",
    "    return loss"
   ]
  },
  {
   "cell_type": "markdown",
   "metadata": {},
   "source": [
    "Let's initialize the weights to 0 and look at the current loss."
   ]
  },
  {
   "cell_type": "code",
   "execution_count": 12,
   "metadata": {},
   "outputs": [],
   "source": [
    "zero_weights = np.zeros(X_train.shape[1])"
   ]
  },
  {
   "cell_type": "code",
   "execution_count": 13,
   "metadata": {},
   "outputs": [
    {
     "name": "stdout",
     "output_type": "stream",
     "text": [
      "Train loss: 62.15811\n",
      "Test loss: 71.79680\n"
     ]
    }
   ],
   "source": [
    "train_loss = mse_loss(X_train, y_train, zero_weights)\n",
    "test_loss = mse_loss(X_test, y_test, zero_weights)\n",
    "print(f\"Train loss: {train_loss:.5f}\")\n",
    "print(f\"Test loss: {test_loss:.5f}\")"
   ]
  },
  {
   "cell_type": "markdown",
   "metadata": {},
   "source": [
    "**Expected output:** \n",
    "\n",
    "|   |                                                  |\n",
    "|---|--------------------------------------------------|\n",
    "| **Train loss** | 62.15811 |\n",
    "| **Test loss** | 71.79680 |"
   ]
  },
  {
   "cell_type": "code",
   "execution_count": 14,
   "metadata": {},
   "outputs": [
    {
     "data": {
      "image/png": "[encoded data removed]",
      "text/plain": [
       "<Figure size 800x600 with 1 Axes>"
      ]
     },
     "metadata": {},
     "output_type": "display_data"
    }
   ],
   "source": [
    "helpers.plot_linear_regression_2d(X=X_train, y=y_train, w=zero_weights, feature_name=\"population\", label_name=\"profit\")"
   ]
  },
  {
   "cell_type": "markdown",
   "metadata": {},
   "source": [
    "Not great, right? We'll see in the next sections how to fit our model in order to get a much better predictor."
   ]
  },
  {
   "cell_type": "markdown",
   "metadata": {},
   "source": [
    "## 3. Gradient Descent"
   ]
  },
  {
   "cell_type": "markdown",
   "metadata": {},
   "source": [
    "Now we need to define a function to perform gradient descent on the weights $\\mathbf{w}$ using the update rules. First, write a function that computes the gradient of the loss function (`mse_gradient()`) and then use it in the `gradient_descent()` function to update the weights at every iteration.\n",
    "\n",
    "As seen in the previous section, our loss is:\n",
    "$$\n",
    "J(\\mathbf{w}) = \\frac{1}{N} (\\mathbf{X} \\mathbf{w}-\\mathbf{y})^{T} (\\mathbf{X} \\mathbf{w}-\\mathbf{y})\n",
    "$$\n",
    "\n",
    "Therefore, the derivative w.r.t to ${\\mathbf{w}}$ is:\n",
    "\n",
    "$$ \\nabla_{\\mathbf{w}} J(\\mathbf{w}) = \\frac{2}{N} \\mathbf{X}^{T} (\\mathbf{X} \\mathbf{w} - \\mathbf{y}) \n",
    "$$\n",
    "\n",
    "**Note:** You can use http://www.matrixcalculus.org/ to compute the gradient.\n",
    "\n",
    "\n",
    "The gradient descent formula is:\n",
    "$$\\mathbf{w} := \\mathbf{w} - \\alpha \\nabla_{\\mathbf{w}} J(\\mathbf{w})$$\n",
    "\n",
    "where $\\nabla_{\\mathbf{w}} J(\\mathbf{w})$ is the gradient of the loss function at the current iteration, $\\mathbf{w}$ is the weights vector, and $\\alpha$ is the learning rate.\n",
    "\n",
    "**Hint**: Use the matrix form of the gradient and make use of NumPy operations."
   ]
  },
  {
   "cell_type": "code",
   "execution_count": 15,
   "metadata": {},
   "outputs": [],
   "source": [
    "def mse_gradient(X: np.ndarray, y: np.ndarray, w: np.ndarray) -> np.ndarray:\n",
    "    \"\"\"Compute the gradient of the MSE\n",
    "    \n",
    "    Args:\n",
    "        X (np.ndarray): Dataset of shape (N, D)\n",
    "        y (np.ndarray): Labels of shape (N, )\n",
    "        w (np.ndarray): Weights of shape (D, )\n",
    "\n",
    "    Returns:\n",
    "        Gradient of shape (D, )\n",
    "    \"\"\"\n",
    "    ### START CODE HERE ### (≈ 2 lines of code)\n",
    "    \n",
    "    grad = (2/X.shape[0])*np.dot(X.T, (np.dot(X ,w) - y))\n",
    "    ### END CODE HERE ###\n",
    "    return grad\n"
   ]
  },
  {
   "cell_type": "code",
   "execution_count": 16,
   "metadata": {},
   "outputs": [],
   "source": [
    "def gradient_descent(X: np.ndarray, y: np.ndarray, w: np.ndarray, alpha: float, max_iters: int) -> (np.ndarray, np.ndarray):\n",
    "    \"\"\"Gradient descent for linear regression.\n",
    "    \n",
    "    Args:\n",
    "        X (np.ndarray): Dataset of shape (N, D)\n",
    "        y (np.ndarray): Labels of shape (N, )\n",
    "        w (np.ndarray): Weights of shape (D, )\n",
    "        alpha (float): Learning rate\n",
    "        max_iters (int): Maximum number of gradient descent iteration\n",
    "\n",
    "    Returns:\n",
    "        w (np.ndarray): Optimum weights of shape (D, )\n",
    "        losses (np.ndarray): Loss at every iteration of gradient descent. Shape is (max_iters, )\n",
    "    \"\"\"\n",
    "    # Define an array to store the evolution of the loss\n",
    "    losses = np.zeros(max_iters)\n",
    "    \n",
    "    for n_iter in range(max_iters):\n",
    "        ### START CODE HERE ### (≈ 2 lines of code)\n",
    "        # Update w using the gradient descent formula\n",
    "        \n",
    "        w = w-alpha*mse_gradient(X,y,w)\n",
    "        # Compute the loss with the updated w\n",
    "        loss = mse_loss(X, y, w)\n",
    "        ### END CODE HERE ###\n",
    "        \n",
    "        # Track losses\n",
    "        losses[n_iter] = loss\n",
    "        \n",
    "        # Print loss at some iterations\n",
    "        if n_iter % (max_iters / 20) == 0:\n",
    "            if w.shape[0] == 2: \n",
    "                print(f\"Iteration {n_iter}: loss={loss:.5f}, w0={w[0]:.3f}, w1={w[1]:.3f}\")\n",
    "            else:\n",
    "                print(f\"Iteration {n_iter}: loss={loss:.5f}\")\n",
    "\n",
    "    return w, losses"
   ]
  },
  {
   "cell_type": "markdown",
   "metadata": {},
   "source": [
    "Let's initialize some additional variables - the learning rate alpha, and the number of iterations to perform."
   ]
  },
  {
   "cell_type": "code",
   "execution_count": 17,
   "metadata": {},
   "outputs": [],
   "source": [
    "alpha = 0.01\n",
    "iters = 2000\n",
    "w = np.zeros((X_train.shape[1], ))"
   ]
  },
  {
   "cell_type": "markdown",
   "metadata": {},
   "source": [
    "Now let's run the gradient descent algorithm to fit our parameters theta to the training set."
   ]
  },
  {
   "cell_type": "code",
   "execution_count": 18,
   "metadata": {},
   "outputs": [
    {
     "name": "stdout",
     "output_type": "stream",
     "text": [
      "Iteration 0: loss=29.76341, w0=0.114, w1=1.251\n",
      "Iteration 100: loss=10.95049, w0=-1.165, w1=0.914\n",
      "Iteration 200: loss=10.16271, w0=-2.044, w1=1.005\n",
      "Iteration 300: loss=9.76061, w0=-2.673, w1=1.070\n",
      "Iteration 400: loss=9.55535, w0=-3.121, w1=1.116\n",
      "Iteration 500: loss=9.45059, w0=-3.442, w1=1.149\n",
      "Iteration 600: loss=9.39711, w0=-3.671, w1=1.172\n",
      "Iteration 700: loss=9.36981, w0=-3.835, w1=1.189\n",
      "Iteration 800: loss=9.35588, w0=-3.952, w1=1.201\n",
      "Iteration 900: loss=9.34877, w0=-4.036, w1=1.210\n",
      "Iteration 1000: loss=9.34514, w0=-4.095, w1=1.216\n",
      "Iteration 1100: loss=9.34328, w0=-4.138, w1=1.221\n",
      "Iteration 1200: loss=9.34234, w0=-4.168, w1=1.224\n",
      "Iteration 1300: loss=9.34186, w0=-4.190, w1=1.226\n",
      "Iteration 1400: loss=9.34161, w0=-4.206, w1=1.227\n",
      "Iteration 1500: loss=9.34148, w0=-4.217, w1=1.229\n",
      "Iteration 1600: loss=9.34142, w0=-4.225, w1=1.229\n",
      "Iteration 1700: loss=9.34139, w0=-4.230, w1=1.230\n",
      "Iteration 1800: loss=9.34137, w0=-4.235, w1=1.230\n",
      "Iteration 1900: loss=9.34136, w0=-4.237, w1=1.231\n"
     ]
    }
   ],
   "source": [
    "w, loss = gradient_descent(X_train, y_train, w, alpha, iters)"
   ]
  },
  {
   "cell_type": "markdown",
   "metadata": {},
   "source": [
    "Note that `gradient_descent` prints the loss and the values of the weights matrix, `w`. The reason is that `w` is at the core of our algorithm. Make sure to understand that the whole point of the learning algorithm is to update this `w` so that the linear regression model (described by `w`) fits the data as well as possible. As `X` and `y` are fixed, the only parameter that can be changed is `w`. This why we use the gradient of the loss w.r.t `w` in gradient descent. It enables us to get closer to the best value of `w` at every iteration."
   ]
  },
  {
   "cell_type": "markdown",
   "metadata": {},
   "source": [
    "Now, play with the learning rate, `alpha`, and the number of iterations, `iters`, to see how the convergence changes. Document your findings.\n",
    "\n",
    "__Hint__: \n",
    "- Try `alpha = 0.05`. What's happening? Try to guess why.\n",
    "- Try `alpha = 0.001`. Why is the final loss bigger than when `alpha = 0.01`?\n",
    "- Try `alpha = 0.001` with `iters = 20 000`. Is the problem of the loss solved?"
   ]
  },
  {
   "cell_type": "code",
   "execution_count": 19,
   "metadata": {},
   "outputs": [
    {
     "name": "stdout",
     "output_type": "stream",
     "text": [
      "Iteration 0: loss=29.76341, w0=0.114, w1=1.251\n",
      "Iteration 100: loss=10.95049, w0=-1.165, w1=0.914\n",
      "Iteration 200: loss=10.16271, w0=-2.044, w1=1.005\n",
      "Iteration 300: loss=9.76061, w0=-2.673, w1=1.070\n",
      "Iteration 400: loss=9.55535, w0=-3.121, w1=1.116\n",
      "Iteration 500: loss=9.45059, w0=-3.442, w1=1.149\n",
      "Iteration 600: loss=9.39711, w0=-3.671, w1=1.172\n",
      "Iteration 700: loss=9.36981, w0=-3.835, w1=1.189\n",
      "Iteration 800: loss=9.35588, w0=-3.952, w1=1.201\n",
      "Iteration 900: loss=9.34877, w0=-4.036, w1=1.210\n",
      "Iteration 1000: loss=9.34514, w0=-4.095, w1=1.216\n",
      "Iteration 1100: loss=9.34328, w0=-4.138, w1=1.221\n",
      "Iteration 1200: loss=9.34234, w0=-4.168, w1=1.224\n",
      "Iteration 1300: loss=9.34186, w0=-4.190, w1=1.226\n",
      "Iteration 1400: loss=9.34161, w0=-4.206, w1=1.227\n",
      "Iteration 1500: loss=9.34148, w0=-4.217, w1=1.229\n",
      "Iteration 1600: loss=9.34142, w0=-4.225, w1=1.229\n",
      "Iteration 1700: loss=9.34139, w0=-4.230, w1=1.230\n",
      "Iteration 1800: loss=9.34137, w0=-4.235, w1=1.230\n",
      "Iteration 1900: loss=9.34136, w0=-4.237, w1=1.231\n"
     ]
    }
   ],
   "source": [
    "alpha = 0.01 # Try changing this\n",
    "iters = 2000 # Try changing this\n",
    "w = np.zeros((X_train.shape[1], ))\n",
    "w, loss = gradient_descent(X_train, y_train, w, alpha, iters)"
   ]
  },
  {
   "cell_type": "markdown",
   "metadata": {},
   "source": [
    "Finally we can compute the loss (error) of the trained model using our fitted parameters."
   ]
  },
  {
   "cell_type": "code",
   "execution_count": 20,
   "metadata": {},
   "outputs": [
    {
     "name": "stdout",
     "output_type": "stream",
     "text": [
      "Train loss: 9.34136\n",
      "Test loss: 7.57149\n"
     ]
    }
   ],
   "source": [
    "train_loss = mse_loss(X_train, y_train, w)\n",
    "test_loss = mse_loss(X_test, y_test, w)\n",
    "print(f\"Train loss: {train_loss:.5f}\")\n",
    "print(f\"Test loss: {test_loss:.5f}\")"
   ]
  },
  {
   "cell_type": "markdown",
   "metadata": {},
   "source": [
    "**Expected output:** with `alpha = 0.01` and `iters = 2000`.\n",
    "\n",
    "|   |                                                  |\n",
    "|---|--------------------------------------------------|\n",
    "| **Train loss** |9.34136 |\n",
    "| **Test loss** | 7.57149 |"
   ]
  },
  {
   "cell_type": "markdown",
   "metadata": {},
   "source": [
    "Let's also look at how the regression line looks like."
   ]
  },
  {
   "cell_type": "code",
   "execution_count": 21,
   "metadata": {},
   "outputs": [
    {
     "data": {
      "image/png": "[encoded data removed]",
      "text/plain": [
       "<Figure size 800x600 with 1 Axes>"
      ]
     },
     "metadata": {},
     "output_type": "display_data"
    }
   ],
   "source": [
    "helpers.plot_linear_regression_2d(X=X_train, y=y_train, w=w, feature_name=\"population\", label_name=\"profit\")"
   ]
  },
  {
   "cell_type": "markdown",
   "metadata": {},
   "source": [
    "Looks pretty good! The red line is our trained model, it represents the estimated profit of our new restaurant for every population size possible. Remember that the model is 100% described by our parameters $\\mathbf{w}$ (in this case $\\mathbf{w} = [b, w_1]$). If we had chosen a $\\mathbf{w}$ that doesn't fit the model well, we would have gotten a red line that doesn't fit the data."
   ]
  },
  {
   "cell_type": "markdown",
   "metadata": {},
   "source": [
    "Since the gradient descent function also outputs a vector with the loss at each training iteration, we can plot that as well. The goal of gradient descent is to get a model that fits the data well, so we hope that the loss decreases throughout the iterations of gradient descent. Minimizing the MSE in linear regression is a convex optimization problem, so if everything goes well, it should reach a global minima."
   ]
  },
  {
   "cell_type": "code",
   "execution_count": 22,
   "metadata": {},
   "outputs": [
    {
     "data": {
      "image/png": "[encoded data removed]",
      "text/plain": [
       "<Figure size 600x600 with 1 Axes>"
      ]
     },
     "metadata": {},
     "output_type": "display_data"
    }
   ],
   "source": [
    "helpers.plot_loss(loss)"
   ]
  },
  {
   "cell_type": "markdown",
   "metadata": {},
   "source": [
    "If the plot had shown a non-decreasing function, it would have raised questions about the validity of our implementation of gradient descent. In any case, it's always good practice to plot this graph to see if our algorithm works as expected. "
   ]
  },
  {
   "cell_type": "markdown",
   "metadata": {},
   "source": [
    "## 4. Least squares method"
   ]
  },
  {
   "cell_type": "markdown",
   "metadata": {},
   "source": [
    "It turns out that linear regression with MSE is one of these rare cases where we can compute the optimum of the loss function analytically. Let's see how:\n",
    "\n",
    "\n",
    "Let's start from the loss function: \n",
    "$$\n",
    "\\begin{align}\n",
    "J(\\mathbf{w})  = \\frac{1}{N} \\sum_{i=1}^{N} (\\hat{y}^{(i)} -y^{(i)})^{2} \\\\\n",
    " = \\frac{1}{N} \\sum_{i=1}^{N} (\\mathbf{w}^T \\boldsymbol{x}^{(i)} -y^{(i)})^{2} \\\\\n",
    "= \\frac{1}{N} (\\mathbf{X}\\mathbf{w}-\\mathbf{y})^{T}(\\mathbf{X}\\mathbf{w}-\\mathbf{y})\n",
    "\\end{align}\n",
    "$$\n",
    "\n",
    "This function is convex in $\\mathbf{w}$, so let's try to find its minimum.\n",
    "\n",
    "Take the derivative with respect to $\\mathbf{w}$: (Use http://www.matrixcalculus.org/ if necessary)\n",
    "$$\n",
    "\\frac{\\partial J(\\mathbf{w})}{\\partial \\mathbf{w}}=\\frac{2}{N} \\mathbf{X}^{\\top}(\\mathbf{X} \\mathbf{w} - \\mathbf{y})\n",
    "$$\n",
    "Set to 0 and solve:\n",
    "$$\n",
    "\\begin{align}\n",
    "\\frac{2}{N} \\mathbf{X}^{\\top}(\\mathbf{X} \\mathbf{w} - \\mathbf{y}) = 0 \\\\\n",
    "\\Leftrightarrow \\mathbf{X}^{T} \\mathbf{X} \\mathbf{w} = \\mathbf{X}^{T} \\mathbf{y}\n",
    "\\end{align}\n",
    "$$\n",
    "\n",
    "\n",
    "Therefore, the linear regression model has an analytical solution in the form of the normal equations:\n",
    "$$\\hat{\\mathbf{w}} = (\\mathbf{X}^{T}\\mathbf{X)}^{-1} \\ \\mathbf{X}^{T} \\ \\mathbf{y}$$\n",
    "This is known as the **least squares** method. The advantage of this method is that you can directly get the optimal weights $\\mathbf{w}$ from this short matrix expression.\n",
    "\n",
    "Please use this solution to complete the function `least_squares` and to obtain the weight parameters $\\mathbf{w}$. \n",
    "\n",
    "**Note:** Use `np.linalg.solve` to solve a linear matrix equation, as it is more stable and more accurate than computing the inverse. You can find the documentation for this method [here](https://numpy.org/doc/stable/reference/generated/numpy.linalg.solve.html)."
   ]
  },
  {
   "cell_type": "code",
   "execution_count": 25,
   "metadata": {},
   "outputs": [],
   "source": [
    "def least_squares(X: np.ndarray, y: np.ndarray) -> np.ndarray:\n",
    "    \"\"\"Solves linear regression using least squares\n",
    "\n",
    "    Args:\n",
    "        X: Data of shape (N, D)\n",
    "        y: Labels of shape (N, )\n",
    "\n",
    "    Returns:\n",
    "        Weight parameters of shape (D, )\n",
    "    \"\"\"\n",
    "\n",
    "    ### START CODE HERE ### (≈ 1 line of code)\n",
    "    w = np.dot(np.linalg.inv(np.dot(X.T, X)), np.dot(X.T, y))\n",
    "    ### END CODE HERE ###\n",
    "    return w\n"
   ]
  },
  {
   "cell_type": "code",
   "execution_count": 26,
   "metadata": {},
   "outputs": [
    {
     "name": "stdout",
     "output_type": "stream",
     "text": [
      "[-4.24467437  1.23149916]\n"
     ]
    }
   ],
   "source": [
    "ls_w = least_squares(X_train, y_train)\n",
    "print(ls_w)"
   ]
  },
  {
   "cell_type": "code",
   "execution_count": 27,
   "metadata": {},
   "outputs": [
    {
     "name": "stdout",
     "output_type": "stream",
     "text": [
      "Train loss: 9.34135\n",
      "Test loss: 7.57472\n"
     ]
    }
   ],
   "source": [
    "train_loss = mse_loss(X_train, y_train, ls_w)\n",
    "test_loss = mse_loss(X_test, y_test, ls_w)\n",
    "print(f\"Train loss: {train_loss:.5f}\")\n",
    "print(f\"Test loss: {test_loss:.5f}\")"
   ]
  },
  {
   "cell_type": "markdown",
   "metadata": {},
   "source": [
    "**Expected output:** \n",
    "\n",
    "|   |                                                  |\n",
    "|---|--------------------------------------------------|\n",
    "| **Train loss** | 9.34135 |\n",
    "| **Test loss** | 7.57472 |"
   ]
  },
  {
   "cell_type": "code",
   "execution_count": 28,
   "metadata": {},
   "outputs": [
    {
     "data": {
      "image/png": "[encoded data removed]",
      "text/plain": [
       "<Figure size 800x600 with 1 Axes>"
      ]
     },
     "metadata": {},
     "output_type": "display_data"
    }
   ],
   "source": [
    "helpers.plot_linear_regression_2d(X=X_train, y=y_train, w=ls_w, feature_name=\"population\", label_name=\"profit\")"
   ]
  },
  {
   "cell_type": "markdown",
   "metadata": {},
   "source": [
    "**Question:** Compare the loss and plot obtained with least-squares to the loss and plot obtained with gradient descent. What can you say about these two methods, is the end result similar?\n",
    "\n",
    "**Answer:** The end result is very similar. "
   ]
  },
  {
   "cell_type": "markdown",
   "metadata": {},
   "source": [
    "## 5. Prediction\n",
    "Based on the weights ($\\mathbf{w}$), we just computed and the linear model, let's define a function `predict`, which we'll use to give a prediction of the expected restaurant profit ($\\hat{y}$) based on the population ($x$)"
   ]
  },
  {
   "cell_type": "code",
   "execution_count": 29,
   "metadata": {},
   "outputs": [],
   "source": [
    "def predict(X, w):\n",
    "    \"\"\"Predicts value using linear regression weights\n",
    "\n",
    "        Args:\n",
    "            X: Dataset (without the offset) of shape (M, D)\n",
    "            w: Weights (with bias term) of shape (D,)\n",
    "\n",
    "        Returns:\n",
    "            Predictions of shape (M, )\n",
    "    \"\"\"\n",
    "    ### START CODE HERE (≈ 1 line of code)\n",
    "    y_hat = np.dot(X,w)\n",
    "    ### END CODE HERE\n",
    "    return y_hat"
   ]
  },
  {
   "cell_type": "code",
   "execution_count": 30,
   "metadata": {},
   "outputs": [
    {
     "name": "stdout",
     "output_type": "stream",
     "text": [
      "A new restaurant in a city of 10'000 inhabitants has an expected profit of 8070.16 $.\n"
     ]
    }
   ],
   "source": [
    "# What's the predicted profit in a city of 10'000 inhabitants.\n",
    "expected_profit = predict([1, 10], w)\n",
    "print(f\"A new restaurant in a city of 10'000 inhabitants has an expected profit of {expected_profit*1000:.2f} $.\")"
   ]
  },
  {
   "cell_type": "markdown",
   "metadata": {},
   "source": [
    "## 6. Multiple Linear Regression\n"
   ]
  },
  {
   "cell_type": "markdown",
   "metadata": {},
   "source": [
    "Now, we're tasked with implementing linear regression with multiple features to predict the price of an house. We'll  see that the code implemented in the previous parts works just as well for multiple features.\n",
    "\n",
    "*Background: Suppose you want to buy a new house and you want to figure out if its price is too low or too high based on the current house market. You know the number of rooms and the size of the house you want to buy, and you are going to predict the market price of the house based on these two features.*"
   ]
  },
  {
   "cell_type": "markdown",
   "metadata": {},
   "source": [
    "### 6.1. House Dataset"
   ]
  },
  {
   "cell_type": "markdown",
   "metadata": {},
   "source": [
    "Here, we'll use a dataset containing information on houses in Portland, Oregon. This dataset consists of 47 houses with their respective size (in thousands of sqft), number of bedrooms and their respective price (in USD). Take a look at the file `house_data.csv` and see how it's loaded by running the cell below."
   ]
  },
  {
   "cell_type": "code",
   "execution_count": 31,
   "metadata": {},
   "outputs": [
    {
     "name": "stdout",
     "output_type": "stream",
     "text": [
      "There are 47 rows and 3 columns.\n"
     ]
    },
    {
     "data": {
      "text/html": [
       "<div>\n",
       "<style scoped>\n",
       "    .dataframe tbody tr th:only-of-type {\n",
       "        vertical-align: middle;\n",
       "    }\n",
       "\n",
       "    .dataframe tbody tr th {\n",
       "        vertical-align: top;\n",
       "    }\n",
       "\n",
       "    .dataframe thead th {\n",
       "        text-align: right;\n",
       "    }\n",
       "</style>\n",
       "<table border=\"1\" class=\"dataframe\">\n",
       "  <thead>\n",
       "    <tr style=\"text-align: right;\">\n",
       "      <th></th>\n",
       "      <th>size</th>\n",
       "      <th>bedroom</th>\n",
       "      <th>price</th>\n",
       "    </tr>\n",
       "  </thead>\n",
       "  <tbody>\n",
       "    <tr>\n",
       "      <th>0</th>\n",
       "      <td>2.104</td>\n",
       "      <td>3</td>\n",
       "      <td>399900</td>\n",
       "    </tr>\n",
       "    <tr>\n",
       "      <th>1</th>\n",
       "      <td>1.600</td>\n",
       "      <td>3</td>\n",
       "      <td>329900</td>\n",
       "    </tr>\n",
       "    <tr>\n",
       "      <th>2</th>\n",
       "      <td>2.400</td>\n",
       "      <td>3</td>\n",
       "      <td>369000</td>\n",
       "    </tr>\n",
       "    <tr>\n",
       "      <th>3</th>\n",
       "      <td>1.416</td>\n",
       "      <td>2</td>\n",
       "      <td>232000</td>\n",
       "    </tr>\n",
       "    <tr>\n",
       "      <th>4</th>\n",
       "      <td>3.000</td>\n",
       "      <td>4</td>\n",
       "      <td>539900</td>\n",
       "    </tr>\n",
       "  </tbody>\n",
       "</table>\n",
       "</div>"
      ],
      "text/plain": [
       "    size  bedroom   price\n",
       "0  2.104        3  399900\n",
       "1  1.600        3  329900\n",
       "2  2.400        3  369000\n",
       "3  1.416        2  232000\n",
       "4  3.000        4  539900"
      ]
     },
     "execution_count": 31,
     "metadata": {},
     "output_type": "execute_result"
    }
   ],
   "source": [
    "house_df = pd.read_csv('data/house_data.csv')\n",
    "\n",
    "print(f\"There are {house_df.shape[0]} rows and {house_df.shape[1]} columns.\")\n",
    "# Show the first 5 rows of the data\n",
    "house_df.head(5)"
   ]
  },
  {
   "cell_type": "markdown",
   "metadata": {},
   "source": [
    "We want to predict the price of a house using its size and number of bedrooms. "
   ]
  },
  {
   "cell_type": "code",
   "execution_count": 32,
   "metadata": {},
   "outputs": [],
   "source": [
    "# We'll use 80% of our data as training data and the remaining 20% as test data\n",
    "# Here, we use a random seed to ensure that the data shuffling and splitting can be reproduced\n",
    "X_train_mult, y_train_mult, X_test_mult, y_test_mult, feature_names_mult = helpers.preprocess_data(house_df, label=\"price\", train_size=0.8, seed=42)"
   ]
  },
  {
   "cell_type": "markdown",
   "metadata": {},
   "source": [
    "As in the simple linear regression case, we'll first add a constant term to our training data for the intercept."
   ]
  },
  {
   "cell_type": "code",
   "execution_count": 33,
   "metadata": {},
   "outputs": [],
   "source": [
    "X_train_mult = add_constant(X_train_mult)\n",
    "X_test_mult = add_constant(X_test_mult)"
   ]
  },
  {
   "cell_type": "code",
   "execution_count": 34,
   "metadata": {},
   "outputs": [
    {
     "name": "stdout",
     "output_type": "stream",
     "text": [
      "Features: ['size', 'bedroom']\n"
     ]
    }
   ],
   "source": [
    "print(f\"Features: {feature_names_mult}\")"
   ]
  },
  {
   "cell_type": "markdown",
   "metadata": {},
   "source": [
    "This time, there are several features. To be exact, we have 2 features and we can plot according to one feature at a time, to see how each feature correlates to the target variable `y`.\n",
    "\n",
    "Run the following cell with `feature_num = 1` and then with `feature_num = 2` (`0` is the constant term)."
   ]
  },
  {
   "cell_type": "code",
   "execution_count": 36,
   "metadata": {},
   "outputs": [
    {
     "data": {
      "image/png": "[encoded data removed]",
      "text/plain": [
       "<Figure size 640x480 with 1 Axes>"
      ]
     },
     "metadata": {},
     "output_type": "display_data"
    }
   ],
   "source": [
    "feature_num = 2\n",
    "plt.scatter(X_train_mult[:,feature_num], y_train_mult)\n",
    "\n",
    "plt.ylabel(\"price\")\n",
    "if feature_num == 0:\n",
    "    plt.xlabel(\"constant\")\n",
    "    plt.title(\"constant vs price\")\n",
    "else:\n",
    "    plt.xlabel(f\"{feature_names_mult[feature_num - 1]}\")\n",
    "    plt.title(f\"{feature_names_mult[feature_num - 1]} vs price\")"
   ]
  },
  {
   "cell_type": "markdown",
   "metadata": {},
   "source": [
    "It is also possible to plot the target variable according to both features. \n",
    "\n",
    "Using `plot_data_3d` from `helpers.py`, we can generate 3D plot that shows the training and test set according to both features. \n",
    "- You can toggle each dataset on or off by clicking on the legend (upper left). \n",
    "- You can also interact with the plot, zoom in and out, and see it through different angles. Try to carefully choose the view angle in order to get the equivalent of the 2 plots above (cancel one dimension)."
   ]
  },
  {
   "cell_type": "code",
   "execution_count": 38,
   "metadata": {},
   "outputs": [
    {
     "data": {
      "application/vnd.plotly.v1+json": {
       "config": {
        "plotlyServerURL": "https://plot.ly"
       },
       "data": [
        {
         "marker": {
          "opacity": 1,
          "size": 5
         },
         "mode": "markers",
         "name": "train",
         "type": "scatter3d",
         "x": [
          1.6,
          2.2,
          1.534,
          3.89,
          2.567,
          2.3,
          1.1,
          1.2,
          1.38,
          2.04,
          1.94,
          1.236,
          1.416,
          2.609,
          1.664,
          1.767,
          1.811,
          3.137,
          1.962,
          1.494,
          1.268,
          1.89,
          1.839,
          3.031,
          1,
          2,
          2.132,
          1.239,
          1.437,
          2.4,
          0.852,
          3,
          2.637,
          1.427,
          2.104,
          1.985,
          1.458
         ],
         "y": [
          3,
          3,
          3,
          3,
          4,
          4,
          3,
          3,
          3,
          4,
          4,
          3,
          2,
          4,
          2,
          3,
          4,
          3,
          4,
          3,
          3,
          3,
          2,
          4,
          1,
          3,
          4,
          3,
          3,
          3,
          2,
          4,
          3,
          3,
          3,
          4,
          3
         ],
         "z": [
          329900,
          475000,
          314900,
          573900,
          314000,
          449900,
          249900,
          299000,
          212000,
          314900,
          239999,
          199900,
          232000,
          499998,
          368500,
          252900,
          285900,
          579900,
          259900,
          242500,
          259900,
          329999,
          349900,
          599000,
          169900,
          347000,
          345000,
          229900,
          249900,
          369000,
          179900,
          539900,
          299900,
          198999,
          399900,
          299900,
          464500
         ]
        },
        {
         "marker": {
          "color": "green",
          "opacity": 1,
          "size": 5
         },
         "mode": "markers",
         "name": "test",
         "type": "scatter3d",
         "x": [
          1.604,
          1.852,
          2.162,
          4.478,
          1.32,
          1.203,
          4.215,
          1.888,
          2.238,
          2.526
         ],
         "y": [
          3,
          4,
          4,
          5,
          2,
          3,
          4,
          2,
          3,
          3
         ],
         "z": [
          242900,
          299900,
          287000,
          699900,
          299900,
          239500,
          549000,
          255000,
          329900,
          469000
         ]
        }
       ],
       "layout": {
        "autosize": true,
        "height": 500,
        "legend": {
         "x": 0.01,
         "xanchor": "left",
         "y": 0.99,
         "yanchor": "top"
        },
        "margin": {
         "b": 0,
         "l": 0,
         "r": 0,
         "t": 0
        },
        "scene": {
         "aspectmode": "auto",
         "aspectratio": {
          "x": 1,
          "y": 1,
          "z": 1
         },
         "camera": {
          "center": {
           "x": 0,
           "y": 0,
           "z": 0
          },
          "eye": {
           "x": 1.40039089215389,
           "y": 1.4003908921538897,
           "z": 1.40039089215389
          },
          "projection": {
           "type": "perspective"
          },
          "up": {
           "x": 0,
           "y": 0,
           "z": 1
          }
         },
         "xaxis": {
          "title": {
           "text": "size"
          },
          "type": "linear"
         },
         "yaxis": {
          "title": {
           "text": "bedroom"
          },
          "type": "linear"
         },
         "zaxis": {
          "title": {
           "text": "price"
          },
          "type": "linear"
         }
        },
        "template": {
         "data": {
          "bar": [
           {
            "error_x": {
             "color": "#2a3f5f"
            },
            "error_y": {
             "color": "#2a3f5f"
            },
            "marker": {
             "line": {
              "color": "#E5ECF6",
              "width": 0.5
             },
             "pattern": {
              "fillmode": "overlay",
              "size": 10,
              "solidity": 0.2
             }
            },
            "type": "bar"
           }
          ],
          "barpolar": [
           {
            "marker": {
             "line": {
              "color": "#E5ECF6",
              "width": 0.5
             },
             "pattern": {
              "fillmode": "overlay",
              "size": 10,
              "solidity": 0.2
             }
            },
            "type": "barpolar"
           }
          ],
          "carpet": [
           {
            "aaxis": {
             "endlinecolor": "#2a3f5f",
             "gridcolor": "white",
             "linecolor": "white",
             "minorgridcolor": "white",
             "startlinecolor": "#2a3f5f"
            },
            "baxis": {
             "endlinecolor": "#2a3f5f",
             "gridcolor": "white",
             "linecolor": "white",
             "minorgridcolor": "white",
             "startlinecolor": "#2a3f5f"
            },
            "type": "carpet"
           }
          ],
          "choropleth": [
           {
            "colorbar": {
             "outlinewidth": 0,
             "ticks": ""
            },
            "type": "choropleth"
           }
          ],
          "contour": [
           {
            "colorbar": {
             "outlinewidth": 0,
             "ticks": ""
            },
            "colorscale": [
             [
              0,
              "#0d0887"
             ],
             [
              0.1111111111111111,
              "#46039f"
             ],
             [
              0.2222222222222222,
              "#7201a8"
             ],
             [
              0.3333333333333333,
              "#9c179e"
             ],
             [
              0.4444444444444444,
              "#bd3786"
             ],
             [
              0.5555555555555556,
              "#d8576b"
             ],
             [
              0.6666666666666666,
              "#ed7953"
             ],
             [
              0.7777777777777778,
              "#fb9f3a"
             ],
             [
              0.8888888888888888,
              "#fdca26"
             ],
             [
              1,
              "#f0f921"
             ]
            ],
            "type": "contour"
           }
          ],
          "contourcarpet": [
           {
            "colorbar": {
             "outlinewidth": 0,
             "ticks": ""
            },
            "type": "contourcarpet"
           }
          ],
          "heatmap": [
           {
            "colorbar": {
             "outlinewidth": 0,
             "ticks": ""
            },
            "colorscale": [
             [
              0,
              "#0d0887"
             ],
             [
              0.1111111111111111,
              "#46039f"
             ],
             [
              0.2222222222222222,
              "#7201a8"
             ],
             [
              0.3333333333333333,
              "#9c179e"
             ],
             [
              0.4444444444444444,
              "#bd3786"
             ],
             [
              0.5555555555555556,
              "#d8576b"
             ],
             [
              0.6666666666666666,
              "#ed7953"
             ],
             [
              0.7777777777777778,
              "#fb9f3a"
             ],
             [
              0.8888888888888888,
              "#fdca26"
             ],
             [
              1,
              "#f0f921"
             ]
            ],
            "type": "heatmap"
           }
          ],
          "heatmapgl": [
           {
            "colorbar": {
             "outlinewidth": 0,
             "ticks": ""
            },
            "colorscale": [
             [
              0,
              "#0d0887"
             ],
             [
              0.1111111111111111,
              "#46039f"
             ],
             [
              0.2222222222222222,
              "#7201a8"
             ],
             [
              0.3333333333333333,
              "#9c179e"
             ],
             [
              0.4444444444444444,
              "#bd3786"
             ],
             [
              0.5555555555555556,
              "#d8576b"
             ],
             [
              0.6666666666666666,
              "#ed7953"
             ],
             [
              0.7777777777777778,
              "#fb9f3a"
             ],
             [
              0.8888888888888888,
              "#fdca26"
             ],
             [
              1,
              "#f0f921"
             ]
            ],
            "type": "heatmapgl"
           }
          ],
          "histogram": [
           {
            "marker": {
             "pattern": {
              "fillmode": "overlay",
              "size": 10,
              "solidity": 0.2
             }
            },
            "type": "histogram"
           }
          ],
          "histogram2d": [
           {
            "colorbar": {
             "outlinewidth": 0,
             "ticks": ""
            },
            "colorscale": [
             [
              0,
              "#0d0887"
             ],
             [
              0.1111111111111111,
              "#46039f"
             ],
             [
              0.2222222222222222,
              "#7201a8"
             ],
             [
              0.3333333333333333,
              "#9c179e"
             ],
             [
              0.4444444444444444,
              "#bd3786"
             ],
             [
              0.5555555555555556,
              "#d8576b"
             ],
             [
              0.6666666666666666,
              "#ed7953"
             ],
             [
              0.7777777777777778,
              "#fb9f3a"
             ],
             [
              0.8888888888888888,
              "#fdca26"
             ],
             [
              1,
              "#f0f921"
             ]
            ],
            "type": "histogram2d"
           }
          ],
          "histogram2dcontour": [
           {
            "colorbar": {
             "outlinewidth": 0,
             "ticks": ""
            },
            "colorscale": [
             [
              0,
              "#0d0887"
             ],
             [
              0.1111111111111111,
              "#46039f"
             ],
             [
              0.2222222222222222,
              "#7201a8"
             ],
             [
              0.3333333333333333,
              "#9c179e"
             ],
             [
              0.4444444444444444,
              "#bd3786"
             ],
             [
              0.5555555555555556,
              "#d8576b"
             ],
             [
              0.6666666666666666,
              "#ed7953"
             ],
             [
              0.7777777777777778,
              "#fb9f3a"
             ],
             [
              0.8888888888888888,
              "#fdca26"
             ],
             [
              1,
              "#f0f921"
             ]
            ],
            "type": "histogram2dcontour"
           }
          ],
          "mesh3d": [
           {
            "colorbar": {
             "outlinewidth": 0,
             "ticks": ""
            },
            "type": "mesh3d"
           }
          ],
          "parcoords": [
           {
            "line": {
             "colorbar": {
              "outlinewidth": 0,
              "ticks": ""
             }
            },
            "type": "parcoords"
           }
          ],
          "pie": [
           {
            "automargin": true,
            "type": "pie"
           }
          ],
          "scatter": [
           {
            "fillpattern": {
             "fillmode": "overlay",
             "size": 10,
             "solidity": 0.2
            },
            "type": "scatter"
           }
          ],
          "scatter3d": [
           {
            "line": {
             "colorbar": {
              "outlinewidth": 0,
              "ticks": ""
             }
            },
            "marker": {
             "colorbar": {
              "outlinewidth": 0,
              "ticks": ""
             }
            },
            "type": "scatter3d"
           }
          ],
          "scattercarpet": [
           {
            "marker": {
             "colorbar": {
              "outlinewidth": 0,
              "ticks": ""
             }
            },
            "type": "scattercarpet"
           }
          ],
          "scattergeo": [
           {
            "marker": {
             "colorbar": {
              "outlinewidth": 0,
              "ticks": ""
             }
            },
            "type": "scattergeo"
           }
          ],
          "scattergl": [
           {
            "marker": {
             "colorbar": {
              "outlinewidth": 0,
              "ticks": ""
             }
            },
            "type": "scattergl"
           }
          ],
          "scattermapbox": [
           {
            "marker": {
             "colorbar": {
              "outlinewidth": 0,
              "ticks": ""
             }
            },
            "type": "scattermapbox"
           }
          ],
          "scatterpolar": [
           {
            "marker": {
             "colorbar": {
              "outlinewidth": 0,
              "ticks": ""
             }
            },
            "type": "scatterpolar"
           }
          ],
          "scatterpolargl": [
           {
            "marker": {
             "colorbar": {
              "outlinewidth": 0,
              "ticks": ""
             }
            },
            "type": "scatterpolargl"
           }
          ],
          "scatterternary": [
           {
            "marker": {
             "colorbar": {
              "outlinewidth": 0,
              "ticks": ""
             }
            },
            "type": "scatterternary"
           }
          ],
          "surface": [
           {
            "colorbar": {
             "outlinewidth": 0,
             "ticks": ""
            },
            "colorscale": [
             [
              0,
              "#0d0887"
             ],
             [
              0.1111111111111111,
              "#46039f"
             ],
             [
              0.2222222222222222,
              "#7201a8"
             ],
             [
              0.3333333333333333,
              "#9c179e"
             ],
             [
              0.4444444444444444,
              "#bd3786"
             ],
             [
              0.5555555555555556,
              "#d8576b"
             ],
             [
              0.6666666666666666,
              "#ed7953"
             ],
             [
              0.7777777777777778,
              "#fb9f3a"
             ],
             [
              0.8888888888888888,
              "#fdca26"
             ],
             [
              1,
              "#f0f921"
             ]
            ],
            "type": "surface"
           }
          ],
          "table": [
           {
            "cells": {
             "fill": {
              "color": "#EBF0F8"
             },
             "line": {
              "color": "white"
             }
            },
            "header": {
             "fill": {
              "color": "#C8D4E3"
             },
             "line": {
              "color": "white"
             }
            },
            "type": "table"
           }
          ]
         },
         "layout": {
          "annotationdefaults": {
           "arrowcolor": "#2a3f5f",
           "arrowhead": 0,
           "arrowwidth": 1
          },
          "autotypenumbers": "strict",
          "coloraxis": {
           "colorbar": {
            "outlinewidth": 0,
            "ticks": ""
           }
          },
          "colorscale": {
           "diverging": [
            [
             0,
             "#8e0152"
            ],
            [
             0.1,
             "#c51b7d"
            ],
            [
             0.2,
             "#de77ae"
            ],
            [
             0.3,
             "#f1b6da"
            ],
            [
             0.4,
             "#fde0ef"
            ],
            [
             0.5,
             "#f7f7f7"
            ],
            [
             0.6,
             "#e6f5d0"
            ],
            [
             0.7,
             "#b8e186"
            ],
            [
             0.8,
             "#7fbc41"
            ],
            [
             0.9,
             "#4d9221"
            ],
            [
             1,
             "#276419"
            ]
           ],
           "sequential": [
            [
             0,
             "#0d0887"
            ],
            [
             0.1111111111111111,
             "#46039f"
            ],
            [
             0.2222222222222222,
             "#7201a8"
            ],
            [
             0.3333333333333333,
             "#9c179e"
            ],
            [
             0.4444444444444444,
             "#bd3786"
            ],
            [
             0.5555555555555556,
             "#d8576b"
            ],
            [
             0.6666666666666666,
             "#ed7953"
            ],
            [
             0.7777777777777778,
             "#fb9f3a"
            ],
            [
             0.8888888888888888,
             "#fdca26"
            ],
            [
             1,
             "#f0f921"
            ]
           ],
           "sequentialminus": [
            [
             0,
             "#0d0887"
            ],
            [
             0.1111111111111111,
             "#46039f"
            ],
            [
             0.2222222222222222,
             "#7201a8"
            ],
            [
             0.3333333333333333,
             "#9c179e"
            ],
            [
             0.4444444444444444,
             "#bd3786"
            ],
            [
             0.5555555555555556,
             "#d8576b"
            ],
            [
             0.6666666666666666,
             "#ed7953"
            ],
            [
             0.7777777777777778,
             "#fb9f3a"
            ],
            [
             0.8888888888888888,
             "#fdca26"
            ],
            [
             1,
             "#f0f921"
            ]
           ]
          },
          "colorway": [
           "#636efa",
           "#EF553B",
           "#00cc96",
           "#ab63fa",
           "#FFA15A",
           "#19d3f3",
           "#FF6692",
           "#B6E880",
           "#FF97FF",
           "#FECB52"
          ],
          "font": {
           "color": "#2a3f5f"
          },
          "geo": {
           "bgcolor": "white",
           "lakecolor": "white",
           "landcolor": "#E5ECF6",
           "showlakes": true,
           "showland": true,
           "subunitcolor": "white"
          },
          "hoverlabel": {
           "align": "left"
          },
          "hovermode": "closest",
          "mapbox": {
           "style": "light"
          },
          "paper_bgcolor": "white",
          "plot_bgcolor": "#E5ECF6",
          "polar": {
           "angularaxis": {
            "gridcolor": "white",
            "linecolor": "white",
            "ticks": ""
           },
           "bgcolor": "#E5ECF6",
           "radialaxis": {
            "gridcolor": "white",
            "linecolor": "white",
            "ticks": ""
           }
          },
          "scene": {
           "xaxis": {
            "backgroundcolor": "#E5ECF6",
            "gridcolor": "white",
            "gridwidth": 2,
            "linecolor": "white",
            "showbackground": true,
            "ticks": "",
            "zerolinecolor": "white"
           },
           "yaxis": {
            "backgroundcolor": "#E5ECF6",
            "gridcolor": "white",
            "gridwidth": 2,
            "linecolor": "white",
            "showbackground": true,
            "ticks": "",
            "zerolinecolor": "white"
           },
           "zaxis": {
            "backgroundcolor": "#E5ECF6",
            "gridcolor": "white",
            "gridwidth": 2,
            "linecolor": "white",
            "showbackground": true,
            "ticks": "",
            "zerolinecolor": "white"
           }
          },
          "shapedefaults": {
           "line": {
            "color": "#2a3f5f"
           }
          },
          "ternary": {
           "aaxis": {
            "gridcolor": "white",
            "linecolor": "white",
            "ticks": ""
           },
           "baxis": {
            "gridcolor": "white",
            "linecolor": "white",
            "ticks": ""
           },
           "bgcolor": "#E5ECF6",
           "caxis": {
            "gridcolor": "white",
            "linecolor": "white",
            "ticks": ""
           }
          },
          "title": {
           "x": 0.05
          },
          "xaxis": {
           "automargin": true,
           "gridcolor": "white",
           "linecolor": "white",
           "ticks": "",
           "title": {
            "standoff": 15
           },
           "zerolinecolor": "white",
           "zerolinewidth": 2
          },
          "yaxis": {
           "automargin": true,
           "gridcolor": "white",
           "linecolor": "white",
           "ticks": "",
           "title": {
            "standoff": 15
           },
           "zerolinecolor": "white",
           "zerolinewidth": 2
          }
         }
        },
        "width": 500
       }
      },
      "image/png": "[encoded data removed]",
      "text/html": [
       "<div>                            <div id=\"156e4fe7-e940-4ef7-aecf-ca86eb1fbb01\" class=\"plotly-graph-div\" style=\"height:500px; width:500px;\"></div>            <script type=\"text/javascript\">                require([\"plotly\"], function(Plotly) {                    window.PLOTLYENV=window.PLOTLYENV || {};                                    if (document.getElementById(\"156e4fe7-e940-4ef7-aecf-ca86eb1fbb01\")) {                    Plotly.newPlot(                        \"156e4fe7-e940-4ef7-aecf-ca86eb1fbb01\",                        [{\"marker\":{\"opacity\":1.0,\"size\":5},\"mode\":\"markers\",\"name\":\"train\",\"x\":[1.6,2.2,1.534,3.89,2.567,2.3,1.1,1.2,1.38,2.04,1.94,1.236,1.416,2.609,1.664,1.767,1.811,3.137,1.962,1.494,1.268,1.89,1.839,3.031,1.0,2.0,2.132,1.239,1.437,2.4,0.852,3.0,2.637,1.427,2.104,1.985,1.458],\"y\":[3.0,3.0,3.0,3.0,4.0,4.0,3.0,3.0,3.0,4.0,4.0,3.0,2.0,4.0,2.0,3.0,4.0,3.0,4.0,3.0,3.0,3.0,2.0,4.0,1.0,3.0,4.0,3.0,3.0,3.0,2.0,4.0,3.0,3.0,3.0,4.0,3.0],\"z\":[329900,475000,314900,573900,314000,449900,249900,299000,212000,314900,239999,199900,232000,499998,368500,252900,285900,579900,259900,242500,259900,329999,349900,599000,169900,347000,345000,229900,249900,369000,179900,539900,299900,198999,399900,299900,464500],\"type\":\"scatter3d\"},{\"marker\":{\"color\":\"green\",\"opacity\":1.0,\"size\":5},\"mode\":\"markers\",\"name\":\"test\",\"x\":[1.604,1.852,2.162,4.478,1.32,1.203,4.215,1.888,2.238,2.526],\"y\":[3.0,4.0,4.0,5.0,2.0,3.0,4.0,2.0,3.0,3.0],\"z\":[242900,299900,287000,699900,299900,239500,549000,255000,329900,469000],\"type\":\"scatter3d\"}],                        {\"template\":{\"data\":{\"histogram2dcontour\":[{\"type\":\"histogram2dcontour\",\"colorbar\":{\"outlinewidth\":0,\"ticks\":\"\"},\"colorscale\":[[0.0,\"#0d0887\"],[0.1111111111111111,\"#46039f\"],[0.2222222222222222,\"#7201a8\"],[0.3333333333333333,\"#9c179e\"],[0.4444444444444444,\"#bd3786\"],[0.5555555555555556,\"#d8576b\"],[0.6666666666666666,\"#ed7953\"],[0.7777777777777778,\"#fb9f3a\"],[0.8888888888888888,\"#fdca26\"],[1.0,\"#f0f921\"]]}],\"choropleth\":[{\"type\":\"choropleth\",\"colorbar\":{\"outlinewidth\":0,\"ticks\":\"\"}}],\"histogram2d\":[{\"type\":\"histogram2d\",\"colorbar\":{\"outlinewidth\":0,\"ticks\":\"\"},\"colorscale\":[[0.0,\"#0d0887\"],[0.1111111111111111,\"#46039f\"],[0.2222222222222222,\"#7201a8\"],[0.3333333333333333,\"#9c179e\"],[0.4444444444444444,\"#bd3786\"],[0.5555555555555556,\"#d8576b\"],[0.6666666666666666,\"#ed7953\"],[0.7777777777777778,\"#fb9f3a\"],[0.8888888888888888,\"#fdca26\"],[1.0,\"#f0f921\"]]}],\"heatmap\":[{\"type\":\"heatmap\",\"colorbar\":{\"outlinewidth\":0,\"ticks\":\"\"},\"colorscale\":[[0.0,\"#0d0887\"],[0.1111111111111111,\"#46039f\"],[0.2222222222222222,\"#7201a8\"],[0.3333333333333333,\"#9c179e\"],[0.4444444444444444,\"#bd3786\"],[0.5555555555555556,\"#d8576b\"],[0.6666666666666666,\"#ed7953\"],[0.7777777777777778,\"#fb9f3a\"],[0.8888888888888888,\"#fdca26\"],[1.0,\"#f0f921\"]]}],\"heatmapgl\":[{\"type\":\"heatmapgl\",\"colorbar\":{\"outlinewidth\":0,\"ticks\":\"\"},\"colorscale\":[[0.0,\"#0d0887\"],[0.1111111111111111,\"#46039f\"],[0.2222222222222222,\"#7201a8\"],[0.3333333333333333,\"#9c179e\"],[0.4444444444444444,\"#bd3786\"],[0.5555555555555556,\"#d8576b\"],[0.6666666666666666,\"#ed7953\"],[0.7777777777777778,\"#fb9f3a\"],[0.8888888888888888,\"#fdca26\"],[1.0,\"#f0f921\"]]}],\"contourcarpet\":[{\"type\":\"contourcarpet\",\"colorbar\":{\"outlinewidth\":0,\"ticks\":\"\"}}],\"contour\":[{\"type\":\"contour\",\"colorbar\":{\"outlinewidth\":0,\"ticks\":\"\"},\"colorscale\":[[0.0,\"#0d0887\"],[0.1111111111111111,\"#46039f\"],[0.2222222222222222,\"#7201a8\"],[0.3333333333333333,\"#9c179e\"],[0.4444444444444444,\"#bd3786\"],[0.5555555555555556,\"#d8576b\"],[0.6666666666666666,\"#ed7953\"],[0.7777777777777778,\"#fb9f3a\"],[0.8888888888888888,\"#fdca26\"],[1.0,\"#f0f921\"]]}],\"surface\":[{\"type\":\"surface\",\"colorbar\":{\"outlinewidth\":0,\"ticks\":\"\"},\"colorscale\":[[0.0,\"#0d0887\"],[0.1111111111111111,\"#46039f\"],[0.2222222222222222,\"#7201a8\"],[0.3333333333333333,\"#9c179e\"],[0.4444444444444444,\"#bd3786\"],[0.5555555555555556,\"#d8576b\"],[0.6666666666666666,\"#ed7953\"],[0.7777777777777778,\"#fb9f3a\"],[0.8888888888888888,\"#fdca26\"],[1.0,\"#f0f921\"]]}],\"mesh3d\":[{\"type\":\"mesh3d\",\"colorbar\":{\"outlinewidth\":0,\"ticks\":\"\"}}],\"scatter\":[{\"fillpattern\":{\"fillmode\":\"overlay\",\"size\":10,\"solidity\":0.2},\"type\":\"scatter\"}],\"parcoords\":[{\"type\":\"parcoords\",\"line\":{\"colorbar\":{\"outlinewidth\":0,\"ticks\":\"\"}}}],\"scatterpolargl\":[{\"type\":\"scatterpolargl\",\"marker\":{\"colorbar\":{\"outlinewidth\":0,\"ticks\":\"\"}}}],\"bar\":[{\"error_x\":{\"color\":\"#2a3f5f\"},\"error_y\":{\"color\":\"#2a3f5f\"},\"marker\":{\"line\":{\"color\":\"#E5ECF6\",\"width\":0.5},\"pattern\":{\"fillmode\":\"overlay\",\"size\":10,\"solidity\":0.2}},\"type\":\"bar\"}],\"scattergeo\":[{\"type\":\"scattergeo\",\"marker\":{\"colorbar\":{\"outlinewidth\":0,\"ticks\":\"\"}}}],\"scatterpolar\":[{\"type\":\"scatterpolar\",\"marker\":{\"colorbar\":{\"outlinewidth\":0,\"ticks\":\"\"}}}],\"histogram\":[{\"marker\":{\"pattern\":{\"fillmode\":\"overlay\",\"size\":10,\"solidity\":0.2}},\"type\":\"histogram\"}],\"scattergl\":[{\"type\":\"scattergl\",\"marker\":{\"colorbar\":{\"outlinewidth\":0,\"ticks\":\"\"}}}],\"scatter3d\":[{\"type\":\"scatter3d\",\"line\":{\"colorbar\":{\"outlinewidth\":0,\"ticks\":\"\"}},\"marker\":{\"colorbar\":{\"outlinewidth\":0,\"ticks\":\"\"}}}],\"scattermapbox\":[{\"type\":\"scattermapbox\",\"marker\":{\"colorbar\":{\"outlinewidth\":0,\"ticks\":\"\"}}}],\"scatterternary\":[{\"type\":\"scatterternary\",\"marker\":{\"colorbar\":{\"outlinewidth\":0,\"ticks\":\"\"}}}],\"scattercarpet\":[{\"type\":\"scattercarpet\",\"marker\":{\"colorbar\":{\"outlinewidth\":0,\"ticks\":\"\"}}}],\"carpet\":[{\"aaxis\":{\"endlinecolor\":\"#2a3f5f\",\"gridcolor\":\"white\",\"linecolor\":\"white\",\"minorgridcolor\":\"white\",\"startlinecolor\":\"#2a3f5f\"},\"baxis\":{\"endlinecolor\":\"#2a3f5f\",\"gridcolor\":\"white\",\"linecolor\":\"white\",\"minorgridcolor\":\"white\",\"startlinecolor\":\"#2a3f5f\"},\"type\":\"carpet\"}],\"table\":[{\"cells\":{\"fill\":{\"color\":\"#EBF0F8\"},\"line\":{\"color\":\"white\"}},\"header\":{\"fill\":{\"color\":\"#C8D4E3\"},\"line\":{\"color\":\"white\"}},\"type\":\"table\"}],\"barpolar\":[{\"marker\":{\"line\":{\"color\":\"#E5ECF6\",\"width\":0.5},\"pattern\":{\"fillmode\":\"overlay\",\"size\":10,\"solidity\":0.2}},\"type\":\"barpolar\"}],\"pie\":[{\"automargin\":true,\"type\":\"pie\"}]},\"layout\":{\"autotypenumbers\":\"strict\",\"colorway\":[\"#636efa\",\"#EF553B\",\"#00cc96\",\"#ab63fa\",\"#FFA15A\",\"#19d3f3\",\"#FF6692\",\"#B6E880\",\"#FF97FF\",\"#FECB52\"],\"font\":{\"color\":\"#2a3f5f\"},\"hovermode\":\"closest\",\"hoverlabel\":{\"align\":\"left\"},\"paper_bgcolor\":\"white\",\"plot_bgcolor\":\"#E5ECF6\",\"polar\":{\"bgcolor\":\"#E5ECF6\",\"angularaxis\":{\"gridcolor\":\"white\",\"linecolor\":\"white\",\"ticks\":\"\"},\"radialaxis\":{\"gridcolor\":\"white\",\"linecolor\":\"white\",\"ticks\":\"\"}},\"ternary\":{\"bgcolor\":\"#E5ECF6\",\"aaxis\":{\"gridcolor\":\"white\",\"linecolor\":\"white\",\"ticks\":\"\"},\"baxis\":{\"gridcolor\":\"white\",\"linecolor\":\"white\",\"ticks\":\"\"},\"caxis\":{\"gridcolor\":\"white\",\"linecolor\":\"white\",\"ticks\":\"\"}},\"coloraxis\":{\"colorbar\":{\"outlinewidth\":0,\"ticks\":\"\"}},\"colorscale\":{\"sequential\":[[0.0,\"#0d0887\"],[0.1111111111111111,\"#46039f\"],[0.2222222222222222,\"#7201a8\"],[0.3333333333333333,\"#9c179e\"],[0.4444444444444444,\"#bd3786\"],[0.5555555555555556,\"#d8576b\"],[0.6666666666666666,\"#ed7953\"],[0.7777777777777778,\"#fb9f3a\"],[0.8888888888888888,\"#fdca26\"],[1.0,\"#f0f921\"]],\"sequentialminus\":[[0.0,\"#0d0887\"],[0.1111111111111111,\"#46039f\"],[0.2222222222222222,\"#7201a8\"],[0.3333333333333333,\"#9c179e\"],[0.4444444444444444,\"#bd3786\"],[0.5555555555555556,\"#d8576b\"],[0.6666666666666666,\"#ed7953\"],[0.7777777777777778,\"#fb9f3a\"],[0.8888888888888888,\"#fdca26\"],[1.0,\"#f0f921\"]],\"diverging\":[[0,\"#8e0152\"],[0.1,\"#c51b7d\"],[0.2,\"#de77ae\"],[0.3,\"#f1b6da\"],[0.4,\"#fde0ef\"],[0.5,\"#f7f7f7\"],[0.6,\"#e6f5d0\"],[0.7,\"#b8e186\"],[0.8,\"#7fbc41\"],[0.9,\"#4d9221\"],[1,\"#276419\"]]},\"xaxis\":{\"gridcolor\":\"white\",\"linecolor\":\"white\",\"ticks\":\"\",\"title\":{\"standoff\":15},\"zerolinecolor\":\"white\",\"automargin\":true,\"zerolinewidth\":2},\"yaxis\":{\"gridcolor\":\"white\",\"linecolor\":\"white\",\"ticks\":\"\",\"title\":{\"standoff\":15},\"zerolinecolor\":\"white\",\"automargin\":true,\"zerolinewidth\":2},\"scene\":{\"xaxis\":{\"backgroundcolor\":\"#E5ECF6\",\"gridcolor\":\"white\",\"linecolor\":\"white\",\"showbackground\":true,\"ticks\":\"\",\"zerolinecolor\":\"white\",\"gridwidth\":2},\"yaxis\":{\"backgroundcolor\":\"#E5ECF6\",\"gridcolor\":\"white\",\"linecolor\":\"white\",\"showbackground\":true,\"ticks\":\"\",\"zerolinecolor\":\"white\",\"gridwidth\":2},\"zaxis\":{\"backgroundcolor\":\"#E5ECF6\",\"gridcolor\":\"white\",\"linecolor\":\"white\",\"showbackground\":true,\"ticks\":\"\",\"zerolinecolor\":\"white\",\"gridwidth\":2}},\"shapedefaults\":{\"line\":{\"color\":\"#2a3f5f\"}},\"annotationdefaults\":{\"arrowcolor\":\"#2a3f5f\",\"arrowhead\":0,\"arrowwidth\":1},\"geo\":{\"bgcolor\":\"white\",\"landcolor\":\"#E5ECF6\",\"subunitcolor\":\"white\",\"showland\":true,\"showlakes\":true,\"lakecolor\":\"white\"},\"title\":{\"x\":0.05},\"mapbox\":{\"style\":\"light\"}}},\"margin\":{\"l\":0,\"r\":0,\"b\":0,\"t\":0},\"autosize\":true,\"width\":500,\"height\":500,\"scene\":{\"xaxis\":{\"title\":{\"text\":\"size\"}},\"yaxis\":{\"title\":{\"text\":\"bedroom\"}},\"zaxis\":{\"title\":{\"text\":\"price\"}}},\"legend\":{\"yanchor\":\"top\",\"y\":0.99,\"xanchor\":\"left\",\"x\":0.01}},                        {\"responsive\": true}                    ).then(function(){\n",
       "                            \n",
       "var gd = document.getElementById('156e4fe7-e940-4ef7-aecf-ca86eb1fbb01');\n",
       "var x = new MutationObserver(function (mutations, observer) {{\n",
       "        var display = window.getComputedStyle(gd).display;\n",
       "        if (!display || display === 'none') {{\n",
       "            console.log([gd, 'removed!']);\n",
       "            Plotly.purge(gd);\n",
       "            observer.disconnect();\n",
       "        }}\n",
       "}});\n",
       "\n",
       "// Listen for the removal of the full notebook cells\n",
       "var notebookContainer = gd.closest('#notebook-container');\n",
       "if (notebookContainer) {{\n",
       "    x.observe(notebookContainer, {childList: true});\n",
       "}}\n",
       "\n",
       "// Listen for the clearing of the current output cell\n",
       "var outputEl = gd.closest('.output');\n",
       "if (outputEl) {{\n",
       "    x.observe(outputEl, {childList: true});\n",
       "}}\n",
       "\n",
       "                        })                };                });            </script>        </div>"
      ]
     },
     "metadata": {},
     "output_type": "display_data"
    }
   ],
   "source": [
    "helpers.plot_data_3d(X_train=X_train_mult, y_train=y_train_mult, X_test=X_test_mult, y_test=y_test_mult, feature_names=feature_names_mult, label_name=\"price\")"
   ]
  },
  {
   "cell_type": "markdown",
   "metadata": {},
   "source": [
    "### 6.2 Normalization\n",
    "\n",
    "Should we normalize / standardize features in multiple regression?\n",
    "\n",
    "This depends on the regression method used:\n",
    "- When using gradient descent, normalizing features can result in much faster convergence, and we'll see later on in this class a technique which takes advantage of this. However, as the scales of our features are similar here, normalization is unlikely to cause much of a difference. For more information, check out [this short post](https://stats.stackexchange.com/a/437848).\n",
    "\n",
    "- Least square is **invariant** to normalization, so there is no need to normalize the data in this case.\n",
    "\n",
    "Here, we'll omit the normalization step for the sake of simplicity.\n"
   ]
  },
  {
   "cell_type": "markdown",
   "metadata": {},
   "source": [
    "### 6.3 Training"
   ]
  },
  {
   "cell_type": "markdown",
   "metadata": {},
   "source": [
    "#### 6.3.1. Gradient Descent"
   ]
  },
  {
   "cell_type": "markdown",
   "metadata": {},
   "source": [
    "If you have implemented the function `gradient_descent` correctly in section 1, you should be able to use it for multiple features.\n",
    "\n",
    "Try to call `gradient_descent(X_train_mult, y_train_mult, np.zeros((X_train_mult.shape[1], )), 0.02, 5000)`. \n",
    "If it doesn't work, go back to your `gradient_descent` function in section 1, write in matrix form, rerun the function cell and try to call it again with the above parameters. "
   ]
  },
  {
   "cell_type": "code",
   "execution_count": 39,
   "metadata": {},
   "outputs": [
    {
     "name": "stdout",
     "output_type": "stream",
     "text": [
      "Iteration 0: loss=26788004726.26656\n",
      "Iteration 250: loss=4439356520.23351\n",
      "Iteration 500: loss=4361352449.60215\n",
      "Iteration 750: loss=4337880173.01012\n",
      "Iteration 1000: loss=4328000950.24214\n",
      "Iteration 1250: loss=4323820567.95870\n",
      "Iteration 1500: loss=4322051517.23414\n",
      "Iteration 1750: loss=4321302891.09512\n",
      "Iteration 2000: loss=4320986087.79754\n",
      "Iteration 2250: loss=4320852023.11005\n",
      "Iteration 2500: loss=4320795289.67144\n",
      "Iteration 2750: loss=4320771281.23853\n",
      "Iteration 3000: loss=4320761121.35989\n",
      "Iteration 3250: loss=4320756821.90668\n",
      "Iteration 3500: loss=4320755002.46587\n",
      "Iteration 3750: loss=4320754232.51566\n",
      "Iteration 4000: loss=4320753906.68845\n",
      "Iteration 4250: loss=4320753768.80503\n",
      "Iteration 4500: loss=4320753710.45558\n",
      "Iteration 4750: loss=4320753685.76328\n"
     ]
    }
   ],
   "source": [
    "w_mult, loss = gradient_descent(X_train_mult, y_train_mult, np.zeros((X_train_mult.shape[1], )), 0.02, 5000)"
   ]
  },
  {
   "cell_type": "markdown",
   "metadata": {},
   "source": [
    "Then, as usual, we can compute the loss of our newly trained model."
   ]
  },
  {
   "cell_type": "code",
   "execution_count": 40,
   "metadata": {},
   "outputs": [
    {
     "name": "stdout",
     "output_type": "stream",
     "text": [
      "Train loss: 4320753675.3\n",
      "Test loss: 3673378116.2\n"
     ]
    }
   ],
   "source": [
    "train_loss = mse_loss(X_train_mult, y_train_mult, w_mult)\n",
    "test_loss = mse_loss(X_test_mult, y_test_mult, w_mult)\n",
    "print(f\"Train loss: {train_loss:.1f}\")\n",
    "print(f\"Test loss: {test_loss:.1f}\")"
   ]
  },
  {
   "cell_type": "markdown",
   "metadata": {},
   "source": [
    "**Expected output:** \n",
    "\n",
    "|   |                                                  |\n",
    "|---|--------------------------------------------------|\n",
    "| **Train loss** | 4320753675.3 |\n",
    "| **Test loss** | 3673378116.2 |"
   ]
  },
  {
   "cell_type": "markdown",
   "metadata": {},
   "source": [
    "#### 6.3.2. Least squares"
   ]
  },
  {
   "cell_type": "markdown",
   "metadata": {},
   "source": [
    "If `least_squares` is implemented correctly, it should also be able to work without any modification for multiple features."
   ]
  },
  {
   "cell_type": "code",
   "execution_count": 41,
   "metadata": {},
   "outputs": [
    {
     "name": "stdout",
     "output_type": "stream",
     "text": [
      "[ 81384.86960857 149522.37193738 -10621.1243639 ]\n"
     ]
    }
   ],
   "source": [
    "ls_w_mult = least_squares(X_train_mult, y_train_mult)\n",
    "print(ls_w_mult)"
   ]
  },
  {
   "cell_type": "code",
   "execution_count": 42,
   "metadata": {},
   "outputs": [
    {
     "name": "stdout",
     "output_type": "stream",
     "text": [
      "Train loss: 4320753667.6\n",
      "Test loss: 3673281817.0\n"
     ]
    }
   ],
   "source": [
    "train_loss = mse_loss(X_train_mult, y_train_mult, ls_w_mult)\n",
    "test_loss = mse_loss(X_test_mult, y_test_mult, ls_w_mult)\n",
    "print(f\"Train loss: {train_loss:.1f}\")\n",
    "print(f\"Test loss: {test_loss:.1f}\")"
   ]
  },
  {
   "cell_type": "markdown",
   "metadata": {},
   "source": [
    "**Expected output:** \n",
    "\n",
    "|   |                                                  |\n",
    "|---|--------------------------------------------------|\n",
    "| **Train loss** | 4320753667.6 |\n",
    "| **Test loss** | 3673281817.0 |"
   ]
  },
  {
   "cell_type": "markdown",
   "metadata": {},
   "source": [
    "This output is a realistic one. Taking the square root of the test loss we get an approximation of the average difference between our model prediction and the reality (the Root Mean Square Error, or RMSE)."
   ]
  },
  {
   "cell_type": "code",
   "execution_count": 43,
   "metadata": {},
   "outputs": [
    {
     "name": "stdout",
     "output_type": "stream",
     "text": [
      "The average difference between the predicted price and the actual price of a house (on the test set) is 60607.60527350844 $.\n"
     ]
    }
   ],
   "source": [
    "average_difference = np.sqrt(test_loss)\n",
    "print(\"The average difference between the predicted price and the actual price of a house (on the test set) is\",average_difference,\"$.\")"
   ]
  },
  {
   "cell_type": "markdown",
   "metadata": {},
   "source": [
    "When using MSE, this is a good practice to make sense of the result loss in a tangible way in order to evaluate if the model performs well or not. A big loss doesn't necessarily translates to a poor model. For example, here, our model has a ~18% relative error (because the average house price is 340,000$). If we had obtain the same loss for a model predicting a variable of average value 65 000, the same loss would have translated to a ~92% relative error."
   ]
  },
  {
   "cell_type": "markdown",
   "metadata": {},
   "source": [
    "### 6.4. Plotting the regression surface"
   ]
  },
  {
   "cell_type": "markdown",
   "metadata": {},
   "source": [
    "Now that our model is trained, we can plot the regression surface using `plot_surface_3d` from `helpers`. "
   ]
  },
  {
   "cell_type": "code",
   "execution_count": 45,
   "metadata": {},
   "outputs": [
    {
     "data": {
      "application/vnd.plotly.v1+json": {
       "config": {
        "plotlyServerURL": "https://plot.ly"
       },
       "data": [
        {
         "marker": {
          "opacity": 1,
          "size": 5
         },
         "mode": "markers",
         "name": "train",
         "type": "scatter3d",
         "x": [
          1.6,
          2.2,
          1.534,
          3.89,
          2.567,
          2.3,
          1.1,
          1.2,
          1.38,
          2.04,
          1.94,
          1.236,
          1.416,
          2.609,
          1.664,
          1.767,
          1.811,
          3.137,
          1.962,
          1.494,
          1.268,
          1.89,
          1.839,
          3.031,
          1,
          2,
          2.132,
          1.239,
          1.437,
          2.4,
          0.852,
          3,
          2.637,
          1.427,
          2.104,
          1.985,
          1.458
         ],
         "y": [
          3,
          3,
          3,
          3,
          4,
          4,
          3,
          3,
          3,
          4,
          4,
          3,
          2,
          4,
          2,
          3,
          4,
          3,
          4,
          3,
          3,
          3,
          2,
          4,
          1,
          3,
          4,
          3,
          3,
          3,
          2,
          4,
          3,
          3,
          3,
          4,
          3
         ],
         "z": [
          329900,
          475000,
          314900,
          573900,
          314000,
          449900,
          249900,
          299000,
          212000,
          314900,
          239999,
          199900,
          232000,
          499998,
          368500,
          252900,
          285900,
          579900,
          259900,
          242500,
          259900,
          329999,
          349900,
          599000,
          169900,
          347000,
          345000,
          229900,
          249900,
          369000,
          179900,
          539900,
          299900,
          198999,
          399900,
          299900,
          464500
         ]
        },
        {
         "marker": {
          "color": "green",
          "opacity": 1,
          "size": 5
         },
         "mode": "markers",
         "name": "test",
         "type": "scatter3d",
         "x": [
          1.604,
          1.852,
          2.162,
          4.478,
          1.32,
          1.203,
          4.215,
          1.888,
          2.238,
          2.526
         ],
         "y": [
          3,
          4,
          4,
          5,
          2,
          3,
          4,
          2,
          3,
          3
         ],
         "z": [
          242900,
          299900,
          287000,
          699900,
          299900,
          239500,
          549000,
          255000,
          329900,
          469000
         ]
        },
        {
         "name": "pred_surface",
         "opacity": 0.7,
         "type": "surface",
         "x": [
          0.4894,
          0.56192,
          0.6344399999999999,
          0.7069599999999999,
          0.77948,
          0.8519999999999999,
          0.9245199999999998,
          0.9970399999999999,
          1.0695599999999998,
          1.1420799999999998,
          1.2145999999999997,
          1.2871199999999998,
          1.3596399999999997,
          1.4321599999999997,
          1.5046799999999998,
          1.5771999999999997,
          1.6497199999999996,
          1.7222399999999995,
          1.7947599999999995,
          1.8672799999999996,
          1.9397999999999995,
          2.0123199999999994,
          2.0848399999999994,
          2.1573599999999993,
          2.229879999999999,
          2.302399999999999,
          2.374919999999999,
          2.4474399999999994,
          2.5199599999999993,
          2.5924799999999992,
          2.664999999999999,
          2.737519999999999,
          2.810039999999999,
          2.882559999999999,
          2.955079999999999,
          3.0275999999999987,
          3.1001199999999987,
          3.172639999999999,
          3.245159999999999,
          3.317679999999999,
          3.3901999999999988,
          3.4627199999999987,
          3.5352399999999986,
          3.6077599999999985,
          3.680279999999999,
          3.752799999999999,
          3.8253199999999987,
          3.8978399999999986,
          3.9703599999999986,
          4.0428799999999985,
          4.115399999999998,
          4.187919999999998,
          4.260439999999998,
          4.332959999999999,
          4.405479999999999,
          4.477999999999999,
          4.550519999999999,
          4.623039999999999,
          4.695559999999999,
          4.7680799999999985,
          4.8405999999999985
         ],
         "y": [
          0.6,
          0.6799999999999999,
          0.7599999999999999,
          0.8399999999999999,
          0.9199999999999998,
          0.9999999999999998,
          1.0799999999999996,
          1.1599999999999997,
          1.2399999999999998,
          1.3199999999999996,
          1.3999999999999995,
          1.4799999999999995,
          1.5599999999999996,
          1.6399999999999997,
          1.7199999999999993,
          1.7999999999999994,
          1.8799999999999994,
          1.9599999999999995,
          2.039999999999999,
          2.119999999999999,
          2.1999999999999993,
          2.2799999999999994,
          2.359999999999999,
          2.439999999999999,
          2.519999999999999,
          2.599999999999999,
          2.6799999999999993,
          2.759999999999999,
          2.839999999999999,
          2.919999999999999,
          2.9999999999999987,
          3.0799999999999987,
          3.159999999999999,
          3.239999999999999,
          3.319999999999999,
          3.3999999999999986,
          3.4799999999999986,
          3.5599999999999987,
          3.6399999999999983,
          3.7199999999999984,
          3.7999999999999985,
          3.8799999999999986,
          3.9599999999999986,
          4.039999999999998,
          4.119999999999998,
          4.199999999999998,
          4.279999999999998,
          4.359999999999998,
          4.439999999999998,
          4.519999999999998,
          4.599999999999998,
          4.679999999999998,
          4.759999999999998,
          4.839999999999997,
          4.919999999999997,
          4.999999999999997,
          5.079999999999997,
          5.1599999999999975,
          5.2399999999999975,
          5.319999999999998,
          5.399999999999997
         ],
         "z": [
          [
           148178.00179927377,
           159021.419787083,
           169864.83777489222,
           180708.25576270148,
           191551.67375051073,
           202395.09173831996,
           213238.5097261292,
           224081.92771393846,
           234925.34570174772,
           245768.76368955694,
           256612.1816773662,
           267455.5996651754,
           278299.0176529847,
           289142.43564079393,
           299985.85362860316,
           310829.27161641244,
           321672.68960422167,
           332516.1075920309,
           343359.5255798402,
           354202.9435676494,
           365046.3615554586,
           375889.77954326785,
           386733.1975310771,
           397576.6155188863,
           408420.0335066956,
           419263.4514945048,
           430106.86948231404,
           440950.2874701233,
           451793.70545793255,
           462637.12344574183,
           473480.54143355106,
           484323.9594213603,
           495167.3774091695,
           506010.79539697873,
           516854.213384788,
           527697.6313725973,
           538541.0493604065,
           549384.4673482158,
           560227.8853360249,
           571071.3033238342,
           581914.7213116435,
           592758.1392994528,
           603601.557287262,
           614444.9752750712,
           625288.3932628805,
           636131.8112506898,
           646975.2292384991,
           657818.6472263082,
           668662.0652141175,
           679505.4832019267,
           690348.901189736,
           701192.3191775451,
           712035.7371653544,
           722879.1551531638,
           733722.573140973,
           744565.9911287823,
           755409.4091165916,
           766252.8271044007,
           777096.24509221,
           787939.6630800192,
           798783.0810678285
          ],
          [
           147328.58960163328,
           158172.00758944254,
           169015.42557725176,
           179858.843565061,
           190702.26155287027,
           201545.6795406795,
           212389.09752848872,
           223232.515516298,
           234075.93350410726,
           244919.3514919165,
           255762.76947972574,
           266606.187467535,
           277449.6054553442,
           288293.0234431535,
           299136.44143096276,
           309979.859418772,
           320823.2774065812,
           331666.69539439044,
           342510.11338219966,
           353353.53137000895,
           364196.9493578182,
           375040.3673456274,
           385883.7853334366,
           396727.20332124585,
           407570.62130905513,
           418414.03929686436,
           429257.4572846736,
           440100.87527248287,
           450944.2932602921,
           461787.7112481014,
           472631.1292359106,
           483474.5472237198,
           494317.96521152905,
           505161.3831993383,
           516004.80118714756,
           526848.2191749568,
           537691.637162766,
           548535.0551505752,
           559378.4731383845,
           570221.8911261938,
           581065.3091140031,
           591908.7271018123,
           602752.1450896215,
           613595.5630774307,
           624438.98106524,
           635282.3990530493,
           646125.8170408586,
           656969.2350286677,
           667812.653016477,
           678656.0710042862,
           689499.4889920955,
           700342.9069799046,
           711186.3249677139,
           722029.7429555233,
           732873.1609433325,
           743716.5789311418,
           754559.996918951,
           765403.4149067602,
           776246.8328945695,
           787090.2508823787,
           797933.668870188
          ],
          [
           146479.17740399283,
           157322.59539180208,
           168166.0133796113,
           179009.43136742053,
           189852.84935522982,
           200696.26734303904,
           211539.68533084827,
           222383.10331865752,
           233226.52130646678,
           244069.939294276,
           254913.35728208526,
           265756.7752698945,
           276600.19325770374,
           287443.61124551296,
           298287.02923332225,
           309130.44722113153,
           319973.8652089407,
           330817.28319675,
           341660.7011845592,
           352504.1191723685,
           363347.5371601777,
           374190.95514798694,
           385034.37313579617,
           395877.7911236054,
           406721.2091114147,
           417564.6270992239,
           428408.0450870331,
           439251.4630748424,
           450094.88106265164,
           460938.2990504609,
           471781.71703827014,
           482625.13502607937,
           493468.5530138886,
           504311.9710016978,
           515155.3889895071,
           525998.8069773163,
           536842.2249651256,
           547685.6429529348,
           558529.0609407441,
           569372.4789285534,
           580215.8969163626,
           591059.3149041717,
           601902.732891981,
           612746.1508797903,
           623589.5688675996,
           634432.9868554089,
           645276.4048432182,
           656119.8228310273,
           666963.2408188366,
           677806.6588066458,
           688650.0767944551,
           699493.4947822642,
           710336.9127700735,
           721180.3307578829,
           732023.7487456921,
           742867.1667335014,
           753710.5847213106,
           764554.0027091198,
           775397.4206969291,
           786240.8386847383,
           797084.2566725475
          ],
          [
           145629.76520635237,
           156473.1831941616,
           167316.60118197085,
           178160.01916978008,
           189003.43715758933,
           199846.8551453986,
           210690.2731332078,
           221533.69112101707,
           232377.10910882632,
           243220.52709663555,
           254063.9450844448,
           264907.36307225405,
           275750.7810600633,
           286594.19904787256,
           297437.6170356818,
           308281.035023491,
           319124.4530113003,
           329967.87099910947,
           340811.28898691875,
           351654.70697472803,
           362498.12496253726,
           373341.5429503465,
           384184.9609381557,
           395028.37892596493,
           405871.7969137742,
           416715.21490158344,
           427558.63288939267,
           438402.05087720195,
           449245.4688650112,
           460088.88685282046,
           470932.3048406297,
           481775.7228284389,
           492619.14081624814,
           503462.55880405736,
           514305.97679186665,
           525149.3947796759,
           535992.8127674852,
           546836.2307552944,
           557679.6487431036,
           568523.0667309129,
           579366.4847187221,
           590209.9027065313,
           601053.3206943406,
           611896.7386821498,
           622740.1566699591,
           633583.5746577684,
           644426.9926455776,
           655270.4106333868,
           666113.8286211961,
           676957.2466090053,
           687800.6645968145,
           698644.0825846237,
           709487.500572433,
           720330.9185602424,
           731174.3365480516,
           742017.7545358608,
           752861.1725236701,
           763704.5905114793,
           774548.0084992886,
           785391.4264870977,
           796234.844474907
          ],
          [
           144780.35300871189,
           155623.77099652114,
           166467.1889843304,
           177310.60697213962,
           188154.02495994887,
           198997.44294775813,
           209840.86093556735,
           220684.2789233766,
           231527.69691118586,
           242371.1148989951,
           253214.53288680434,
           264057.9508746136,
           274901.3688624228,
           285744.78685023205,
           296588.20483804133,
           307431.6228258506,
           318275.0408136598,
           329118.45880146907,
           339961.8767892783,
           350805.2947770876,
           361648.7127648968,
           372492.130752706,
           383335.54874051525,
           394178.9667283245,
           405022.38471613376,
           415865.802703943,
           426709.2206917522,
           437552.6386795615,
           448396.0566673707,
           459239.47465518,
           470082.89264298923,
           480926.31063079846,
           491769.7286186077,
           502613.1466064169,
           513456.5645942262,
           524299.9825820355,
           535143.4005698446,
           545986.8185576539,
           556830.2365454631,
           567673.6545332724,
           578517.0725210817,
           589360.490508891,
           600203.9084967002,
           611047.3264845093,
           621890.7444723186,
           632734.1624601278,
           643577.5804479371,
           654420.9984357463,
           665264.4164235556,
           676107.8344113647,
           686951.252399174,
           697794.6703869832,
           708638.0883747925,
           719481.5063626019,
           730324.924350411,
           741168.3423382203,
           752011.7603260296,
           762855.1783138388,
           773698.5963016481,
           784542.0142894572,
           795385.4322772665
          ],
          [
           143930.94081107143,
           154774.35879888065,
           165617.7767866899,
           176461.19477449916,
           187304.6127623084,
           198148.03075011764,
           208991.4487379269,
           219834.86672573615,
           230678.2847135454,
           241521.70270135463,
           252365.1206891639,
           263208.53867697314,
           274051.95666478237,
           284895.37465259165,
           295738.7926404009,
           306582.2106282101,
           317425.6286160194,
           328269.04660382855,
           339112.46459163784,
           349955.8825794471,
           360799.30056725634,
           371642.71855506557,
           382486.1365428748,
           393329.554530684,
           404172.9725184933,
           415016.39050630253,
           425859.80849411176,
           436703.22648192104,
           447546.64446973026,
           458390.06245753955,
           469233.4804453488,
           480076.898433158,
           490920.3164209672,
           501763.73440877645,
           512607.15239658573,
           523450.57038439496,
           534293.9883722041,
           545137.4063600134,
           555980.8243478227,
           566824.242335632,
           577667.6603234413,
           588511.0783112504,
           599354.4962990597,
           610197.9142868689,
           621041.3322746782,
           631884.7502624874,
           642728.1682502967,
           653571.5862381059,
           664415.0042259152,
           675258.4222137243,
           686101.8402015336,
           696945.2581893428,
           707788.6761771521,
           718632.0941649615,
           729475.5121527707,
           740318.9301405799,
           751162.3481283892,
           762005.7661161984,
           772849.1841040077,
           783692.6020918168,
           794536.0200796261
          ],
          [
           143081.52861343097,
           153924.9466012402,
           164768.36458904945,
           175611.7825768587,
           186455.20056466793,
           197298.6185524772,
           208142.03654028644,
           218985.45452809567,
           229828.87251590492,
           240672.29050371415,
           251515.7084915234,
           262359.1264793327,
           273202.54446714185,
           284045.96245495114,
           294889.3804427604,
           305732.79843056964,
           316576.21641837887,
           327419.6344061881,
           338263.0523939973,
           349106.47038180666,
           359949.8883696159,
           370793.3063574251,
           381636.72434523434,
           392480.14233304356,
           403323.56032085285,
           414166.9783086621,
           425010.3962964713,
           435853.8142842806,
           446697.2322720898,
           457540.6502598991,
           468384.0682477083,
           479227.48623551754,
           490070.90422332677,
           500914.322211136,
           511757.7401989453,
           522601.1581867545,
           533444.5761745637,
           544287.994162373,
           555131.4121501823,
           565974.8301379916,
           576818.2481258007,
           587661.6661136099,
           598505.0841014192,
           609348.5020892284,
           620191.9200770376,
           631035.3380648469,
           641878.7560526562,
           652722.1740404654,
           663565.5920282747,
           674409.0100160838,
           685252.4280038931,
           696095.8459917023,
           706939.2639795116,
           717782.681967321,
           728626.0999551301,
           739469.5179429394,
           750312.9359307487,
           761156.3539185579,
           771999.7719063672,
           782843.1898941763,
           793686.6078819856
          ],
          [
           142232.11641579052,
           153075.53440359974,
           163918.95239140897,
           174762.37037921822,
           185605.78836702748,
           196449.2063548367,
           207292.62434264596,
           218136.0423304552,
           228979.46031826446,
           239822.8783060737,
           250666.29629388294,
           261509.7142816922,
           272353.13226950145,
           283196.5502573107,
           294039.9682451199,
           304883.3862329292,
           315726.8042207384,
           326570.22220854764,
           337413.6401963569,
           348257.0581841662,
           359100.47617197543,
           369943.89415978466,
           380787.3121475939,
           391630.7301354031,
           402474.1481232124,
           413317.5661110216,
           424160.98409883084,
           435004.4020866401,
           445847.82007444935,
           456691.23806225864,
           467534.65605006786,
           478378.0740378771,
           489221.4920256863,
           500064.91001349554,
           510908.3280013048,
           521751.74598911405,
           532595.1639769233,
           543438.5819647326,
           554281.9999525418,
           565125.4179403511,
           575968.8359281602,
           586812.2539159695,
           597655.6719037788,
           608499.089891588,
           619342.5078793972,
           630185.9258672065,
           641029.3438550158,
           651872.761842825,
           662716.1798306343,
           673559.5978184434,
           684403.0158062527,
           695246.4337940619,
           706089.8517818712,
           716933.2697696806,
           727776.6877574897,
           738620.105745299,
           749463.5237331083,
           760306.9417209175,
           771150.3597087268,
           781993.7776965359,
           792837.1956843452
          ],
          [
           141382.70421815003,
           152226.12220595928,
           163069.5401937685,
           173912.95818157776,
           184756.37616938702,
           195599.79415719624,
           206443.2121450055,
           217286.63013281475,
           228130.048120624,
           238973.46610843323,
           249816.8840962425,
           260660.30208405174,
           271503.72007186094,
           282347.1380596702,
           293190.5560474795,
           304033.97403528873,
           314877.39202309796,
           325720.8100109072,
           336564.2279987164,
           347407.6459865257,
           358251.0639743349,
           369094.48196214414,
           379937.89994995337,
           390781.3179377626,
           401624.7359255719,
           412468.1539133811,
           423311.5719011903,
           434154.9898889996,
           444998.40787680884,
           455841.8258646181,
           466685.24385242735,
           477528.6618402366,
           488372.0798280458,
           499215.497815855,
           510058.9158036643,
           520902.33379147353,
           531745.7517792827,
           542589.169767092,
           553432.5877549013,
           564276.0057427105,
           575119.4237305198,
           585962.841718329,
           596806.2597061383,
           607649.6776939475,
           618493.0956817567,
           629336.513669566,
           640179.9316573753,
           651023.3496451845,
           661866.7676329938,
           672710.1856208029,
           683553.6036086122,
           694397.0215964214,
           705240.4395842307,
           716083.85757204,
           726927.2755598492,
           737770.6935476585,
           748614.1115354678,
           759457.529523277,
           770300.9475110862,
           781144.3654988954,
           791987.7834867047
          ],
          [
           140533.29202050957,
           151376.71000831883,
           162220.12799612805,
           173063.54598393728,
           183906.96397174656,
           194750.3819595558,
           205593.799947365,
           216437.2179351743,
           227280.63592298355,
           238124.05391079278,
           248967.47189860203,
           259810.88988641129,
           270654.30787422054,
           281497.72586202977,
           292341.143849839,
           303184.5618376483,
           314027.9798254575,
           324871.3978132667,
           335714.815801076,
           346558.23378888523,
           357401.65177669446,
           368245.0697645037,
           379088.4877523129,
           389931.90574012214,
           400775.3237279314,
           411618.74171574065,
           422462.15970354987,
           433305.57769135915,
           444148.9956791684,
           454992.41366697766,
           465835.8316547869,
           476679.2496425961,
           487522.66763040534,
           498366.08561821457,
           509209.50360602385,
           520052.9215938331,
           530896.3395816423,
           541739.7575694516,
           552583.1755572609,
           563426.5935450702,
           574270.0115328793,
           585113.4295206885,
           595956.8475084978,
           606800.265496307,
           617643.6834841163,
           628487.1014719256,
           639330.5194597349,
           650173.9374475441,
           661017.3554353534,
           671860.7734231625,
           682704.1914109718,
           693547.609398781,
           704391.0273865903,
           715234.4453743997,
           726077.8633622088,
           736921.2813500181,
           747764.6993378274,
           758608.1173256366,
           769451.5353134458,
           780294.953301255,
           791138.3712890643
          ],
          [
           139683.87982286912,
           150527.29781067837,
           161370.7157984876,
           172214.13378629682,
           183057.5517741061,
           193900.96976191533,
           204744.38774972456,
           215587.8057375338,
           226431.22372534306,
           237274.6417131523,
           248118.05970096154,
           258961.4776887708,
           269804.89567658,
           280648.3136643893,
           291491.73165219853,
           302335.14964000776,
           313178.56762781704,
           324021.9856156262,
           334865.4036034355,
           345708.8215912448,
           356552.239579054,
           367395.6575668632,
           378239.07555467245,
           389082.4935424817,
           399925.91153029096,
           410769.3295181002,
           421612.7475059094,
           432456.1654937187,
           443299.5834815279,
           454143.0014693372,
           464986.41945714643,
           475829.83744495566,
           486673.2554327649,
           497516.6734205741,
           508360.0914083834,
           519203.5093961926,
           530046.9273840019,
           540890.3453718112,
           551733.7633596204,
           562577.1813474296,
           573420.5993352388,
           584264.0173230481,
           595107.4353108574,
           605950.8532986665,
           616794.2712864758,
           627637.6892742851,
           638481.1072620944,
           649324.5252499036,
           660167.9432377128,
           671011.361225522,
           681854.7792133313,
           692698.1972011405,
           703541.6151889497,
           714385.0331767591,
           725228.4511645683,
           736071.8691523776,
           746915.2871401869,
           757758.705127996,
           768602.1231158053,
           779445.5411036145,
           790288.9590914238
          ],
          [
           138834.46762522863,
           149677.88561303788,
           160521.30360084714,
           171364.72158865636,
           182208.13957646562,
           193051.55756427487,
           203894.9755520841,
           214738.39353989335,
           225581.8115277026,
           236425.22951551183,
           247268.6475033211,
           258112.06549113034,
           268955.48347893957,
           279798.9014667488,
           290642.3194545581,
           301485.73744236736,
           312329.1554301765,
           323172.5734179858,
           334015.99140579504,
           344859.4093936043,
           355702.82738141355,
           366546.2453692228,
           377389.663357032,
           388233.0813448412,
           399076.4993326505,
           409919.91732045973,
           420763.33530826896,
           431606.75329607824,
           442450.17128388747,
           453293.58927169675,
           464137.007259506,
           474980.4252473152,
           485823.8432351244,
           496667.26122293365,
           507510.67921074294,
           518354.09719855216,
           529197.5151863614,
           540040.9331741707,
           550884.3511619798,
           561727.7691497891,
           572571.1871375984,
           583414.6051254077,
           594258.023113217,
           605101.441101026,
           615944.8590888354,
           626788.2770766447,
           637631.695064454,
           648475.1130522632,
           659318.5310400724,
           670161.9490278816,
           681005.3670156909,
           691848.7850035001,
           702692.2029913093,
           713535.6209791187,
           724379.0389669279,
           735222.4569547372,
           746065.8749425465,
           756909.2929303556,
           767752.7109181649,
           778596.1289059741,
           789439.5468937834
          ],
          [
           137985.05542758817,
           148828.47341539743,
           159671.89140320665,
           170515.3093910159,
           181358.72737882516,
           192202.1453666344,
           203045.56335444364,
           213888.9813422529,
           224732.39933006215,
           235575.81731787138,
           246419.23530568063,
           257262.6532934899,
           268106.0712812991,
           278949.4892691084,
           289792.9072569176,
           300636.32524472685,
           311479.74323253613,
           322323.1612203453,
           333166.5792081546,
           344009.99719596386,
           354853.4151837731,
           365696.8331715823,
           376540.25115939154,
           387383.66914720077,
           398227.08713501005,
           409070.5051228193,
           419913.9231106285,
           430757.3410984378,
           441600.759086247,
           452444.1770740563,
           463287.5950618655,
           474131.01304967474,
           484974.43103748397,
           495817.8490252932,
           506661.2670131025,
           517504.6850009117,
           528348.1029887209,
           539191.5209765302,
           550034.9389643394,
           560878.3569521487,
           571721.774939958,
           582565.1929277672,
           593408.6109155765,
           604252.0289033856,
           615095.4468911949,
           625938.8648790042,
           636782.2828668135,
           647625.7008546226,
           658469.1188424319,
           669312.5368302411,
           680155.9548180504,
           690999.3728058595,
           701842.7907936688,
           712686.2087814782,
           723529.6267692874,
           734373.0447570967,
           745216.462744906,
           756059.8807327151,
           766903.2987205244,
           777746.7167083336,
           788590.1346961429
          ],
          [
           137135.64322994772,
           147979.06121775694,
           158822.4792055662,
           169665.89719337545,
           180509.31518118468,
           191352.73316899393,
           202196.1511568032,
           213039.5691446124,
           223882.9871324217,
           234726.40512023092,
           245569.82310804015,
           256413.24109584943,
           267256.65908365865,
           278100.0770714679,
           288943.49505927716,
           299786.9130470864,
           310630.3310348956,
           321473.74902270484,
           332317.1670105141,
           343160.5849983234,
           354004.00298613263,
           364847.42097394186,
           375690.8389617511,
           386534.2569495603,
           397377.6749373696,
           408221.0929251788,
           419064.51091298804,
           429907.9289007973,
           440751.34688860655,
           451594.76487641584,
           462438.18286422506,
           473281.6008520343,
           484125.0188398435,
           494968.43682765274,
           505811.854815462,
           516655.27280327125,
           527498.6907910805,
           538342.1087788898,
           549185.526766699,
           560028.9447545083,
           570872.3627423175,
           581715.7807301267,
           592559.198717936,
           603402.6167057452,
           614246.0346935544,
           625089.4526813637,
           635932.870669173,
           646776.2886569821,
           657619.7066447914,
           668463.1246326006,
           679306.5426204099,
           690149.960608219,
           700993.3785960283,
           711836.7965838377,
           722680.2145716469,
           733523.6325594562,
           744367.0505472654,
           755210.4685350746,
           766053.8865228839,
           776897.3045106931,
           787740.7224985023
          ],
          [
           136286.23103230726,
           147129.64902011649,
           157973.06700792574,
           168816.484995735,
           179659.90298354422,
           190503.32097135347,
           201346.73895916273,
           212190.15694697195,
           223033.5749347812,
           233876.99292259043,
           244720.4109103997,
           255563.82889820894,
           266407.2468860182,
           277250.6648738274,
           288094.08286163665,
           298937.50084944593,
           309780.91883725516,
           320624.3368250644,
           331467.75481287367,
           342311.17280068295,
           353154.5907884922,
           363998.0087763014,
           374841.4267641106,
           385684.84475191985,
           396528.26273972914,
           407371.68072753836,
           418215.0987153476,
           429058.51670315687,
           439901.9346909661,
           450745.3526787754,
           461588.7706665846,
           472432.18865439383,
           483275.60664220306,
           494119.0246300123,
           504962.44261782157,
           515805.8606056308,
           526649.2785934401,
           537492.6965812494,
           548336.1145690585,
           559179.5325568678,
           570022.950544677,
           580866.3685324863,
           591709.7865202955,
           602553.2045081047,
           613396.622495914,
           624240.0404837233,
           635083.4584715326,
           645926.8764593417,
           656770.294447151,
           667613.7124349602,
           678457.1304227695,
           689300.5484105786,
           700143.9663983879,
           710987.3843861973,
           721830.8023740065,
           732674.2203618158,
           743517.638349625,
           754361.0563374342,
           765204.4743252435,
           776047.8923130527,
           786891.310300862
          ],
          [
           135436.8188346668,
           146280.23682247603,
           157123.65481028525,
           167967.0727980945,
           178810.49078590376,
           189653.908773713,
           200497.32676152224,
           211340.7447493315,
           222184.16273714075,
           233027.58072494998,
           243870.99871275923,
           254714.4167005685,
           265557.8346883777,
           276401.25267618697,
           287244.67066399625,
           298088.0886518055,
           308931.5066396147,
           319774.9246274239,
           330618.34261523315,
           341461.76060304244,
           352305.1785908517,
           363148.5965786609,
           373992.01456647017,
           384835.43255427934,
           395678.8505420886,
           406522.2685298979,
           417365.6865177071,
           428209.10450551636,
           439052.52249332564,
           449895.9404811349,
           460739.3584689441,
           471582.7764567534,
           482426.19444456254,
           493269.6124323718,
           504113.0304201811,
           514956.4484079903,
           525799.8663957996,
           536643.2843836088,
           547486.702371418,
           558330.1203592273,
           569173.5383470366,
           580016.9563348457,
           590860.374322655,
           601703.7923104642,
           612547.2102982735,
           623390.6282860828,
           634234.046273892,
           645077.4642617012,
           655920.8822495105,
           666764.3002373197,
           677607.718225129,
           688451.1362129381,
           699294.5542007474,
           710137.9721885568,
           720981.390176366,
           731824.8081641753,
           742668.2261519845,
           753511.6441397937,
           764355.062127603,
           775198.4801154122,
           786041.8981032214
          ],
          [
           134587.40663702632,
           145430.82462483557,
           156274.2426126448,
           167117.66060045405,
           177961.0785882633,
           188804.49657607253,
           199647.9145638818,
           210491.33255169104,
           221334.7505395003,
           232178.16852730952,
           243021.58651511878,
           253865.00450292803,
           264708.4224907373,
           275551.8404785465,
           286395.25846635574,
           297238.676454165,
           308082.09444197424,
           318925.51242978347,
           329768.93041759275,
           340612.34840540204,
           351455.7663932112,
           362299.18438102043,
           373142.60236882966,
           383986.0203566389,
           394829.43834444816,
           405672.8563322574,
           416516.2743200666,
           427359.6923078759,
           438203.1102956851,
           449046.5282834944,
           459889.94627130363,
           470733.36425911286,
           481576.7822469221,
           492420.2002347313,
           503263.6182225406,
           514107.0362103498,
           524950.454198159,
           535793.8721859683,
           546637.2901737776,
           557480.7081615869,
           568324.1261493961,
           579167.5441372052,
           590010.9621250145,
           600854.3801128238,
           611697.7981006331,
           622541.2160884424,
           633384.6340762516,
           644228.0520640608,
           655071.4700518701,
           665914.8880396793,
           676758.3060274886,
           687601.7240152977,
           698445.142003107,
           709288.5599909164,
           720131.9779787256,
           730975.3959665349,
           741818.8139543441,
           752662.2319421533,
           763505.6499299626,
           774349.0679177718,
           785192.485905581
          ],
          [
           133737.99443938586,
           144581.41242719512,
           155424.83041500434,
           166268.24840281357,
           177111.66639062285,
           187955.08437843208,
           198798.5023662413,
           209641.92035405058,
           220485.3383418598,
           231328.75632966904,
           242172.1743174783,
           253015.59230528754,
           263859.01029309677,
           274702.42828090605,
           285545.8462687153,
           296389.2642565245,
           307232.6822443338,
           318076.10023214296,
           328919.51821995224,
           339762.9362077615,
           350606.35419557075,
           361449.77218338,
           372293.1901711892,
           383136.6081589984,
           393980.0261468077,
           404823.44413461693,
           415666.86212242616,
           426510.28011023544,
           437353.69809804467,
           448197.11608585395,
           459040.5340736632,
           469883.9520614724,
           480727.3700492816,
           491570.78803709085,
           502414.20602490014,
           513257.62401270936,
           524101.0420005186,
           534944.4599883279,
           545787.8779761371,
           556631.2959639464,
           567474.7139517555,
           578318.1319395648,
           589161.5499273741,
           600004.9679151833,
           610848.3859029926,
           621691.8038908018,
           632535.2218786111,
           643378.6398664203,
           654222.0578542296,
           665065.4758420388,
           675908.893829848,
           686752.3118176572,
           697595.7298054665,
           708439.1477932759,
           719282.565781085,
           730125.9837688943,
           740969.4017567036,
           751812.8197445128,
           762656.2377323221,
           773499.6557201312,
           784343.0737079405
          ],
          [
           132888.5822417454,
           143732.00022955463,
           154575.41821736388,
           165418.8362051731,
           176262.25419298236,
           187105.67218079162,
           197949.09016860084,
           208792.5081564101,
           219635.92614421935,
           230479.34413202858,
           241322.76211983783,
           252166.1801076471,
           263009.5980954563,
           273853.01608326554,
           284696.4340710748,
           295539.8520588841,
           306383.2700466933,
           317226.68803450256,
           328070.1060223118,
           338913.52401012107,
           349756.9419979303,
           360600.3599857395,
           371443.77797354874,
           382287.19596135797,
           393130.61394916725,
           403974.0319369765,
           414817.4499247857,
           425660.867912595,
           436504.2859004042,
           447347.7038882135,
           458191.1218760227,
           469034.53986383195,
           479877.9578516412,
           490721.3758394504,
           501564.7938272597,
           512408.2118150689,
           523251.62980287813,
           534095.0477906874,
           544938.4657784966,
           555781.8837663059,
           566625.3017541151,
           577468.7197419244,
           588312.1377297337,
           599155.5557175428,
           609998.9737053522,
           620842.3916931615,
           631685.8096809707,
           642529.2276687799,
           653372.6456565892,
           664216.0636443984,
           675059.4816322076,
           685902.8996200168,
           696746.3176078261,
           707589.7355956355,
           718433.1535834447,
           729276.5715712539,
           740119.9895590632,
           750963.4075468724,
           761806.8255346817,
           772650.2435224908,
           783493.6615103001
          ],
          [
           132039.17004410492,
           142882.58803191417,
           153726.00601972343,
           164569.42400753265,
           175412.8419953419,
           186256.25998315116,
           197099.6779709604,
           207943.09595876964,
           218786.5139465789,
           229629.93193438812,
           240473.34992219738,
           251316.76791000663,
           262160.18589781586,
           273003.60388562514,
           283847.02187343437,
           294690.4398612436,
           305533.8578490529,
           316377.27583686204,
           327220.6938246713,
           338064.1118124806,
           348907.52980028983,
           359750.94778809906,
           370594.3657759083,
           381437.7837637175,
           392281.2017515268,
           403124.619739336,
           413968.03772714525,
           424811.4557149545,
           435654.87370276375,
           446498.29169057304,
           457341.70967838226,
           468185.1276661915,
           479028.5456540007,
           489871.96364180994,
           500715.3816296192,
           511558.79961742845,
           522402.2176052377,
           533245.6355930469,
           544089.0535808562,
           554932.4715686655,
           565775.8895564748,
           576619.3075442839,
           587462.7255320932,
           598306.1435199024,
           609149.5615077117,
           619992.9794955209,
           630836.3974833302,
           641679.8154711394,
           652523.2334589487,
           663366.6514467578,
           674210.0694345671,
           685053.4874223763,
           695896.9054101856,
           706740.323397995,
           717583.7413858041,
           728427.1593736134,
           739270.5773614227,
           750113.9953492319,
           760957.4133370412,
           771800.8313248503,
           782644.2493126596
          ],
          [
           131189.75784646446,
           142033.17583427372,
           152876.59382208294,
           163720.0118098922,
           174563.42979770145,
           185406.84778551068,
           196250.26577331993,
           207093.68376112918,
           217937.10174893844,
           228780.51973674766,
           239623.93772455692,
           250467.35571236617,
           261310.7737001754,
           272154.1916879846,
           282997.6096757939,
           293841.0276636032,
           304684.44565141236,
           315527.86363922164,
           326371.28162703087,
           337214.69961484015,
           348058.1176026494,
           358901.5355904586,
           369744.9535782678,
           380588.37156607705,
           391431.78955388634,
           402275.20754169556,
           413118.6255295048,
           423962.0435173141,
           434805.4615051233,
           445648.8794929326,
           456492.2974807418,
           467335.71546855103,
           478179.13345636026,
           489022.5514441695,
           499865.96943197877,
           510709.387419788,
           521552.8054075972,
           532396.2233954065,
           543239.6413832158,
           554083.0593710251,
           564926.4773588342,
           575769.8953466434,
           586613.3133344527,
           597456.731322262,
           608300.1493100711,
           619143.5672978804,
           629986.9852856897,
           640830.4032734989,
           651673.8212613082,
           662517.2392491173,
           673360.6572369266,
           684204.0752247358,
           695047.493212545,
           705890.9112003545,
           716734.3291881636,
           727577.7471759729,
           738421.1651637822,
           749264.5831515914,
           760108.0011394006,
           770951.4191272098,
           781794.8371150191
          ],
          [
           130340.345648824,
           141183.76363663323,
           152027.18162444248,
           162870.59961225174,
           173714.01760006096,
           184557.43558787022,
           195400.85357567947,
           206244.2715634887,
           217087.68955129795,
           227931.10753910718,
           238774.52552691643,
           249617.9435147257,
           260461.3615025349,
           271304.77949034417,
           282148.1974781534,
           292991.6154659627,
           303835.0334537719,
           314678.4514415811,
           325521.8694293904,
           336365.2874171997,
           347208.7054050089,
           358052.12339281815,
           368895.5413806274,
           379738.9593684366,
           390582.3773562459,
           401425.7953440551,
           412269.21333186433,
           423112.6313196736,
           433956.04930748284,
           444799.4672952921,
           455642.88528310135,
           466486.3032709106,
           477329.7212587198,
           488173.139246529,
           499016.5572343383,
           509859.97522214754,
           520703.39320995676,
           531546.8111977661,
           542390.2291855753,
           553233.6471733846,
           564077.0651611937,
           574920.483149003,
           585763.9011368123,
           596607.3191246215,
           607450.7371124307,
           618294.15510024,
           629137.5730880493,
           639980.9910758585,
           650824.4090636678,
           661667.8270514769,
           672511.2450392862,
           683354.6630270954,
           694198.0810149047,
           705041.4990027141,
           715884.9169905232,
           726728.3349783325,
           737571.7529661418,
           748415.170953951,
           759258.5889417602,
           770102.0069295694,
           780945.4249173787
          ],
          [
           129490.93345118355,
           140334.35143899277,
           151177.76942680203,
           162021.18741461125,
           172864.6054024205,
           183708.02339022976,
           194551.441378039,
           205394.85936584824,
           216238.2773536575,
           227081.69534146672,
           237925.11332927598,
           248768.53131708523,
           259611.94930489446,
           270455.3672927037,
           281298.785280513,
           292142.2032683222,
           302985.62125613145,
           313829.0392439407,
           324672.4572317499,
           335515.8752195592,
           346359.29320736846,
           357202.7111951777,
           368046.1291829869,
           378889.54717079614,
           389732.9651586054,
           400576.38314641465,
           411419.8011342239,
           422263.21912203316,
           433106.6371098424,
           443950.05509765167,
           454793.4730854609,
           465636.8910732701,
           476480.30906107934,
           487323.72704888857,
           498167.14503669785,
           509010.5630245071,
           519853.9810123163,
           530697.3990001256,
           541540.8169879348,
           552384.234975744,
           563227.6529635533,
           574071.0709513626,
           584914.4889391719,
           595757.9069269809,
           606601.3249147902,
           617444.7429025995,
           628288.1608904088,
           639131.578878218,
           649974.9968660272,
           660818.4148538364,
           671661.8328416457,
           682505.2508294549,
           693348.6688172641,
           704192.0868050735,
           715035.5047928827,
           725878.922780692,
           736722.3407685013,
           747565.7587563104,
           758409.1767441197,
           769252.5947319289,
           780096.0127197382
          ],
          [
           128641.52125354308,
           139484.93924135232,
           150328.35722916154,
           161171.7752169708,
           172015.19320478005,
           182858.61119258928,
           193702.02918039853,
           204545.4471682078,
           215388.86515601704,
           226232.28314382627,
           237075.70113163552,
           247919.11911944477,
           258762.537107254,
           269605.95509506325,
           280449.3730828725,
           291292.79107068176,
           302136.209058491,
           312979.6270463002,
           323823.0450341095,
           334666.4630219188,
           345509.88100972795,
           356353.29899753723,
           367196.7169853464,
           378040.1349731557,
           388883.55296096497,
           399726.97094877413,
           410570.3889365834,
           421413.8069243927,
           432257.22491220187,
           443100.64290001115,
           453944.06088782044,
           464787.4788756296,
           475630.8968634389,
           486474.31485124805,
           497317.73283905734,
           508161.1508268666,
           519004.5688146758,
           529847.9868024851,
           540691.4047902944,
           551534.8227781036,
           562378.2407659128,
           573221.6587537221,
           584065.0767415314,
           594908.4947293405,
           605751.9127171498,
           616595.3307049591,
           627438.7486927684,
           638282.1666805776,
           649125.5846683868,
           659969.002656196,
           670812.4206440053,
           681655.8386318145,
           692499.2566196237,
           703342.6746074331,
           714186.0925952423,
           725029.5105830516,
           735872.9285708609,
           746716.34655867,
           757559.7645464793,
           768403.1825342885,
           779246.6005220978
          ],
          [
           127792.1090559026,
           138635.52704371186,
           149478.94503152109,
           160322.3630193303,
           171165.7810071396,
           182009.19899494882,
           192852.61698275805,
           203696.03497056733,
           214539.45295837658,
           225382.8709461858,
           236226.28893399506,
           247069.70692180432,
           257913.12490961354,
           268756.5428974228,
           279599.9608852321,
           290443.3788730413,
           301286.79686085053,
           312130.21484865976,
           322973.632836469,
           333817.05082427827,
           344660.4688120875,
           355503.8867998967,
           366347.30478770594,
           377190.72277551517,
           388034.14076332445,
           398877.5587511337,
           409720.9767389429,
           420564.3947267522,
           431407.8127145614,
           442251.2307023707,
           453094.6486901799,
           463938.06667798915,
           474781.4846657984,
           485624.9026536076,
           496468.3206414169,
           507311.7386292261,
           518155.15661703533,
           528998.5746048447,
           539841.9925926538,
           550685.4105804631,
           561528.8285682723,
           572372.2465560816,
           583215.6645438909,
           594059.0825317,
           604902.5005195093,
           615745.9185073186,
           626589.3364951279,
           637432.754482937,
           648276.1724707463,
           659119.5904585555,
           669963.0084463648,
           680806.426434174,
           691649.8444219832,
           702493.2624097926,
           713336.6803976018,
           724180.0983854111,
           735023.5163732204,
           745866.9343610295,
           756710.3523488388,
           767553.770336648,
           778397.1883244573
          ],
          [
           126942.69685826215,
           137786.1148460714,
           148629.53283388063,
           159472.95082168985,
           170316.36880949914,
           181159.78679730836,
           192003.2047851176,
           202846.62277292687,
           213690.0407607361,
           224533.45874854532,
           235376.87673635458,
           246220.29472416383,
           257063.71271197306,
           267907.1306997823,
           278750.54868759157,
           289593.96667540085,
           300437.38466321,
           311280.8026510193,
           322124.2206388285,
           332967.6386266378,
           343811.05661444704,
           354654.47460225626,
           365497.8925900655,
           376341.3105778747,
           387184.728565684,
           398028.1465534932,
           408871.56454130245,
           419714.98252911173,
           430558.40051692096,
           441401.81850473024,
           452245.23649253946,
           463088.6544803487,
           473932.0724681579,
           484775.49045596714,
           495618.9084437764,
           506462.32643158565,
           517305.7444193949,
           528149.1624072042,
           538992.5803950133,
           549835.9983828226,
           560679.4163706319,
           571522.8343584412,
           582366.2523462505,
           593209.6703340595,
           604053.0883218688,
           614896.5063096782,
           625739.9242974875,
           636583.3422852966,
           647426.7602731059,
           658270.1782609151,
           669113.5962487244,
           679957.0142365335,
           690800.4322243428,
           701643.8502121522,
           712487.2681999614,
           723330.6861877707,
           734174.10417558,
           745017.5221633891,
           755860.9401511984,
           766704.3581390076,
           777547.7761268169
          ],
          [
           126093.28466062168,
           136936.70264843092,
           147780.12063624017,
           158623.5386240494,
           169466.95661185865,
           180310.3745996679,
           191153.79258747713,
           201997.2105752864,
           212840.62856309564,
           223684.04655090487,
           234527.46453871412,
           245370.88252652338,
           256214.3005143326,
           267057.7185021419,
           277901.1364899511,
           288744.55447776034,
           299587.9724655696,
           310431.3904533788,
           321274.80844118807,
           332118.22642899735,
           342961.6444168066,
           353805.0624046158,
           364648.48039242503,
           375491.89838023426,
           386335.31636804354,
           397178.73435585276,
           408022.152343662,
           418865.5703314713,
           429708.9883192805,
           440552.4063070898,
           451395.824294899,
           462239.24228270823,
           473082.66027051746,
           483926.0782583267,
           494769.49624613597,
           505612.9142339452,
           516456.3322217544,
           527299.7502095636,
           538143.1681973729,
           548986.5861851822,
           559830.0041729915,
           570673.4221608007,
           581516.84014861,
           592360.2581364191,
           603203.6761242284,
           614047.0941120377,
           624890.512099847,
           635733.9300876561,
           646577.3480754654,
           657420.7660632746,
           668264.1840510839,
           679107.602038893,
           689951.0200267023,
           700794.4380145117,
           711637.8560023209,
           722481.2739901302,
           733324.6919779395,
           744168.1099657486,
           755011.5279535579,
           765854.9459413671,
           776698.3639291764
          ],
          [
           125243.87246298122,
           136087.29045079046,
           146930.70843859972,
           157774.12642640894,
           168617.5444142182,
           179460.96240202745,
           190304.38038983668,
           201147.79837764593,
           211991.21636545518,
           222834.6343532644,
           233678.05234107366,
           244521.47032888292,
           255364.88831669214,
           266208.30630450137,
           277051.72429231065,
           287895.14228011994,
           298738.5602679291,
           309581.9782557384,
           320425.3962435476,
           331268.8142313569,
           342112.2322191661,
           352955.65020697535,
           363799.0681947846,
           374642.4861825938,
           385485.9041704031,
           396329.3221582123,
           407172.74014602153,
           418016.1581338308,
           428859.57612164004,
           439702.9941094493,
           450546.41209725855,
           461389.8300850678,
           472233.248072877,
           483076.6660606862,
           493920.0840484955,
           504763.50203630474,
           515606.92002411396,
           526450.3380119232,
           537293.7559997325,
           548137.1739875418,
           558980.591975351,
           569824.0099631601,
           580667.4279509694,
           591510.8459387787,
           602354.263926588,
           613197.6819143972,
           624041.0999022064,
           634884.5178900156,
           645727.9358778249,
           656571.3538656341,
           667414.7718534434,
           678258.1898412525,
           689101.6078290618,
           699945.0258168712,
           710788.4438046804,
           721631.8617924897,
           732475.2797802989,
           743318.6977681081,
           754162.1157559174,
           765005.5337437266,
           775848.9517315358
          ],
          [
           124394.46026534075,
           135237.87825314997,
           146081.29624095923,
           156924.71422876848,
           167768.1322165777,
           178611.55020438696,
           189454.96819219622,
           200298.38618000544,
           211141.80416781473,
           221985.22215562395,
           232828.6401434332,
           243672.05813124246,
           254515.4761190517,
           265358.894106861,
           276202.3120946702,
           287045.7300824794,
           297889.1480702887,
           308732.5660580979,
           319575.98404590716,
           330419.40203371644,
           341262.82002152567,
           352106.2380093349,
           362949.6559971441,
           373793.07398495334,
           384636.4919727626,
           395479.90996057185,
           406323.3279483811,
           417166.74593619036,
           428010.1639239996,
           438853.58191180887,
           449696.9998996181,
           460540.4178874273,
           471383.83587523655,
           482227.2538630458,
           493070.67185085505,
           503914.0898386643,
           514757.5078264735,
           525600.9258142828,
           536444.343802092,
           547287.7617899013,
           558131.1797777105,
           568974.5977655197,
           579818.015753329,
           590661.4337411382,
           601504.8517289475,
           612348.2697167568,
           623191.687704566,
           634035.1056923752,
           644878.5236801845,
           655721.9416679937,
           666565.359655803,
           677408.7776436121,
           688252.1956314214,
           699095.6136192308,
           709939.03160704,
           720782.4495948493,
           731625.8675826585,
           742469.2855704677,
           753312.703558277,
           764156.1215460862,
           774999.5395338954
          ],
          [
           123545.04806770029,
           134388.46605550952,
           145231.88404331877,
           156075.302031128,
           166918.72001893725,
           177762.1380067465,
           188605.55599455573,
           199448.973982365,
           210292.39197017424,
           221135.80995798347,
           231979.22794579272,
           242822.64593360198,
           253666.0639214112,
           264509.48190922046,
           275352.89989702974,
           286196.31788483897,
           297039.7358726482,
           307883.1538604574,
           318726.57184826664,
           329569.9898360759,
           340413.4078238852,
           351256.82581169443,
           362100.24379950366,
           372943.6617873129,
           383787.07977512217,
           394630.4977629314,
           405473.9157507406,
           416317.3337385499,
           427160.7517263591,
           438004.1697141684,
           448847.58770197764,
           459691.00568978686,
           470534.4236775961,
           481377.8416654053,
           492221.2596532146,
           503064.6776410238,
           513908.09562883305,
           524751.5136166423,
           535594.9316044515,
           546438.3495922608,
           557281.7675800701,
           568125.1855678794,
           578968.6035556886,
           589812.0215434977,
           600655.439531307,
           611498.8575191163,
           622342.2755069255,
           633185.6934947347,
           644029.111482544,
           654872.5294703532,
           665715.9474581624,
           676559.3654459716,
           687402.7834337809,
           698246.2014215903,
           709089.6194093995,
           719933.0373972087,
           730776.455385018,
           741619.8733728272,
           752463.2913606365,
           763306.7093484456,
           774150.1273362549
          ],
          [
           122695.63587005982,
           133539.05385786906,
           144382.4718456783,
           155225.88983348754,
           166069.3078212968,
           176912.72580910602,
           187756.14379691528,
           198599.56178472453,
           209442.97977253378,
           220286.397760343,
           231129.81574815226,
           241973.23373596152,
           252816.65172377074,
           263660.06971158,
           274503.4876993892,
           285346.9056871985,
           296190.32367500773,
           307033.74166281696,
           317877.15965062624,
           328720.5776384355,
           339563.9956262447,
           350407.413614054,
           361250.8316018632,
           372094.2495896724,
           382937.6675774817,
           393781.08556529094,
           404624.50355310016,
           415467.92154090945,
           426311.3395287187,
           437154.75751652796,
           447998.1755043372,
           458841.5934921464,
           469685.01147995563,
           480528.42946776486,
           491371.84745557414,
           502215.26544338337,
           513058.6834311926,
           523902.1014190019,
           534745.5194068111,
           545588.9373946204,
           556432.3553824297,
           567275.7733702388,
           578119.1913580481,
           588962.6093458573,
           599806.0273336666,
           610649.4453214759,
           621492.8633092851,
           632336.2812970943,
           643179.6992849036,
           654023.1172727128,
           664866.535260522,
           675709.9532483312,
           686553.3712361405,
           697396.7892239499,
           708240.207211759,
           719083.6251995683,
           729927.0431873776,
           740770.4611751868,
           751613.8791629961,
           762457.2971508052,
           773300.7151386145
          ],
          [
           121846.22367241936,
           132689.6416602286,
           143533.05964803783,
           154376.47763584708,
           165219.89562365634,
           176063.31361146556,
           186906.73159927482,
           197750.14958708407,
           208593.56757489333,
           219436.98556270255,
           230280.4035505118,
           241123.82153832106,
           251967.2395261303,
           262810.65751393954,
           273654.0755017488,
           284497.49348955805,
           295340.9114773673,
           306184.3294651765,
           317027.7474529857,
           327871.165440795,
           338714.5834286043,
           349558.00141641346,
           360401.4194042227,
           371244.8373920319,
           382088.2553798412,
           392931.6733676504,
           403775.09135545965,
           414618.50934326893,
           425461.92733107816,
           436305.34531888744,
           447148.76330669667,
           457992.1812945059,
           468835.5992823151,
           479679.01727012434,
           490522.4352579336,
           501365.85324574285,
           512209.2712335521,
           523052.68922136136,
           533896.1072091706,
           544739.5251969799,
           555582.943184789,
           566426.3611725983,
           577269.7791604076,
           588113.1971482168,
           598956.615136026,
           609800.0331238353,
           620643.4511116446,
           631486.8690994538,
           642330.2870872631,
           653173.7050750722,
           664017.1230628815,
           674860.5410506907,
           685703.9590385,
           696547.3770263094,
           707390.7950141185,
           718234.2130019278,
           729077.6309897371,
           739921.0489775463,
           750764.4669653556,
           761607.8849531647,
           772451.302940974
          ],
          [
           120996.8114747789,
           131840.22946258815,
           142683.64745039737,
           153527.0654382066,
           164370.48342601588,
           175213.9014138251,
           186057.31940163433,
           196900.73738944362,
           207744.15537725284,
           218587.57336506207,
           229430.99135287135,
           240274.40934068058,
           251117.8273284898,
           261961.2453162991,
           272804.6633041083,
           283648.0812919176,
           294491.4992797268,
           305334.91726753605,
           316178.3352553453,
           327021.75324315456,
           337865.1712309638,
           348708.589218773,
           359552.00720658223,
           370395.42519439146,
           381238.84318220074,
           392082.26117000997,
           402925.6791578192,
           413769.0971456285,
           424612.5151334377,
           435455.933121247,
           446299.3511090562,
           457142.76909686544,
           467986.18708467466,
           478829.6050724839,
           489673.02306029317,
           500516.4410481024,
           511359.8590359116,
           522203.2770237209,
           533046.6950115301,
           543890.1129993394,
           554733.5309871486,
           565576.9489749579,
           576420.3669627672,
           587263.7849505763,
           598107.2029383855,
           608950.6209261949,
           619794.0389140042,
           630637.4569018134,
           641480.8748896227,
           652324.2928774318,
           663167.7108652411,
           674011.1288530503,
           684854.5468408596,
           695697.964828669,
           706541.3828164781,
           717384.8008042874,
           728228.2187920967,
           739071.6367799059,
           749915.0547677152,
           760758.4727555243,
           771601.8907433336
          ],
          [
           120147.39927713844,
           130990.81726494766,
           141834.23525275692,
           152677.65324056614,
           163521.0712283754,
           174364.48921618465,
           185207.90720399388,
           196051.32519180313,
           206894.7431796124,
           217738.1611674216,
           228581.57915523087,
           239424.99714304012,
           250268.41513084935,
           261111.8331186586,
           271955.25110646785,
           282798.6690942771,
           293642.08708208636,
           304485.50506989553,
           315328.9230577048,
           326172.3410455141,
           337015.7590333233,
           347859.17702113255,
           358702.5950089418,
           369546.012996751,
           380389.4309845603,
           391232.8489723695,
           402076.26696017873,
           412919.684947988,
           423763.10293579724,
           434606.5209236065,
           445449.93891141575,
           456293.356899225,
           467136.7748870342,
           477980.19287484343,
           488823.6108626527,
           499667.02885046194,
           510510.44683827116,
           521353.86482608045,
           532197.2828138897,
           543040.700801699,
           553884.1187895082,
           564727.5367773174,
           575570.9547651267,
           586414.3727529359,
           597257.7907407451,
           608101.2087285544,
           618944.6267163637,
           629788.0447041729,
           640631.4626919822,
           651474.8806797913,
           662318.2986676006,
           673161.7166554098,
           684005.1346432191,
           694848.5526310285,
           705691.9706188376,
           716535.3886066469,
           727378.8065944562,
           738222.2245822654,
           749065.6425700746,
           759909.0605578838,
           770752.4785456931
          ],
          [
           119297.98707949797,
           130141.4050673072,
           140984.82305511646,
           151828.24104292569,
           162671.65903073494,
           173515.0770185442,
           184358.49500635342,
           195201.91299416267,
           206045.33098197193,
           216888.74896978115,
           227732.1669575904,
           238575.58494539966,
           249419.0029332089,
           260262.42092101814,
           271105.8389088274,
           281949.2568966367,
           292792.67488444585,
           303636.09287225513,
           314479.51086006436,
           325322.92884787364,
           336166.34683568287,
           347009.7648234921,
           357853.1828113013,
           368696.60079911054,
           379540.0187869198,
           390383.43677472905,
           401226.8547625383,
           412070.27275034756,
           422913.6907381568,
           433757.10872596607,
           444600.5267137753,
           455443.9447015845,
           466287.36268939375,
           477130.780677203,
           487974.19866501226,
           498817.6166528215,
           509661.0346406307,
           520504.45262844,
           531347.8706162493,
           542191.2886040586,
           553034.7065918677,
           563878.1245796769,
           574721.5425674862,
           585564.9605552955,
           596408.3785431047,
           607251.7965309139,
           618095.2145187232,
           628938.6325065325,
           639782.0504943418,
           650625.4684821508,
           661468.8864699601,
           672312.3044577694,
           683155.7224455787,
           693999.140433388,
           704842.5584211972,
           715685.9764090065,
           726529.3943968158,
           737372.8123846248,
           748216.2303724341,
           759059.6483602434,
           769903.0663480527
          ],
          [
           118448.5748818575,
           129291.99286966675,
           140135.41085747597,
           150978.82884528523,
           161822.24683309448,
           172665.6648209037,
           183509.08280871296,
           194352.50079652222,
           205195.91878433147,
           216039.3367721407,
           226882.75475994995,
           237726.1727477592,
           248569.59073556843,
           259413.0087233777,
           270256.42671118694,
           281099.84469899617,
           291943.26268680545,
           302786.6806746146,
           313630.0986624239,
           324473.5166502332,
           335316.9346380424,
           346160.35262585164,
           357003.77061366086,
           367847.1886014701,
           378690.60658927937,
           389534.0245770886,
           400377.4425648978,
           411220.8605527071,
           422064.27854051633,
           432907.6965283256,
           443751.11451613484,
           454594.53250394406,
           465437.9504917533,
           476281.3684795625,
           487124.7864673718,
           497968.204455181,
           508811.62244299025,
           519655.04043079953,
           530498.4584186088,
           541341.876406418,
           552185.2943942272,
           563028.7123820365,
           573872.1303698458,
           584715.548357655,
           595558.9663454642,
           606402.3843332735,
           617245.8023210828,
           628089.220308892,
           638932.6382967012,
           649776.0562845104,
           660619.4742723197,
           671462.8922601289,
           682306.3102479381,
           693149.7282357475,
           703993.1462235567,
           714836.564211366,
           725679.9821991753,
           736523.4001869845,
           747366.8181747937,
           758210.2361626029,
           769053.6541504122
          ],
          [
           117599.16268421704,
           128442.58067202628,
           139285.99865983552,
           150129.41664764477,
           160972.834635454,
           171816.25262326325,
           182659.6706110725,
           193503.08859888173,
           204346.50658669102,
           215189.92457450024,
           226033.34256230947,
           236876.76055011875,
           247720.17853792798,
           258563.5965257372,
           269407.0145135465,
           280250.4325013557,
           291093.85048916494,
           301937.26847697416,
           312780.68646478344,
           323624.1044525927,
           334467.52244040195,
           345310.9404282112,
           356154.3584160204,
           366997.77640382963,
           377841.1943916389,
           388684.61237944814,
           399528.03036725736,
           410371.44835506665,
           421214.8663428759,
           432058.28433068516,
           442901.7023184944,
           453745.1203063036,
           464588.53829411283,
           475431.95628192206,
           486275.37426973134,
           497118.79225754057,
           507962.2102453498,
           518805.6282331591,
           529649.0462209682,
           540492.4642087775,
           551335.8821965868,
           562179.3001843961,
           573022.7181722054,
           583866.1361600144,
           594709.5541478237,
           605552.972135633,
           616396.3901234423,
           627239.8081112514,
           638083.2260990607,
           648926.6440868699,
           659770.0620746792,
           670613.4800624884,
           681456.8980502976,
           692300.316038107,
           703143.7340259162,
           713987.1520137255,
           724830.5700015348,
           735673.9879893439,
           746517.4059771532,
           757360.8239649624,
           768204.2419527717
          ],
          [
           116749.75048657658,
           127593.1684743858,
           138436.58646219506,
           149280.0044500043,
           160123.42243781354,
           170966.8404256228,
           181810.25841343202,
           192653.67640124128,
           203497.09438905053,
           214340.51237685976,
           225183.930364669,
           236027.34835247826,
           246870.7663402875,
           257714.18432809674,
           268557.60231590597,
           279401.02030371525,
           290244.4382915245,
           301087.8562793337,
           311931.274267143,
           322774.6922549523,
           333618.11024276144,
           344461.5282305707,
           355304.94621837995,
           366148.3642061892,
           376991.78219399846,
           387835.2001818077,
           398678.6181696169,
           409522.0361574262,
           420365.4541452354,
           431208.8721330447,
           442052.2901208539,
           452895.70810866315,
           463739.1260964724,
           474582.5440842816,
           485425.9620720909,
           496269.3800599001,
           507112.79804770934,
           517956.2160355186,
           528799.6340233278,
           539643.0520111371,
           550486.4699989464,
           561329.8879867556,
           572173.3059745649,
           583016.723962374,
           593860.1419501833,
           604703.5599379926,
           615546.9779258019,
           626390.395913611,
           637233.8139014203,
           648077.2318892295,
           658920.6498770388,
           669764.067864848,
           680607.4858526572,
           691450.9038404666,
           702294.3218282758,
           713137.7398160851,
           723981.1578038944,
           734824.5757917035,
           745667.9937795128,
           756511.411767322,
           767354.8297551313
          ],
          [
           115900.33828893611,
           126743.75627674535,
           137587.17426455457,
           148430.59225236383,
           159274.01024017308,
           170117.4282279823,
           180960.84621579156,
           191804.26420360082,
           202647.68219141007,
           213491.1001792193,
           224334.51816702855,
           235177.9361548378,
           246021.35414264703,
           256864.7721304563,
           267708.1901182656,
           278551.6081060748,
           289395.026093884,
           300238.44408169325,
           311081.8620695025,
           321925.28005731176,
           332768.69804512104,
           343612.1160329302,
           354455.5340207395,
           365298.95200854866,
           376142.36999635794,
           386985.7879841672,
           397829.2059719764,
           408672.6239597857,
           419516.04194759496,
           430359.45993540424,
           441202.8779232134,
           452046.2959110227,
           462889.71389883186,
           473733.13188664115,
           484576.54987445043,
           495419.9678622596,
           506263.3858500689,
           517106.80383787816,
           527950.2218256873,
           538793.6398134966,
           549637.0578013059,
           560480.4757891151,
           571323.8937769243,
           582167.3117647335,
           593010.7297525428,
           603854.1477403521,
           614697.5657281614,
           625540.9837159705,
           636384.4017037798,
           647227.819691589,
           658071.2376793983,
           668914.6556672074,
           679758.0736550167,
           690601.4916428261,
           701444.9096306353,
           712288.3276184446,
           723131.7456062539,
           733975.163594063,
           744818.5815818723,
           755661.9995696815,
           766505.4175574908
          ],
          [
           115050.92609129564,
           125894.34407910489,
           136737.76206691412,
           147581.18005472337,
           158424.59804253263,
           169268.01603034185,
           180111.4340181511,
           190954.85200596036,
           201798.26999376962,
           212641.68798157884,
           223485.1059693881,
           234328.52395719735,
           245171.94194500658,
           256015.35993281583,
           266858.77792062506,
           277702.19590843434,
           288545.61389624357,
           299389.0318840528,
           310232.4498718621,
           321075.86785967136,
           331919.2858474805,
           342762.7038352898,
           353606.121823099,
           364449.5398109082,
           375292.9577987175,
           386136.3757865267,
           396979.79377433594,
           407823.2117621452,
           418666.62974995445,
           429510.0477377637,
           440353.46572557295,
           451196.8837133822,
           462040.3017011914,
           472883.71968900063,
           483727.1376768099,
           494570.55566461914,
           505413.97365242837,
           516257.39164023765,
           527100.8096280468,
           537944.2276158561,
           548787.6456036654,
           559631.0635914747,
           570474.481579284,
           581317.899567093,
           592161.3175549023,
           603004.7355427116,
           613848.153530521,
           624691.5715183301,
           635534.9895061394,
           646378.4074939486,
           657221.8254817579,
           668065.243469567,
           678908.6614573763,
           689752.0794451857,
           700595.4974329949,
           711438.9154208042,
           722282.3334086135,
           733125.7513964226,
           743969.1693842319,
           754812.5873720411,
           765656.0053598504
          ],
          [
           114201.51389365518,
           125044.93188146442,
           135888.34986927366,
           146731.7678570829,
           157575.18584489217,
           168418.6038327014,
           179262.02182051062,
           190105.4398083199,
           200948.85779612913,
           211792.27578393836,
           222635.69377174764,
           233479.11175955686,
           244322.5297473661,
           255165.94773517537,
           266009.3657229846,
           276852.7837107939,
           287696.2016986031,
           298539.61968641233,
           309383.03767422156,
           320226.45566203084,
           331069.87364984007,
           341913.2916376493,
           352756.7096254585,
           363600.12761326774,
           374443.545601077,
           385286.96358888625,
           396130.3815766955,
           406973.79956450476,
           417817.217552314,
           428660.6355401233,
           439504.0535279325,
           450347.4715157417,
           461190.88950355095,
           472034.3074913602,
           482877.72547916946,
           493721.1434669787,
           504564.5614547879,
           515407.9794425972,
           526251.3974304064,
           537094.8154182157,
           547938.233406025,
           558781.6513938342,
           569625.0693816434,
           580468.4873694526,
           591311.9053572619,
           602155.3233450712,
           612998.7413328805,
           623842.1593206896,
           634685.5773084989,
           645528.9952963081,
           656372.4132841174,
           667215.8312719265,
           678059.2492597358,
           688902.6672475452,
           699746.0852353544,
           710589.5032231637,
           721432.9212109729,
           732276.3391987821,
           743119.7571865914,
           753963.1751744006,
           764806.5931622098
          ],
          [
           113352.10169601472,
           124195.51968382395,
           135038.9376716332,
           145882.35565944243,
           156725.77364725168,
           167569.19163506094,
           178412.60962287016,
           189256.02761067942,
           200099.44559848867,
           210942.8635862979,
           221786.28157410715,
           232629.6995619164,
           243473.11754972563,
           254316.5355375349,
           265159.95352534414,
           276003.3715131534,
           286846.7895009626,
           297690.2074887719,
           308533.6254765811,
           319377.0434643904,
           330220.4614521996,
           341063.87944000884,
           351907.29742781806,
           362750.7154156273,
           373594.1334034366,
           384437.5513912458,
           395280.969379055,
           406124.3873668643,
           416967.80535467353,
           427811.2233424828,
           438654.64133029204,
           449498.05931810127,
           460341.4773059105,
           471184.8952937197,
           482028.313281529,
           492871.7312693382,
           503715.14925714745,
           514558.56724495674,
           525401.985232766,
           536245.4032205753,
           547088.8212083845,
           557932.2391961936,
           568775.6571840029,
           579619.0751718122,
           590462.4931596215,
           601305.9111474308,
           612149.32913524,
           622992.7471230492,
           633836.1651108585,
           644679.5830986677,
           655523.001086477,
           666366.4190742861,
           677209.8370620954,
           688053.2550499048,
           698896.673037714,
           709740.0910255233,
           720583.5090133325,
           731426.9270011417,
           742270.344988951,
           753113.7629767602,
           763957.1809645694
          ],
          [
           112502.68949837425,
           123346.1074861835,
           134189.52547399275,
           145032.94346180197,
           155876.36144961123,
           166719.77943742048,
           177563.1974252297,
           188406.61541303896,
           199250.03340084822,
           210093.45138865744,
           220936.8693764667,
           231780.28736427595,
           242623.70535208518,
           253467.12333989443,
           264310.5413277037,
           275153.9593155129,
           285997.3773033222,
           296840.79529113136,
           307684.21327894065,
           318527.63126674993,
           329371.04925455916,
           340214.4672423684,
           351057.8852301776,
           361901.30321798683,
           372744.7212057961,
           383588.13919360534,
           394431.55718141457,
           405274.97516922385,
           416118.3931570331,
           426961.81114484236,
           437805.2291326516,
           448648.6471204608,
           459492.06510827004,
           470335.48309607926,
           481178.90108388854,
           492022.31907169777,
           502865.737059507,
           513709.1550473163,
           524552.5730351255,
           535395.9910229348,
           546239.409010744,
           557082.8269985532,
           567926.2449863625,
           578769.6629741717,
           589613.080961981,
           600456.4989497903,
           611299.9169375995,
           622143.3349254087,
           632986.752913218,
           643830.1709010272,
           654673.5888888364,
           665517.0068766456,
           676360.4248644549,
           687203.8428522643,
           698047.2608400735,
           708890.6788278827,
           719734.096815692,
           730577.5148035012,
           741420.9327913105,
           752264.3507791196,
           763107.7687669289
          ],
          [
           111653.27730073378,
           122496.69528854304,
           133340.11327635226,
           144183.53126416152,
           155026.94925197077,
           165870.36723978,
           176713.78522758925,
           187557.2032153985,
           198400.62120320776,
           209244.039191017,
           220087.45717882624,
           230930.8751666355,
           241774.29315444472,
           252617.71114225397,
           263461.12913006323,
           274304.5471178725,
           285147.9651056817,
           295991.38309349096,
           306834.8010813002,
           317678.2190691095,
           328521.6370569187,
           339365.0550447279,
           350208.47303253715,
           361051.8910203464,
           371895.30900815566,
           382738.7269959649,
           393582.1449837741,
           404425.5629715834,
           415268.9809593926,
           426112.3989472019,
           436955.8169350111,
           447799.23492282035,
           458642.6529106296,
           469486.0708984388,
           480329.4888862481,
           491172.9068740573,
           502016.32486186654,
           512859.7428496758,
           523703.16083748505,
           534546.5788252943,
           545389.9968131036,
           556233.4148009128,
           567076.8327887221,
           577920.2507765312,
           588763.6687643405,
           599607.0867521497,
           610450.504739959,
           621293.9227277682,
           632137.3407155775,
           642980.7587033866,
           653824.1766911959,
           664667.5946790051,
           675511.0126668144,
           686354.4306546238,
           697197.848642433,
           708041.2666302422,
           718884.6846180515,
           729728.1026058607,
           740571.52059367,
           751414.9385814791,
           762258.3565692884
          ],
          [
           110803.86510309333,
           121647.28309090257,
           132490.7010787118,
           143334.11906652106,
           154177.53705433029,
           165020.95504213954,
           175864.3730299488,
           186707.79101775802,
           197551.2090055673,
           208394.62699337653,
           219238.04498118575,
           230081.46296899504,
           240924.88095680426,
           251768.2989446135,
           262611.7169324228,
           273455.134920232,
           284298.5529080412,
           295141.97089585045,
           305985.38888365973,
           316828.806871469,
           327672.22485927824,
           338515.64284708747,
           349359.0608348967,
           360202.4788227059,
           371045.8968105152,
           381889.3147983244,
           392732.73278613365,
           403576.15077394294,
           414419.56876175216,
           425262.98674956145,
           436106.40473737067,
           446949.8227251799,
           457793.2407129891,
           468636.65870079835,
           479480.07668860763,
           490323.49467641686,
           501166.9126642261,
           512010.33065203537,
           522853.7486398446,
           533697.1666276539,
           544540.5846154632,
           555384.0026032723,
           566227.4205910816,
           577070.8385788908,
           587914.2565667001,
           598757.6745545093,
           609601.0925423186,
           620444.5105301278,
           631287.9285179371,
           642131.3465057462,
           652974.7644935555,
           663818.1824813647,
           674661.600469174,
           685505.0184569834,
           696348.4364447925,
           707191.8544326018,
           718035.2724204111,
           728878.6904082203,
           739722.1083960296,
           750565.5263838387,
           761408.944371648
          ],
          [
           109954.45290545287,
           120797.8708932621,
           131641.28888107135,
           142484.70686888057,
           153328.12485668983,
           164171.54284449908,
           175014.9608323083,
           185858.37882011756,
           196701.79680792682,
           207545.21479573604,
           218388.6327835453,
           229232.05077135455,
           240075.46875916378,
           250918.88674697303,
           261762.3047347823,
           272605.72272259154,
           283449.14071040077,
           294292.55869821,
           305135.9766860192,
           315979.3946738285,
           326822.8126616378,
           337666.23064944695,
           348509.64863725624,
           359353.06662506546,
           370196.48461287474,
           381039.90260068397,
           391883.3205884932,
           402726.7385763025,
           413570.1565641117,
           424413.574551921,
           435256.9925397302,
           446100.41052753944,
           456943.82851534866,
           467787.2465031579,
           478630.6644909672,
           489474.0824787764,
           500317.5004665856,
           511160.9184543949,
           522004.33644220413,
           532847.7544300135,
           543691.1724178226,
           554534.5904056318,
           565378.0083934411,
           576221.4263812504,
           587064.8443690597,
           597908.262356869,
           608751.6803446781,
           619595.0983324873,
           630438.5163202966,
           641281.9343081057,
           652125.352295915,
           662968.7702837242,
           673812.1882715335,
           684655.6062593429,
           695499.024247152,
           706342.4422349613,
           717185.8602227706,
           728029.2782105798,
           738872.696198389,
           749716.1141861982,
           760559.5321740075
          ],
          [
           109105.04070781241,
           119948.45869562164,
           130791.87668343089,
           141635.29467124012,
           152478.71265904937,
           163322.13064685863,
           174165.54863466785,
           185008.9666224771,
           195852.38461028636,
           206695.8025980956,
           217539.22058590484,
           228382.6385737141,
           239226.05656152332,
           250069.47454933258,
           260912.89253714183,
           271756.3105249511,
           282599.7285127603,
           293443.14650056954,
           304286.5644883788,
           315129.9824761881,
           325973.40046399727,
           336816.81845180655,
           347660.2364396158,
           358503.654427425,
           369347.0724152343,
           380190.4904030435,
           391033.90839085274,
           401877.326378662,
           412720.74436647125,
           423564.16235428053,
           434407.58034208976,
           445250.998329899,
           456094.4163177082,
           466937.83430551743,
           477781.2522933267,
           488624.67028113594,
           499468.08826894517,
           510311.50625675445,
           521154.9242445637,
           531998.342232373,
           542841.7602201821,
           553685.1782079914,
           564528.5961958007,
           575372.0141836099,
           586215.4321714191,
           597058.8501592284,
           607902.2681470377,
           618745.6861348469,
           629589.1041226562,
           640432.5221104653,
           651275.9400982746,
           662119.3580860838,
           672962.7760738931,
           683806.1940617025,
           694649.6120495116,
           705493.0300373209,
           716336.4480251302,
           727179.8660129394,
           738023.2840007487,
           748866.7019885578,
           759710.1199763671
          ],
          [
           108255.62851017193,
           119099.04649798118,
           129942.4644857904,
           140785.88247359966,
           151629.30046140891,
           162472.71844921814,
           173316.1364370274,
           184159.55442483665,
           195002.9724126459,
           205846.39040045513,
           216689.80838826438,
           227533.22637607364,
           238376.64436388286,
           249220.06235169212,
           260063.48033950137,
           270906.8983273106,
           281750.31631511985,
           292593.7343029291,
           303437.1522907383,
           314280.5702785476,
           325123.9882663569,
           335967.40625416604,
           346810.82424197526,
           357654.2422297845,
           368497.6602175938,
           379341.078205403,
           390184.4961932122,
           401027.9141810215,
           411871.33216883073,
           422714.75015664,
           433558.16814444924,
           444401.58613225847,
           455245.0041200677,
           466088.4221078769,
           476931.8400956862,
           487775.2580834954,
           498618.67607130465,
           509462.09405911394,
           520305.51204692316,
           531148.9300347324,
           541992.3480225417,
           552835.7660103509,
           563679.1839981602,
           574522.6019859693,
           585366.0199737786,
           596209.4379615879,
           607052.8559493972,
           617896.2739372064,
           628739.6919250156,
           639583.1099128248,
           650426.5279006341,
           661269.9458884433,
           672113.3638762526,
           682956.781864062,
           693800.1998518711,
           704643.6178396804,
           715487.0358274897,
           726330.4538152989,
           737173.8718031081,
           748017.2897909173,
           758860.7077787266
          ],
          [
           107406.21631253147,
           118249.63430034071,
           129093.05228814995,
           139936.47027595917,
           150779.88826376846,
           161623.30625157768,
           172466.7242393869,
           183310.1422271962,
           194153.56021500542,
           204996.97820281464,
           215840.39619062393,
           226683.81417843315,
           237527.23216624238,
           248370.65015405166,
           259214.0681418609,
           270057.4861296702,
           280900.9041174794,
           291744.3221052886,
           302587.74009309785,
           313431.15808090713,
           324274.57606871636,
           335117.9940565256,
           345961.4120443348,
           356804.83003214403,
           367648.2480199533,
           378491.66600776254,
           389335.08399557177,
           400178.50198338105,
           411021.9199711903,
           421865.33795899956,
           432708.7559468088,
           443552.173934618,
           454395.59192242724,
           465239.00991023646,
           476082.42789804575,
           486925.845885855,
           497769.2638736642,
           508612.6818614735,
           519456.0998492827,
           530299.517837092,
           541142.9358249012,
           551986.3538127104,
           562829.7718005197,
           573673.189788329,
           584516.6077761382,
           595360.0257639475,
           606203.4437517568,
           617046.861739566,
           627890.2797273753,
           638733.6977151844,
           649577.1157029937,
           660420.5336908029,
           671263.9516786122,
           682107.3696664216,
           692950.7876542307,
           703794.20564204,
           714637.6236298493,
           725481.0416176585,
           736324.4596054677,
           747167.8775932769,
           758011.2955810862
          ],
          [
           106556.80411489101,
           117400.22210270024,
           128243.64009050949,
           139087.05807831872,
           149930.47606612797,
           160773.89405393723,
           171617.31204174645,
           182460.7300295557,
           193304.14801736496,
           204147.5660051742,
           214990.98399298344,
           225834.4019807927,
           236677.81996860192,
           247521.23795641118,
           258364.65594422043,
           269208.07393202966,
           280051.49191983894,
           290894.9099076481,
           301738.3278954574,
           312581.7458832667,
           323425.1638710759,
           334268.5818588851,
           345111.99984669435,
           355955.4178345036,
           366798.83582231286,
           377642.2538101221,
           388485.6717979313,
           399329.0897857406,
           410172.5077735498,
           421015.9257613591,
           431859.3437491683,
           442702.76173697755,
           453546.1797247868,
           464389.597712596,
           475233.0157004053,
           486076.4336882145,
           496919.85167602374,
           507763.269663833,
           518606.68765164225,
           529450.1056394515,
           540293.5236272607,
           551136.94161507,
           561980.3596028793,
           572823.7775906884,
           583667.1955784977,
           594510.613566307,
           605354.0315541163,
           616197.4495419255,
           627040.8675297347,
           637884.2855175439,
           648727.7035053532,
           659571.1214931624,
           670414.5394809716,
           681257.957468781,
           692101.3754565902,
           702944.7934443995,
           713788.2114322088,
           724631.6294200179,
           735475.0474078272,
           746318.4653956364,
           757161.8833834457
          ],
          [
           105707.39191725054,
           116550.80990505978,
           127394.22789286902,
           138237.64588067826,
           149081.06386848752,
           159924.48185629677,
           170767.899844106,
           181611.31783191525,
           192454.7358197245,
           203298.15380753373,
           214141.57179534298,
           224984.98978315224,
           235828.40777096146,
           246671.82575877072,
           257515.24374657997,
           268358.66173438926,
           279202.0797221984,
           290045.4977100077,
           300888.91569781693,
           311732.3336856262,
           322575.75167343544,
           333419.16966124467,
           344262.5876490539,
           355106.0056368631,
           365949.4236246724,
           376792.8416124816,
           387636.25960029085,
           398479.67758810014,
           409323.09557590936,
           420166.51356371865,
           431009.9315515279,
           441853.3495393371,
           452696.7675271463,
           463540.18551495555,
           474383.60350276483,
           485227.02149057406,
           496070.4394783833,
           506913.85746619257,
           517757.2754540018,
           528600.693441811,
           539444.1114296203,
           550287.5294174296,
           561130.9474052389,
           571974.3653930479,
           582817.7833808572,
           593661.2013686665,
           604504.6193564758,
           615348.0373442849,
           626191.4553320942,
           637034.8733199035,
           647878.2913077128,
           658721.7092955218,
           669565.1272833311,
           680408.5452711406,
           691251.9632589497,
           702095.381246759,
           712938.7992345683,
           723782.2172223775,
           734625.6352101868,
           745469.0531979959,
           756312.4711858052
          ],
          [
           104857.97971961007,
           115701.39770741932,
           126544.81569522855,
           137388.2336830378,
           148231.65167084706,
           159075.06965865628,
           169918.48764646554,
           180761.9056342748,
           191605.32362208405,
           202448.74160989327,
           213292.15959770253,
           224135.57758551178,
           234978.995573321,
           245822.41356113026,
           256665.83154893952,
           267509.24953674874,
           278352.667524558,
           289196.0855123672,
           300039.5035001765,
           310882.92148798576,
           321726.339475795,
           332569.7574636042,
           343413.17545141344,
           354256.59343922266,
           365100.01142703195,
           375943.4294148412,
           386786.8474026504,
           397630.2653904597,
           408473.6833782689,
           419317.1013660782,
           430160.5193538874,
           441003.93734169664,
           451847.35532950587,
           462690.7733173151,
           473534.1913051244,
           484377.6092929336,
           495221.0272807428,
           506064.4452685521,
           516907.86325636134,
           527751.2812441706,
           538594.6992319799,
           549438.1172197891,
           560281.5352075984,
           571124.9531954075,
           581968.3711832168,
           592811.7891710261,
           603655.2071588354,
           614498.6251466445,
           625342.0431344538,
           636185.461122263,
           647028.8791100723,
           657872.2970978814,
           668715.7150856907,
           679559.1330735001,
           690402.5510613093,
           701245.9690491186,
           712089.3870369279,
           722932.805024737,
           733776.2230125463,
           744619.6410003555,
           755463.0589881648
          ],
          [
           104008.56752196961,
           114851.98550977884,
           125695.4034975881,
           136538.82148539732,
           147382.23947320657,
           158225.65746101583,
           169069.07544882505,
           179912.4934366343,
           190755.91142444356,
           201599.3294122528,
           212442.74740006204,
           223286.1653878713,
           234129.58337568052,
           244973.00136348978,
           255816.41935129903,
           266659.8373391083,
           277503.2553269175,
           288346.67331472674,
           299190.09130253596,
           310033.50929034525,
           320876.92727815453,
           331720.3452659637,
           342563.763253773,
           353407.1812415822,
           364250.5992293915,
           375094.0172172007,
           385937.43520500994,
           396780.8531928192,
           407624.27118062845,
           418467.68916843773,
           429311.10715624696,
           440154.5251440562,
           450997.9431318654,
           461841.36111967464,
           472684.7791074839,
           483528.19709529314,
           494371.61508310237,
           505215.03307091165,
           516058.4510587209,
           526901.8690465302,
           537745.2870343394,
           548588.7050221486,
           559432.1230099578,
           570275.5409977671,
           581118.9589855764,
           591962.3769733857,
           602805.794961195,
           613649.212949004,
           624492.6309368133,
           635336.0489246225,
           646179.4669124318,
           657022.8849002409,
           667866.3028880502,
           678709.7208758596,
           689553.1388636688,
           700396.5568514781,
           711239.9748392873,
           722083.3928270965,
           732926.8108149058,
           743770.228802715,
           754613.6467905242
          ],
          [
           103159.15532432916,
           114002.5733121384,
           124845.99129994764,
           135689.4092877569,
           146532.82727556612,
           157376.24526337537,
           168219.66325118463,
           179063.08123899385,
           189906.49922680313,
           200749.91721461236,
           211593.3352024216,
           222436.75319023087,
           233280.1711780401,
           244123.58916584932,
           254967.0071536586,
           265810.42514146783,
           276653.84312927705,
           287497.2611170863,
           298340.67910489556,
           309184.09709270485,
           320027.5150805141,
           330870.9330683233,
           341714.3510561325,
           352557.76904394175,
           363401.18703175103,
           374244.60501956026,
           385088.0230073695,
           395931.44099517877,
           406774.858982988,
           417618.2769707973,
           428461.6949586065,
           439305.1129464157,
           450148.53093422495,
           460991.9489220342,
           471835.36690984346,
           482678.7848976527,
           493522.2028854619,
           504365.6208732712,
           515209.0388610804,
           526052.4568488897,
           536895.8748366989,
           547739.2928245082,
           558582.7108123174,
           569426.1288001266,
           580269.5467879359,
           591112.9647757452,
           601956.3827635545,
           612799.8007513636,
           623643.2187391729,
           634486.6367269821,
           645330.0547147914,
           656173.4727026005,
           667016.8906904098,
           677860.3086782192,
           688703.7266660284,
           699547.1446538377,
           710390.562641647,
           721233.9806294561,
           732077.3986172654,
           742920.8166050746,
           753764.2345928838
          ],
          [
           102309.74312668869,
           113153.16111449793,
           123996.57910230717,
           134839.9970901164,
           145683.41507792566,
           156526.83306573489,
           167370.25105354414,
           178213.6690413534,
           189057.08702916265,
           199900.50501697187,
           210743.92300478113,
           221587.34099259038,
           232430.7589803996,
           243274.17696820886,
           254117.59495601812,
           264961.0129438274,
           275804.4309316366,
           286647.8489194458,
           297491.26690725505,
           308334.68489506433,
           319178.1028828736,
           330021.5208706828,
           340864.93885849207,
           351708.35684630123,
           362551.7748341105,
           373395.1928219198,
           384238.61080972897,
           395082.02879753825,
           405925.44678534754,
           416768.8647731568,
           427612.282760966,
           438455.70074877527,
           449299.11873658444,
           460142.5367243937,
           470985.954712203,
           481829.3727000122,
           492672.79068782146,
           503516.20867563074,
           514359.6266634399,
           525203.0446512492,
           536046.4626390585,
           546889.8806268676,
           557733.2986146769,
           568576.7166024861,
           579420.1345902954,
           590263.5525781047,
           601106.970565914,
           611950.3885537231,
           622793.8065415324,
           633637.2245293416,
           644480.6425171508,
           655324.06050496,
           666167.4784927693,
           677010.8964805787,
           687854.3144683879,
           698697.7324561971,
           709541.1504440064,
           720384.5684318156,
           731227.9864196249,
           742071.404407434,
           752914.8223952433
          ],
          [
           101460.33092904821,
           112303.74891685747,
           123147.1669046667,
           133990.58489247595,
           144834.0028802852,
           155677.42086809443,
           166520.83885590368,
           177364.25684371294,
           188207.6748315222,
           199051.09281933142,
           209894.51080714067,
           220737.92879494993,
           231581.34678275915,
           242424.7647705684,
           253268.18275837766,
           264111.6007461869,
           274955.01873399614,
           285798.43672180537,
           296641.85470961465,
           307485.27269742393,
           318328.6906852331,
           329172.1086730424,
           340015.52666085155,
           350858.9446486608,
           361702.36263647006,
           372545.7806242793,
           383389.1986120885,
           394232.6165998978,
           405076.034587707,
           415919.4525755163,
           426762.87056332553,
           437606.28855113476,
           448449.706538944,
           459293.1245267532,
           470136.5425145625,
           480979.9605023717,
           491823.37849018094,
           502666.7964779902,
           513510.21446579945,
           524353.6324536088,
           535197.050441418,
           546040.4684292271,
           556883.8864170364,
           567727.3044048457,
           578570.722392655,
           589414.1403804643,
           600257.5583682735,
           611100.9763560827,
           621944.394343892,
           632787.8123317012,
           643631.2303195104,
           654474.6483073196,
           665318.0662951289,
           676161.4842829383,
           687004.9022707475,
           697848.3202585567,
           708691.738246366,
           719535.1562341752,
           730378.5742219845,
           741221.9922097937,
           752065.4101976029
          ],
          [
           100610.91873140776,
           111454.336719217,
           122297.75470702624,
           133141.17269483546,
           143984.59068264475,
           154828.00867045397,
           165671.4266582632,
           176514.84464607248,
           187358.2626338817,
           198201.68062169093,
           209045.09860950022,
           219888.51659730944,
           230731.93458511867,
           241575.35257292795,
           252418.77056073718,
           263262.18854854646,
           274105.6065363557,
           284949.0245241649,
           295792.44251197414,
           306635.8604997834,
           317479.27848759264,
           328322.69647540187,
           339166.1144632111,
           350009.5324510203,
           360852.9504388296,
           371696.36842663883,
           382539.78641444806,
           393383.20440225734,
           404226.62239006656,
           415070.04037787585,
           425913.4583656851,
           436756.8763534943,
           447600.2943413035,
           458443.71232911275,
           469287.13031692203,
           480130.54830473126,
           490973.9662925405,
           501817.38428034977,
           512660.802268159,
           523504.2202559683,
           534347.6382437774,
           545191.0562315867,
           556034.474219396,
           566877.8922072052,
           577721.3101950145,
           588564.7281828237,
           599408.146170633,
           610251.5641584422,
           621094.9821462515,
           631938.4001340606,
           642781.8181218699,
           653625.2361096791,
           664468.6540974884,
           675312.0720852978,
           686155.490073107,
           696998.9080609162,
           707842.3260487255,
           718685.7440365347,
           729529.162024344,
           740372.5800121531,
           751215.9979999624
          ],
          [
           99761.5065337673,
           110604.92452157653,
           121448.34250938578,
           132291.760497195,
           143135.17848500426,
           153978.59647281351,
           164822.01446062274,
           175665.432448432,
           186508.85043624125,
           197352.26842405048,
           208195.68641185973,
           219039.10439966898,
           229882.5223874782,
           240725.94037528746,
           251569.35836309672,
           262412.776350906,
           273256.19433871517,
           284099.61232652445,
           294943.0303143337,
           305786.44830214296,
           316629.8662899522,
           327473.2842777614,
           338316.70226557064,
           349160.12025337986,
           360003.53824118915,
           370846.9562289984,
           381690.3742168076,
           392533.7922046169,
           403377.2101924261,
           414220.6281802354,
           425064.0461680446,
           435907.46415585384,
           446750.88214366307,
           457594.3001314723,
           468437.7181192816,
           479281.1361070908,
           490124.5540949,
           500967.9720827093,
           511811.39007051854,
           522654.8080583278,
           533498.226046137,
           544341.6440339463,
           555185.0620217556,
           566028.4800095647,
           576871.897997374,
           587715.3159851832,
           598558.7339729925,
           609402.1519608018,
           620245.5699486111,
           631088.9879364202,
           641932.4059242295,
           652775.8239120387,
           663619.241899848,
           674462.6598876574,
           685306.0778754666,
           696149.4958632758,
           706992.9138510851,
           717836.3318388943,
           728679.7498267036,
           739523.1678145127,
           750366.585802322
          ],
          [
           98912.09433612683,
           109755.51232393607,
           120598.93031174531,
           131442.34829955455,
           142285.7662873638,
           153129.18427517306,
           163972.60226298228,
           174816.02025079154,
           185659.4382386008,
           196502.85622641002,
           207346.27421421927,
           218189.69220202853,
           229033.11018983775,
           239876.528177647,
           250719.94616545626,
           261563.36415326552,
           272406.7821410748,
           283250.20012888394,
           294093.6181166932,
           304937.0361045025,
           315780.45409231173,
           326623.87208012096,
           337467.2900679302,
           348310.7080557394,
           359154.1260435487,
           369997.5440313579,
           380840.96201916714,
           391684.3800069764,
           402527.79799478565,
           413371.21598259493,
           424214.63397040416,
           435058.0519582134,
           445901.4699460226,
           456744.88793383184,
           467588.3059216411,
           478431.72390945035,
           489275.1418972596,
           500118.55988506885,
           510961.9778728781,
           521805.39586068736,
           532648.8138484966,
           543492.2318363058,
           554335.6498241151,
           565179.0678119243,
           576022.4857997335,
           586865.9037875428,
           597709.3217753521,
           608552.7397631613,
           619396.1577509706,
           630239.5757387797,
           641082.993726589,
           651926.4117143982,
           662769.8297022075,
           673613.2476900169,
           684456.665677826,
           695300.0836656353,
           706143.5016534446,
           716986.9196412538,
           727830.337629063,
           738673.7556168722,
           749517.1736046815
          ],
          [
           98062.68213848636,
           108906.1001262956,
           119749.51811410484,
           130592.93610191408,
           141436.35408972332,
           152279.77207753257,
           163123.19006534183,
           173966.60805315105,
           184810.02604096034,
           195653.44402876956,
           206496.8620165788,
           217340.28000438807,
           228183.6979921973,
           239027.11598000652,
           249870.5339678158,
           260713.95195562503,
           271557.36994343426,
           282400.7879312435,
           293244.20591905277,
           304087.62390686205,
           314931.0418946713,
           325774.4598824805,
           336617.8778702897,
           347461.29585809895,
           358304.71384590823,
           369148.13183371746,
           379991.5498215267,
           390834.96780933597,
           401678.3857971452,
           412521.8037849545,
           423365.2217727637,
           434208.6397605729,
           445052.05774838215,
           455895.4757361914,
           466738.89372400066,
           477582.3117118099,
           488425.7296996191,
           499269.1476874284,
           510112.5656752376,
           520955.9836630469,
           531799.4016508561,
           542642.8196386653,
           553486.2376264746,
           564329.6556142839,
           575173.0736020932,
           586016.4915899024,
           596859.9095777117,
           607703.3275655208,
           618546.74555333,
           629390.1635411392,
           640233.5815289485,
           651076.9995167577,
           661920.417504567,
           672763.8354923764,
           683607.2534801855,
           694450.6714679948,
           705294.0894558041,
           716137.5074436133,
           726980.9254314225,
           737824.3434192317,
           748667.761407041
          ],
          [
           97213.2699408459,
           108056.68792865514,
           118900.10591646438,
           129743.52390427362,
           140586.94189208286,
           151430.35987989212,
           162273.77786770137,
           173117.1958555106,
           183960.61384331988,
           194804.0318311291,
           205647.44981893833,
           216490.8678067476,
           227334.28579455684,
           238177.70378236606,
           249021.12177017535,
           259864.53975798457,
           270707.9577457938,
           281551.375733603,
           292394.7937214123,
           303238.2117092216,
           314081.6296970308,
           324925.04768484004,
           335768.46567264927,
           346611.8836604585,
           357455.3016482678,
           368298.719636077,
           379142.1376238862,
           389985.5556116955,
           400828.97359950474,
           411672.391587314,
           422515.80957512325,
           433359.2275629325,
           444202.6455507417,
           455046.0635385509,
           465889.4815263602,
           476732.89951416943,
           487576.31750197866,
           498419.73548978794,
           509263.15347759717,
           520106.57146540645,
           530949.9894532156,
           541793.4074410249,
           552636.8254288342,
           563480.2434166434,
           574323.6614044526,
           585167.0793922619,
           596010.4973800712,
           606853.9153678804,
           617697.3333556897,
           628540.7513434988,
           639384.1693313081,
           650227.5873191173,
           661071.0053069266,
           671914.423294736,
           682757.8412825451,
           693601.2592703544,
           704444.6772581637,
           715288.0952459729,
           726131.5132337821,
           736974.9312215913,
           747818.3492094006
          ]
         ]
        }
       ],
       "layout": {
        "autosize": true,
        "height": 500,
        "legend": {
         "x": 0.01,
         "xanchor": "left",
         "y": 0.99,
         "yanchor": "top"
        },
        "margin": {
         "b": 0,
         "l": 0,
         "r": 0,
         "t": 0
        },
        "scene": {
         "aspectmode": "auto",
         "aspectratio": {
          "x": 1,
          "y": 1,
          "z": 1
         },
         "camera": {
          "center": {
           "x": 0,
           "y": 0,
           "z": 0
          },
          "eye": {
           "x": 1.3396607618429697,
           "y": 1.33966076184297,
           "z": 1.33966076184297
          },
          "projection": {
           "type": "perspective"
          },
          "up": {
           "x": 0,
           "y": 0,
           "z": 1
          }
         },
         "xaxis": {
          "title": {
           "text": "size"
          },
          "type": "linear"
         },
         "yaxis": {
          "title": {
           "text": "bedroom"
          },
          "type": "linear"
         },
         "zaxis": {
          "title": {
           "text": "price"
          },
          "type": "linear"
         }
        },
        "template": {
         "data": {
          "bar": [
           {
            "error_x": {
             "color": "#2a3f5f"
            },
            "error_y": {
             "color": "#2a3f5f"
            },
            "marker": {
             "line": {
              "color": "#E5ECF6",
              "width": 0.5
             },
             "pattern": {
              "fillmode": "overlay",
              "size": 10,
              "solidity": 0.2
             }
            },
            "type": "bar"
           }
          ],
          "barpolar": [
           {
            "marker": {
             "line": {
              "color": "#E5ECF6",
              "width": 0.5
             },
             "pattern": {
              "fillmode": "overlay",
              "size": 10,
              "solidity": 0.2
             }
            },
            "type": "barpolar"
           }
          ],
          "carpet": [
           {
            "aaxis": {
             "endlinecolor": "#2a3f5f",
             "gridcolor": "white",
             "linecolor": "white",
             "minorgridcolor": "white",
             "startlinecolor": "#2a3f5f"
            },
            "baxis": {
             "endlinecolor": "#2a3f5f",
             "gridcolor": "white",
             "linecolor": "white",
             "minorgridcolor": "white",
             "startlinecolor": "#2a3f5f"
            },
            "type": "carpet"
           }
          ],
          "choropleth": [
           {
            "colorbar": {
             "outlinewidth": 0,
             "ticks": ""
            },
            "type": "choropleth"
           }
          ],
          "contour": [
           {
            "colorbar": {
             "outlinewidth": 0,
             "ticks": ""
            },
            "colorscale": [
             [
              0,
              "#0d0887"
             ],
             [
              0.1111111111111111,
              "#46039f"
             ],
             [
              0.2222222222222222,
              "#7201a8"
             ],
             [
              0.3333333333333333,
              "#9c179e"
             ],
             [
              0.4444444444444444,
              "#bd3786"
             ],
             [
              0.5555555555555556,
              "#d8576b"
             ],
             [
              0.6666666666666666,
              "#ed7953"
             ],
             [
              0.7777777777777778,
              "#fb9f3a"
             ],
             [
              0.8888888888888888,
              "#fdca26"
             ],
             [
              1,
              "#f0f921"
             ]
            ],
            "type": "contour"
           }
          ],
          "contourcarpet": [
           {
            "colorbar": {
             "outlinewidth": 0,
             "ticks": ""
            },
            "type": "contourcarpet"
           }
          ],
          "heatmap": [
           {
            "colorbar": {
             "outlinewidth": 0,
             "ticks": ""
            },
            "colorscale": [
             [
              0,
              "#0d0887"
             ],
             [
              0.1111111111111111,
              "#46039f"
             ],
             [
              0.2222222222222222,
              "#7201a8"
             ],
             [
              0.3333333333333333,
              "#9c179e"
             ],
             [
              0.4444444444444444,
              "#bd3786"
             ],
             [
              0.5555555555555556,
              "#d8576b"
             ],
             [
              0.6666666666666666,
              "#ed7953"
             ],
             [
              0.7777777777777778,
              "#fb9f3a"
             ],
             [
              0.8888888888888888,
              "#fdca26"
             ],
             [
              1,
              "#f0f921"
             ]
            ],
            "type": "heatmap"
           }
          ],
          "heatmapgl": [
           {
            "colorbar": {
             "outlinewidth": 0,
             "ticks": ""
            },
            "colorscale": [
             [
              0,
              "#0d0887"
             ],
             [
              0.1111111111111111,
              "#46039f"
             ],
             [
              0.2222222222222222,
              "#7201a8"
             ],
             [
              0.3333333333333333,
              "#9c179e"
             ],
             [
              0.4444444444444444,
              "#bd3786"
             ],
             [
              0.5555555555555556,
              "#d8576b"
             ],
             [
              0.6666666666666666,
              "#ed7953"
             ],
             [
              0.7777777777777778,
              "#fb9f3a"
             ],
             [
              0.8888888888888888,
              "#fdca26"
             ],
             [
              1,
              "#f0f921"
             ]
            ],
            "type": "heatmapgl"
           }
          ],
          "histogram": [
           {
            "marker": {
             "pattern": {
              "fillmode": "overlay",
              "size": 10,
              "solidity": 0.2
             }
            },
            "type": "histogram"
           }
          ],
          "histogram2d": [
           {
            "colorbar": {
             "outlinewidth": 0,
             "ticks": ""
            },
            "colorscale": [
             [
              0,
              "#0d0887"
             ],
             [
              0.1111111111111111,
              "#46039f"
             ],
             [
              0.2222222222222222,
              "#7201a8"
             ],
             [
              0.3333333333333333,
              "#9c179e"
             ],
             [
              0.4444444444444444,
              "#bd3786"
             ],
             [
              0.5555555555555556,
              "#d8576b"
             ],
             [
              0.6666666666666666,
              "#ed7953"
             ],
             [
              0.7777777777777778,
              "#fb9f3a"
             ],
             [
              0.8888888888888888,
              "#fdca26"
             ],
             [
              1,
              "#f0f921"
             ]
            ],
            "type": "histogram2d"
           }
          ],
          "histogram2dcontour": [
           {
            "colorbar": {
             "outlinewidth": 0,
             "ticks": ""
            },
            "colorscale": [
             [
              0,
              "#0d0887"
             ],
             [
              0.1111111111111111,
              "#46039f"
             ],
             [
              0.2222222222222222,
              "#7201a8"
             ],
             [
              0.3333333333333333,
              "#9c179e"
             ],
             [
              0.4444444444444444,
              "#bd3786"
             ],
             [
              0.5555555555555556,
              "#d8576b"
             ],
             [
              0.6666666666666666,
              "#ed7953"
             ],
             [
              0.7777777777777778,
              "#fb9f3a"
             ],
             [
              0.8888888888888888,
              "#fdca26"
             ],
             [
              1,
              "#f0f921"
             ]
            ],
            "type": "histogram2dcontour"
           }
          ],
          "mesh3d": [
           {
            "colorbar": {
             "outlinewidth": 0,
             "ticks": ""
            },
            "type": "mesh3d"
           }
          ],
          "parcoords": [
           {
            "line": {
             "colorbar": {
              "outlinewidth": 0,
              "ticks": ""
             }
            },
            "type": "parcoords"
           }
          ],
          "pie": [
           {
            "automargin": true,
            "type": "pie"
           }
          ],
          "scatter": [
           {
            "fillpattern": {
             "fillmode": "overlay",
             "size": 10,
             "solidity": 0.2
            },
            "type": "scatter"
           }
          ],
          "scatter3d": [
           {
            "line": {
             "colorbar": {
              "outlinewidth": 0,
              "ticks": ""
             }
            },
            "marker": {
             "colorbar": {
              "outlinewidth": 0,
              "ticks": ""
             }
            },
            "type": "scatter3d"
           }
          ],
          "scattercarpet": [
           {
            "marker": {
             "colorbar": {
              "outlinewidth": 0,
              "ticks": ""
             }
            },
            "type": "scattercarpet"
           }
          ],
          "scattergeo": [
           {
            "marker": {
             "colorbar": {
              "outlinewidth": 0,
              "ticks": ""
             }
            },
            "type": "scattergeo"
           }
          ],
          "scattergl": [
           {
            "marker": {
             "colorbar": {
              "outlinewidth": 0,
              "ticks": ""
             }
            },
            "type": "scattergl"
           }
          ],
          "scattermapbox": [
           {
            "marker": {
             "colorbar": {
              "outlinewidth": 0,
              "ticks": ""
             }
            },
            "type": "scattermapbox"
           }
          ],
          "scatterpolar": [
           {
            "marker": {
             "colorbar": {
              "outlinewidth": 0,
              "ticks": ""
             }
            },
            "type": "scatterpolar"
           }
          ],
          "scatterpolargl": [
           {
            "marker": {
             "colorbar": {
              "outlinewidth": 0,
              "ticks": ""
             }
            },
            "type": "scatterpolargl"
           }
          ],
          "scatterternary": [
           {
            "marker": {
             "colorbar": {
              "outlinewidth": 0,
              "ticks": ""
             }
            },
            "type": "scatterternary"
           }
          ],
          "surface": [
           {
            "colorbar": {
             "outlinewidth": 0,
             "ticks": ""
            },
            "colorscale": [
             [
              0,
              "#0d0887"
             ],
             [
              0.1111111111111111,
              "#46039f"
             ],
             [
              0.2222222222222222,
              "#7201a8"
             ],
             [
              0.3333333333333333,
              "#9c179e"
             ],
             [
              0.4444444444444444,
              "#bd3786"
             ],
             [
              0.5555555555555556,
              "#d8576b"
             ],
             [
              0.6666666666666666,
              "#ed7953"
             ],
             [
              0.7777777777777778,
              "#fb9f3a"
             ],
             [
              0.8888888888888888,
              "#fdca26"
             ],
             [
              1,
              "#f0f921"
             ]
            ],
            "type": "surface"
           }
          ],
          "table": [
           {
            "cells": {
             "fill": {
              "color": "#EBF0F8"
             },
             "line": {
              "color": "white"
             }
            },
            "header": {
             "fill": {
              "color": "#C8D4E3"
             },
             "line": {
              "color": "white"
             }
            },
            "type": "table"
           }
          ]
         },
         "layout": {
          "annotationdefaults": {
           "arrowcolor": "#2a3f5f",
           "arrowhead": 0,
           "arrowwidth": 1
          },
          "autotypenumbers": "strict",
          "coloraxis": {
           "colorbar": {
            "outlinewidth": 0,
            "ticks": ""
           }
          },
          "colorscale": {
           "diverging": [
            [
             0,
             "#8e0152"
            ],
            [
             0.1,
             "#c51b7d"
            ],
            [
             0.2,
             "#de77ae"
            ],
            [
             0.3,
             "#f1b6da"
            ],
            [
             0.4,
             "#fde0ef"
            ],
            [
             0.5,
             "#f7f7f7"
            ],
            [
             0.6,
             "#e6f5d0"
            ],
            [
             0.7,
             "#b8e186"
            ],
            [
             0.8,
             "#7fbc41"
            ],
            [
             0.9,
             "#4d9221"
            ],
            [
             1,
             "#276419"
            ]
           ],
           "sequential": [
            [
             0,
             "#0d0887"
            ],
            [
             0.1111111111111111,
             "#46039f"
            ],
            [
             0.2222222222222222,
             "#7201a8"
            ],
            [
             0.3333333333333333,
             "#9c179e"
            ],
            [
             0.4444444444444444,
             "#bd3786"
            ],
            [
             0.5555555555555556,
             "#d8576b"
            ],
            [
             0.6666666666666666,
             "#ed7953"
            ],
            [
             0.7777777777777778,
             "#fb9f3a"
            ],
            [
             0.8888888888888888,
             "#fdca26"
            ],
            [
             1,
             "#f0f921"
            ]
           ],
           "sequentialminus": [
            [
             0,
             "#0d0887"
            ],
            [
             0.1111111111111111,
             "#46039f"
            ],
            [
             0.2222222222222222,
             "#7201a8"
            ],
            [
             0.3333333333333333,
             "#9c179e"
            ],
            [
             0.4444444444444444,
             "#bd3786"
            ],
            [
             0.5555555555555556,
             "#d8576b"
            ],
            [
             0.6666666666666666,
             "#ed7953"
            ],
            [
             0.7777777777777778,
             "#fb9f3a"
            ],
            [
             0.8888888888888888,
             "#fdca26"
            ],
            [
             1,
             "#f0f921"
            ]
           ]
          },
          "colorway": [
           "#636efa",
           "#EF553B",
           "#00cc96",
           "#ab63fa",
           "#FFA15A",
           "#19d3f3",
           "#FF6692",
           "#B6E880",
           "#FF97FF",
           "#FECB52"
          ],
          "font": {
           "color": "#2a3f5f"
          },
          "geo": {
           "bgcolor": "white",
           "lakecolor": "white",
           "landcolor": "#E5ECF6",
           "showlakes": true,
           "showland": true,
           "subunitcolor": "white"
          },
          "hoverlabel": {
           "align": "left"
          },
          "hovermode": "closest",
          "mapbox": {
           "style": "light"
          },
          "paper_bgcolor": "white",
          "plot_bgcolor": "#E5ECF6",
          "polar": {
           "angularaxis": {
            "gridcolor": "white",
            "linecolor": "white",
            "ticks": ""
           },
           "bgcolor": "#E5ECF6",
           "radialaxis": {
            "gridcolor": "white",
            "linecolor": "white",
            "ticks": ""
           }
          },
          "scene": {
           "xaxis": {
            "backgroundcolor": "#E5ECF6",
            "gridcolor": "white",
            "gridwidth": 2,
            "linecolor": "white",
            "showbackground": true,
            "ticks": "",
            "zerolinecolor": "white"
           },
           "yaxis": {
            "backgroundcolor": "#E5ECF6",
            "gridcolor": "white",
            "gridwidth": 2,
            "linecolor": "white",
            "showbackground": true,
            "ticks": "",
            "zerolinecolor": "white"
           },
           "zaxis": {
            "backgroundcolor": "#E5ECF6",
            "gridcolor": "white",
            "gridwidth": 2,
            "linecolor": "white",
            "showbackground": true,
            "ticks": "",
            "zerolinecolor": "white"
           }
          },
          "shapedefaults": {
           "line": {
            "color": "#2a3f5f"
           }
          },
          "ternary": {
           "aaxis": {
            "gridcolor": "white",
            "linecolor": "white",
            "ticks": ""
           },
           "baxis": {
            "gridcolor": "white",
            "linecolor": "white",
            "ticks": ""
           },
           "bgcolor": "#E5ECF6",
           "caxis": {
            "gridcolor": "white",
            "linecolor": "white",
            "ticks": ""
           }
          },
          "title": {
           "x": 0.05
          },
          "xaxis": {
           "automargin": true,
           "gridcolor": "white",
           "linecolor": "white",
           "ticks": "",
           "title": {
            "standoff": 15
           },
           "zerolinecolor": "white",
           "zerolinewidth": 2
          },
          "yaxis": {
           "automargin": true,
           "gridcolor": "white",
           "linecolor": "white",
           "ticks": "",
           "title": {
            "standoff": 15
           },
           "zerolinecolor": "white",
           "zerolinewidth": 2
          }
         }
        },
        "width": 500
       }
      },
      "image/png": "[encoded data removed]",
      "text/html": [
       "<div>                            <div id=\"96cc054e-65c3-45e1-a3c4-f0e04d256b6d\" class=\"plotly-graph-div\" style=\"height:500px; width:500px;\"></div>            <script type=\"text/javascript\">                require([\"plotly\"], function(Plotly) {                    window.PLOTLYENV=window.PLOTLYENV || {};                                    if (document.getElementById(\"96cc054e-65c3-45e1-a3c4-f0e04d256b6d\")) {                    Plotly.newPlot(                        \"96cc054e-65c3-45e1-a3c4-f0e04d256b6d\",                        [{\"marker\":{\"opacity\":1.0,\"size\":5},\"mode\":\"markers\",\"name\":\"train\",\"x\":[1.6,2.2,1.534,3.89,2.567,2.3,1.1,1.2,1.38,2.04,1.94,1.236,1.416,2.609,1.664,1.767,1.811,3.137,1.962,1.494,1.268,1.89,1.839,3.031,1.0,2.0,2.132,1.239,1.437,2.4,0.852,3.0,2.637,1.427,2.104,1.985,1.458],\"y\":[3.0,3.0,3.0,3.0,4.0,4.0,3.0,3.0,3.0,4.0,4.0,3.0,2.0,4.0,2.0,3.0,4.0,3.0,4.0,3.0,3.0,3.0,2.0,4.0,1.0,3.0,4.0,3.0,3.0,3.0,2.0,4.0,3.0,3.0,3.0,4.0,3.0],\"z\":[329900,475000,314900,573900,314000,449900,249900,299000,212000,314900,239999,199900,232000,499998,368500,252900,285900,579900,259900,242500,259900,329999,349900,599000,169900,347000,345000,229900,249900,369000,179900,539900,299900,198999,399900,299900,464500],\"type\":\"scatter3d\"},{\"marker\":{\"color\":\"green\",\"opacity\":1.0,\"size\":5},\"mode\":\"markers\",\"name\":\"test\",\"x\":[1.604,1.852,2.162,4.478,1.32,1.203,4.215,1.888,2.238,2.526],\"y\":[3.0,4.0,4.0,5.0,2.0,3.0,4.0,2.0,3.0,3.0],\"z\":[242900,299900,287000,699900,299900,239500,549000,255000,329900,469000],\"type\":\"scatter3d\"},{\"name\":\"pred_surface\",\"opacity\":0.7,\"x\":[0.4894,0.56192,0.6344399999999999,0.7069599999999999,0.77948,0.8519999999999999,0.9245199999999998,0.9970399999999999,1.0695599999999998,1.1420799999999998,1.2145999999999997,1.2871199999999998,1.3596399999999997,1.4321599999999997,1.5046799999999998,1.5771999999999997,1.6497199999999996,1.7222399999999995,1.7947599999999995,1.8672799999999996,1.9397999999999995,2.0123199999999994,2.0848399999999994,2.1573599999999993,2.229879999999999,2.302399999999999,2.374919999999999,2.4474399999999994,2.5199599999999993,2.5924799999999992,2.664999999999999,2.737519999999999,2.810039999999999,2.882559999999999,2.955079999999999,3.0275999999999987,3.1001199999999987,3.172639999999999,3.245159999999999,3.317679999999999,3.3901999999999988,3.4627199999999987,3.5352399999999986,3.6077599999999985,3.680279999999999,3.752799999999999,3.8253199999999987,3.8978399999999986,3.9703599999999986,4.0428799999999985,4.115399999999998,4.187919999999998,4.260439999999998,4.332959999999999,4.405479999999999,4.477999999999999,4.550519999999999,4.623039999999999,4.695559999999999,4.7680799999999985,4.8405999999999985],\"y\":[0.6,0.6799999999999999,0.7599999999999999,0.8399999999999999,0.9199999999999998,0.9999999999999998,1.0799999999999996,1.1599999999999997,1.2399999999999998,1.3199999999999996,1.3999999999999995,1.4799999999999995,1.5599999999999996,1.6399999999999997,1.7199999999999993,1.7999999999999994,1.8799999999999994,1.9599999999999995,2.039999999999999,2.119999999999999,2.1999999999999993,2.2799999999999994,2.359999999999999,2.439999999999999,2.519999999999999,2.599999999999999,2.6799999999999993,2.759999999999999,2.839999999999999,2.919999999999999,2.9999999999999987,3.0799999999999987,3.159999999999999,3.239999999999999,3.319999999999999,3.3999999999999986,3.4799999999999986,3.5599999999999987,3.6399999999999983,3.7199999999999984,3.7999999999999985,3.8799999999999986,3.9599999999999986,4.039999999999998,4.119999999999998,4.199999999999998,4.279999999999998,4.359999999999998,4.439999999999998,4.519999999999998,4.599999999999998,4.679999999999998,4.759999999999998,4.839999999999997,4.919999999999997,4.999999999999997,5.079999999999997,5.1599999999999975,5.2399999999999975,5.319999999999998,5.399999999999997],\"z\":[[148178.00179927377,159021.419787083,169864.83777489222,180708.25576270148,191551.67375051073,202395.09173831996,213238.5097261292,224081.92771393846,234925.34570174772,245768.76368955694,256612.1816773662,267455.5996651754,278299.0176529847,289142.43564079393,299985.85362860316,310829.27161641244,321672.68960422167,332516.1075920309,343359.5255798402,354202.9435676494,365046.3615554586,375889.77954326785,386733.1975310771,397576.6155188863,408420.0335066956,419263.4514945048,430106.86948231404,440950.2874701233,451793.70545793255,462637.12344574183,473480.54143355106,484323.9594213603,495167.3774091695,506010.79539697873,516854.213384788,527697.6313725973,538541.0493604065,549384.4673482158,560227.8853360249,571071.3033238342,581914.7213116435,592758.1392994528,603601.557287262,614444.9752750712,625288.3932628805,636131.8112506898,646975.2292384991,657818.6472263082,668662.0652141175,679505.4832019267,690348.901189736,701192.3191775451,712035.7371653544,722879.1551531638,733722.573140973,744565.9911287823,755409.4091165916,766252.8271044007,777096.24509221,787939.6630800192,798783.0810678285],[147328.58960163328,158172.00758944254,169015.42557725176,179858.843565061,190702.26155287027,201545.6795406795,212389.09752848872,223232.515516298,234075.93350410726,244919.3514919165,255762.76947972574,266606.187467535,277449.6054553442,288293.0234431535,299136.44143096276,309979.859418772,320823.2774065812,331666.69539439044,342510.11338219966,353353.53137000895,364196.9493578182,375040.3673456274,385883.7853334366,396727.20332124585,407570.62130905513,418414.03929686436,429257.4572846736,440100.87527248287,450944.2932602921,461787.7112481014,472631.1292359106,483474.5472237198,494317.96521152905,505161.3831993383,516004.80118714756,526848.2191749568,537691.637162766,548535.0551505752,559378.4731383845,570221.8911261938,581065.3091140031,591908.7271018123,602752.1450896215,613595.5630774307,624438.98106524,635282.3990530493,646125.8170408586,656969.2350286677,667812.653016477,678656.0710042862,689499.4889920955,700342.9069799046,711186.3249677139,722029.7429555233,732873.1609433325,743716.5789311418,754559.996918951,765403.4149067602,776246.8328945695,787090.2508823787,797933.668870188],[146479.17740399283,157322.59539180208,168166.0133796113,179009.43136742053,189852.84935522982,200696.26734303904,211539.68533084827,222383.10331865752,233226.52130646678,244069.939294276,254913.35728208526,265756.7752698945,276600.19325770374,287443.61124551296,298287.02923332225,309130.44722113153,319973.8652089407,330817.28319675,341660.7011845592,352504.1191723685,363347.5371601777,374190.95514798694,385034.37313579617,395877.7911236054,406721.2091114147,417564.6270992239,428408.0450870331,439251.4630748424,450094.88106265164,460938.2990504609,471781.71703827014,482625.13502607937,493468.5530138886,504311.9710016978,515155.3889895071,525998.8069773163,536842.2249651256,547685.6429529348,558529.0609407441,569372.4789285534,580215.8969163626,591059.3149041717,601902.732891981,612746.1508797903,623589.5688675996,634432.9868554089,645276.4048432182,656119.8228310273,666963.2408188366,677806.6588066458,688650.0767944551,699493.4947822642,710336.9127700735,721180.3307578829,732023.7487456921,742867.1667335014,753710.5847213106,764554.0027091198,775397.4206969291,786240.8386847383,797084.2566725475],[145629.76520635237,156473.1831941616,167316.60118197085,178160.01916978008,189003.43715758933,199846.8551453986,210690.2731332078,221533.69112101707,232377.10910882632,243220.52709663555,254063.9450844448,264907.36307225405,275750.7810600633,286594.19904787256,297437.6170356818,308281.035023491,319124.4530113003,329967.87099910947,340811.28898691875,351654.70697472803,362498.12496253726,373341.5429503465,384184.9609381557,395028.37892596493,405871.7969137742,416715.21490158344,427558.63288939267,438402.05087720195,449245.4688650112,460088.88685282046,470932.3048406297,481775.7228284389,492619.14081624814,503462.55880405736,514305.97679186665,525149.3947796759,535992.8127674852,546836.2307552944,557679.6487431036,568523.0667309129,579366.4847187221,590209.9027065313,601053.3206943406,611896.7386821498,622740.1566699591,633583.5746577684,644426.9926455776,655270.4106333868,666113.8286211961,676957.2466090053,687800.6645968145,698644.0825846237,709487.500572433,720330.9185602424,731174.3365480516,742017.7545358608,752861.1725236701,763704.5905114793,774548.0084992886,785391.4264870977,796234.844474907],[144780.35300871189,155623.77099652114,166467.1889843304,177310.60697213962,188154.02495994887,198997.44294775813,209840.86093556735,220684.2789233766,231527.69691118586,242371.1148989951,253214.53288680434,264057.9508746136,274901.3688624228,285744.78685023205,296588.20483804133,307431.6228258506,318275.0408136598,329118.45880146907,339961.8767892783,350805.2947770876,361648.7127648968,372492.130752706,383335.54874051525,394178.9667283245,405022.38471613376,415865.802703943,426709.2206917522,437552.6386795615,448396.0566673707,459239.47465518,470082.89264298923,480926.31063079846,491769.7286186077,502613.1466064169,513456.5645942262,524299.9825820355,535143.4005698446,545986.8185576539,556830.2365454631,567673.6545332724,578517.0725210817,589360.490508891,600203.9084967002,611047.3264845093,621890.7444723186,632734.1624601278,643577.5804479371,654420.9984357463,665264.4164235556,676107.8344113647,686951.252399174,697794.6703869832,708638.0883747925,719481.5063626019,730324.924350411,741168.3423382203,752011.7603260296,762855.1783138388,773698.5963016481,784542.0142894572,795385.4322772665],[143930.94081107143,154774.35879888065,165617.7767866899,176461.19477449916,187304.6127623084,198148.03075011764,208991.4487379269,219834.86672573615,230678.2847135454,241521.70270135463,252365.1206891639,263208.53867697314,274051.95666478237,284895.37465259165,295738.7926404009,306582.2106282101,317425.6286160194,328269.04660382855,339112.46459163784,349955.8825794471,360799.30056725634,371642.71855506557,382486.1365428748,393329.554530684,404172.9725184933,415016.39050630253,425859.80849411176,436703.22648192104,447546.64446973026,458390.06245753955,469233.4804453488,480076.898433158,490920.3164209672,501763.73440877645,512607.15239658573,523450.57038439496,534293.9883722041,545137.4063600134,555980.8243478227,566824.242335632,577667.6603234413,588511.0783112504,599354.4962990597,610197.9142868689,621041.3322746782,631884.7502624874,642728.1682502967,653571.5862381059,664415.0042259152,675258.4222137243,686101.8402015336,696945.2581893428,707788.6761771521,718632.0941649615,729475.5121527707,740318.9301405799,751162.3481283892,762005.7661161984,772849.1841040077,783692.6020918168,794536.0200796261],[143081.52861343097,153924.9466012402,164768.36458904945,175611.7825768587,186455.20056466793,197298.6185524772,208142.03654028644,218985.45452809567,229828.87251590492,240672.29050371415,251515.7084915234,262359.1264793327,273202.54446714185,284045.96245495114,294889.3804427604,305732.79843056964,316576.21641837887,327419.6344061881,338263.0523939973,349106.47038180666,359949.8883696159,370793.3063574251,381636.72434523434,392480.14233304356,403323.56032085285,414166.9783086621,425010.3962964713,435853.8142842806,446697.2322720898,457540.6502598991,468384.0682477083,479227.48623551754,490070.90422332677,500914.322211136,511757.7401989453,522601.1581867545,533444.5761745637,544287.994162373,555131.4121501823,565974.8301379916,576818.2481258007,587661.6661136099,598505.0841014192,609348.5020892284,620191.9200770376,631035.3380648469,641878.7560526562,652722.1740404654,663565.5920282747,674409.0100160838,685252.4280038931,696095.8459917023,706939.2639795116,717782.681967321,728626.0999551301,739469.5179429394,750312.9359307487,761156.3539185579,771999.7719063672,782843.1898941763,793686.6078819856],[142232.11641579052,153075.53440359974,163918.95239140897,174762.37037921822,185605.78836702748,196449.2063548367,207292.62434264596,218136.0423304552,228979.46031826446,239822.8783060737,250666.29629388294,261509.7142816922,272353.13226950145,283196.5502573107,294039.9682451199,304883.3862329292,315726.8042207384,326570.22220854764,337413.6401963569,348257.0581841662,359100.47617197543,369943.89415978466,380787.3121475939,391630.7301354031,402474.1481232124,413317.5661110216,424160.98409883084,435004.4020866401,445847.82007444935,456691.23806225864,467534.65605006786,478378.0740378771,489221.4920256863,500064.91001349554,510908.3280013048,521751.74598911405,532595.1639769233,543438.5819647326,554281.9999525418,565125.4179403511,575968.8359281602,586812.2539159695,597655.6719037788,608499.089891588,619342.5078793972,630185.9258672065,641029.3438550158,651872.761842825,662716.1798306343,673559.5978184434,684403.0158062527,695246.4337940619,706089.8517818712,716933.2697696806,727776.6877574897,738620.105745299,749463.5237331083,760306.9417209175,771150.3597087268,781993.7776965359,792837.1956843452],[141382.70421815003,152226.12220595928,163069.5401937685,173912.95818157776,184756.37616938702,195599.79415719624,206443.2121450055,217286.63013281475,228130.048120624,238973.46610843323,249816.8840962425,260660.30208405174,271503.72007186094,282347.1380596702,293190.5560474795,304033.97403528873,314877.39202309796,325720.8100109072,336564.2279987164,347407.6459865257,358251.0639743349,369094.48196214414,379937.89994995337,390781.3179377626,401624.7359255719,412468.1539133811,423311.5719011903,434154.9898889996,444998.40787680884,455841.8258646181,466685.24385242735,477528.6618402366,488372.0798280458,499215.497815855,510058.9158036643,520902.33379147353,531745.7517792827,542589.169767092,553432.5877549013,564276.0057427105,575119.4237305198,585962.841718329,596806.2597061383,607649.6776939475,618493.0956817567,629336.513669566,640179.9316573753,651023.3496451845,661866.7676329938,672710.1856208029,683553.6036086122,694397.0215964214,705240.4395842307,716083.85757204,726927.2755598492,737770.6935476585,748614.1115354678,759457.529523277,770300.9475110862,781144.3654988954,791987.7834867047],[140533.29202050957,151376.71000831883,162220.12799612805,173063.54598393728,183906.96397174656,194750.3819595558,205593.799947365,216437.2179351743,227280.63592298355,238124.05391079278,248967.47189860203,259810.88988641129,270654.30787422054,281497.72586202977,292341.143849839,303184.5618376483,314027.9798254575,324871.3978132667,335714.815801076,346558.23378888523,357401.65177669446,368245.0697645037,379088.4877523129,389931.90574012214,400775.3237279314,411618.74171574065,422462.15970354987,433305.57769135915,444148.9956791684,454992.41366697766,465835.8316547869,476679.2496425961,487522.66763040534,498366.08561821457,509209.50360602385,520052.9215938331,530896.3395816423,541739.7575694516,552583.1755572609,563426.5935450702,574270.0115328793,585113.4295206885,595956.8475084978,606800.265496307,617643.6834841163,628487.1014719256,639330.5194597349,650173.9374475441,661017.3554353534,671860.7734231625,682704.1914109718,693547.609398781,704391.0273865903,715234.4453743997,726077.8633622088,736921.2813500181,747764.6993378274,758608.1173256366,769451.5353134458,780294.953301255,791138.3712890643],[139683.87982286912,150527.29781067837,161370.7157984876,172214.13378629682,183057.5517741061,193900.96976191533,204744.38774972456,215587.8057375338,226431.22372534306,237274.6417131523,248118.05970096154,258961.4776887708,269804.89567658,280648.3136643893,291491.73165219853,302335.14964000776,313178.56762781704,324021.9856156262,334865.4036034355,345708.8215912448,356552.239579054,367395.6575668632,378239.07555467245,389082.4935424817,399925.91153029096,410769.3295181002,421612.7475059094,432456.1654937187,443299.5834815279,454143.0014693372,464986.41945714643,475829.83744495566,486673.2554327649,497516.6734205741,508360.0914083834,519203.5093961926,530046.9273840019,540890.3453718112,551733.7633596204,562577.1813474296,573420.5993352388,584264.0173230481,595107.4353108574,605950.8532986665,616794.2712864758,627637.6892742851,638481.1072620944,649324.5252499036,660167.9432377128,671011.361225522,681854.7792133313,692698.1972011405,703541.6151889497,714385.0331767591,725228.4511645683,736071.8691523776,746915.2871401869,757758.705127996,768602.1231158053,779445.5411036145,790288.9590914238],[138834.46762522863,149677.88561303788,160521.30360084714,171364.72158865636,182208.13957646562,193051.55756427487,203894.9755520841,214738.39353989335,225581.8115277026,236425.22951551183,247268.6475033211,258112.06549113034,268955.48347893957,279798.9014667488,290642.3194545581,301485.73744236736,312329.1554301765,323172.5734179858,334015.99140579504,344859.4093936043,355702.82738141355,366546.2453692228,377389.663357032,388233.0813448412,399076.4993326505,409919.91732045973,420763.33530826896,431606.75329607824,442450.17128388747,453293.58927169675,464137.007259506,474980.4252473152,485823.8432351244,496667.26122293365,507510.67921074294,518354.09719855216,529197.5151863614,540040.9331741707,550884.3511619798,561727.7691497891,572571.1871375984,583414.6051254077,594258.023113217,605101.441101026,615944.8590888354,626788.2770766447,637631.695064454,648475.1130522632,659318.5310400724,670161.9490278816,681005.3670156909,691848.7850035001,702692.2029913093,713535.6209791187,724379.0389669279,735222.4569547372,746065.8749425465,756909.2929303556,767752.7109181649,778596.1289059741,789439.5468937834],[137985.05542758817,148828.47341539743,159671.89140320665,170515.3093910159,181358.72737882516,192202.1453666344,203045.56335444364,213888.9813422529,224732.39933006215,235575.81731787138,246419.23530568063,257262.6532934899,268106.0712812991,278949.4892691084,289792.9072569176,300636.32524472685,311479.74323253613,322323.1612203453,333166.5792081546,344009.99719596386,354853.4151837731,365696.8331715823,376540.25115939154,387383.66914720077,398227.08713501005,409070.5051228193,419913.9231106285,430757.3410984378,441600.759086247,452444.1770740563,463287.5950618655,474131.01304967474,484974.43103748397,495817.8490252932,506661.2670131025,517504.6850009117,528348.1029887209,539191.5209765302,550034.9389643394,560878.3569521487,571721.774939958,582565.1929277672,593408.6109155765,604252.0289033856,615095.4468911949,625938.8648790042,636782.2828668135,647625.7008546226,658469.1188424319,669312.5368302411,680155.9548180504,690999.3728058595,701842.7907936688,712686.2087814782,723529.6267692874,734373.0447570967,745216.462744906,756059.8807327151,766903.2987205244,777746.7167083336,788590.1346961429],[137135.64322994772,147979.06121775694,158822.4792055662,169665.89719337545,180509.31518118468,191352.73316899393,202196.1511568032,213039.5691446124,223882.9871324217,234726.40512023092,245569.82310804015,256413.24109584943,267256.65908365865,278100.0770714679,288943.49505927716,299786.9130470864,310630.3310348956,321473.74902270484,332317.1670105141,343160.5849983234,354004.00298613263,364847.42097394186,375690.8389617511,386534.2569495603,397377.6749373696,408221.0929251788,419064.51091298804,429907.9289007973,440751.34688860655,451594.76487641584,462438.18286422506,473281.6008520343,484125.0188398435,494968.43682765274,505811.854815462,516655.27280327125,527498.6907910805,538342.1087788898,549185.526766699,560028.9447545083,570872.3627423175,581715.7807301267,592559.198717936,603402.6167057452,614246.0346935544,625089.4526813637,635932.870669173,646776.2886569821,657619.7066447914,668463.1246326006,679306.5426204099,690149.960608219,700993.3785960283,711836.7965838377,722680.2145716469,733523.6325594562,744367.0505472654,755210.4685350746,766053.8865228839,776897.3045106931,787740.7224985023],[136286.23103230726,147129.64902011649,157973.06700792574,168816.484995735,179659.90298354422,190503.32097135347,201346.73895916273,212190.15694697195,223033.5749347812,233876.99292259043,244720.4109103997,255563.82889820894,266407.2468860182,277250.6648738274,288094.08286163665,298937.50084944593,309780.91883725516,320624.3368250644,331467.75481287367,342311.17280068295,353154.5907884922,363998.0087763014,374841.4267641106,385684.84475191985,396528.26273972914,407371.68072753836,418215.0987153476,429058.51670315687,439901.9346909661,450745.3526787754,461588.7706665846,472432.18865439383,483275.60664220306,494119.0246300123,504962.44261782157,515805.8606056308,526649.2785934401,537492.6965812494,548336.1145690585,559179.5325568678,570022.950544677,580866.3685324863,591709.7865202955,602553.2045081047,613396.622495914,624240.0404837233,635083.4584715326,645926.8764593417,656770.294447151,667613.7124349602,678457.1304227695,689300.5484105786,700143.9663983879,710987.3843861973,721830.8023740065,732674.2203618158,743517.638349625,754361.0563374342,765204.4743252435,776047.8923130527,786891.310300862],[135436.8188346668,146280.23682247603,157123.65481028525,167967.0727980945,178810.49078590376,189653.908773713,200497.32676152224,211340.7447493315,222184.16273714075,233027.58072494998,243870.99871275923,254714.4167005685,265557.8346883777,276401.25267618697,287244.67066399625,298088.0886518055,308931.5066396147,319774.9246274239,330618.34261523315,341461.76060304244,352305.1785908517,363148.5965786609,373992.01456647017,384835.43255427934,395678.8505420886,406522.2685298979,417365.6865177071,428209.10450551636,439052.52249332564,449895.9404811349,460739.3584689441,471582.7764567534,482426.19444456254,493269.6124323718,504113.0304201811,514956.4484079903,525799.8663957996,536643.2843836088,547486.702371418,558330.1203592273,569173.5383470366,580016.9563348457,590860.374322655,601703.7923104642,612547.2102982735,623390.6282860828,634234.046273892,645077.4642617012,655920.8822495105,666764.3002373197,677607.718225129,688451.1362129381,699294.5542007474,710137.9721885568,720981.390176366,731824.8081641753,742668.2261519845,753511.6441397937,764355.062127603,775198.4801154122,786041.8981032214],[134587.40663702632,145430.82462483557,156274.2426126448,167117.66060045405,177961.0785882633,188804.49657607253,199647.9145638818,210491.33255169104,221334.7505395003,232178.16852730952,243021.58651511878,253865.00450292803,264708.4224907373,275551.8404785465,286395.25846635574,297238.676454165,308082.09444197424,318925.51242978347,329768.93041759275,340612.34840540204,351455.7663932112,362299.18438102043,373142.60236882966,383986.0203566389,394829.43834444816,405672.8563322574,416516.2743200666,427359.6923078759,438203.1102956851,449046.5282834944,459889.94627130363,470733.36425911286,481576.7822469221,492420.2002347313,503263.6182225406,514107.0362103498,524950.454198159,535793.8721859683,546637.2901737776,557480.7081615869,568324.1261493961,579167.5441372052,590010.9621250145,600854.3801128238,611697.7981006331,622541.2160884424,633384.6340762516,644228.0520640608,655071.4700518701,665914.8880396793,676758.3060274886,687601.7240152977,698445.142003107,709288.5599909164,720131.9779787256,730975.3959665349,741818.8139543441,752662.2319421533,763505.6499299626,774349.0679177718,785192.485905581],[133737.99443938586,144581.41242719512,155424.83041500434,166268.24840281357,177111.66639062285,187955.08437843208,198798.5023662413,209641.92035405058,220485.3383418598,231328.75632966904,242172.1743174783,253015.59230528754,263859.01029309677,274702.42828090605,285545.8462687153,296389.2642565245,307232.6822443338,318076.10023214296,328919.51821995224,339762.9362077615,350606.35419557075,361449.77218338,372293.1901711892,383136.6081589984,393980.0261468077,404823.44413461693,415666.86212242616,426510.28011023544,437353.69809804467,448197.11608585395,459040.5340736632,469883.9520614724,480727.3700492816,491570.78803709085,502414.20602490014,513257.62401270936,524101.0420005186,534944.4599883279,545787.8779761371,556631.2959639464,567474.7139517555,578318.1319395648,589161.5499273741,600004.9679151833,610848.3859029926,621691.8038908018,632535.2218786111,643378.6398664203,654222.0578542296,665065.4758420388,675908.893829848,686752.3118176572,697595.7298054665,708439.1477932759,719282.565781085,730125.9837688943,740969.4017567036,751812.8197445128,762656.2377323221,773499.6557201312,784343.0737079405],[132888.5822417454,143732.00022955463,154575.41821736388,165418.8362051731,176262.25419298236,187105.67218079162,197949.09016860084,208792.5081564101,219635.92614421935,230479.34413202858,241322.76211983783,252166.1801076471,263009.5980954563,273853.01608326554,284696.4340710748,295539.8520588841,306383.2700466933,317226.68803450256,328070.1060223118,338913.52401012107,349756.9419979303,360600.3599857395,371443.77797354874,382287.19596135797,393130.61394916725,403974.0319369765,414817.4499247857,425660.867912595,436504.2859004042,447347.7038882135,458191.1218760227,469034.53986383195,479877.9578516412,490721.3758394504,501564.7938272597,512408.2118150689,523251.62980287813,534095.0477906874,544938.4657784966,555781.8837663059,566625.3017541151,577468.7197419244,588312.1377297337,599155.5557175428,609998.9737053522,620842.3916931615,631685.8096809707,642529.2276687799,653372.6456565892,664216.0636443984,675059.4816322076,685902.8996200168,696746.3176078261,707589.7355956355,718433.1535834447,729276.5715712539,740119.9895590632,750963.4075468724,761806.8255346817,772650.2435224908,783493.6615103001],[132039.17004410492,142882.58803191417,153726.00601972343,164569.42400753265,175412.8419953419,186256.25998315116,197099.6779709604,207943.09595876964,218786.5139465789,229629.93193438812,240473.34992219738,251316.76791000663,262160.18589781586,273003.60388562514,283847.02187343437,294690.4398612436,305533.8578490529,316377.27583686204,327220.6938246713,338064.1118124806,348907.52980028983,359750.94778809906,370594.3657759083,381437.7837637175,392281.2017515268,403124.619739336,413968.03772714525,424811.4557149545,435654.87370276375,446498.29169057304,457341.70967838226,468185.1276661915,479028.5456540007,489871.96364180994,500715.3816296192,511558.79961742845,522402.2176052377,533245.6355930469,544089.0535808562,554932.4715686655,565775.8895564748,576619.3075442839,587462.7255320932,598306.1435199024,609149.5615077117,619992.9794955209,630836.3974833302,641679.8154711394,652523.2334589487,663366.6514467578,674210.0694345671,685053.4874223763,695896.9054101856,706740.323397995,717583.7413858041,728427.1593736134,739270.5773614227,750113.9953492319,760957.4133370412,771800.8313248503,782644.2493126596],[131189.75784646446,142033.17583427372,152876.59382208294,163720.0118098922,174563.42979770145,185406.84778551068,196250.26577331993,207093.68376112918,217937.10174893844,228780.51973674766,239623.93772455692,250467.35571236617,261310.7737001754,272154.1916879846,282997.6096757939,293841.0276636032,304684.44565141236,315527.86363922164,326371.28162703087,337214.69961484015,348058.1176026494,358901.5355904586,369744.9535782678,380588.37156607705,391431.78955388634,402275.20754169556,413118.6255295048,423962.0435173141,434805.4615051233,445648.8794929326,456492.2974807418,467335.71546855103,478179.13345636026,489022.5514441695,499865.96943197877,510709.387419788,521552.8054075972,532396.2233954065,543239.6413832158,554083.0593710251,564926.4773588342,575769.8953466434,586613.3133344527,597456.731322262,608300.1493100711,619143.5672978804,629986.9852856897,640830.4032734989,651673.8212613082,662517.2392491173,673360.6572369266,684204.0752247358,695047.493212545,705890.9112003545,716734.3291881636,727577.7471759729,738421.1651637822,749264.5831515914,760108.0011394006,770951.4191272098,781794.8371150191],[130340.345648824,141183.76363663323,152027.18162444248,162870.59961225174,173714.01760006096,184557.43558787022,195400.85357567947,206244.2715634887,217087.68955129795,227931.10753910718,238774.52552691643,249617.9435147257,260461.3615025349,271304.77949034417,282148.1974781534,292991.6154659627,303835.0334537719,314678.4514415811,325521.8694293904,336365.2874171997,347208.7054050089,358052.12339281815,368895.5413806274,379738.9593684366,390582.3773562459,401425.7953440551,412269.21333186433,423112.6313196736,433956.04930748284,444799.4672952921,455642.88528310135,466486.3032709106,477329.7212587198,488173.139246529,499016.5572343383,509859.97522214754,520703.39320995676,531546.8111977661,542390.2291855753,553233.6471733846,564077.0651611937,574920.483149003,585763.9011368123,596607.3191246215,607450.7371124307,618294.15510024,629137.5730880493,639980.9910758585,650824.4090636678,661667.8270514769,672511.2450392862,683354.6630270954,694198.0810149047,705041.4990027141,715884.9169905232,726728.3349783325,737571.7529661418,748415.170953951,759258.5889417602,770102.0069295694,780945.4249173787],[129490.93345118355,140334.35143899277,151177.76942680203,162021.18741461125,172864.6054024205,183708.02339022976,194551.441378039,205394.85936584824,216238.2773536575,227081.69534146672,237925.11332927598,248768.53131708523,259611.94930489446,270455.3672927037,281298.785280513,292142.2032683222,302985.62125613145,313829.0392439407,324672.4572317499,335515.8752195592,346359.29320736846,357202.7111951777,368046.1291829869,378889.54717079614,389732.9651586054,400576.38314641465,411419.8011342239,422263.21912203316,433106.6371098424,443950.05509765167,454793.4730854609,465636.8910732701,476480.30906107934,487323.72704888857,498167.14503669785,509010.5630245071,519853.9810123163,530697.3990001256,541540.8169879348,552384.234975744,563227.6529635533,574071.0709513626,584914.4889391719,595757.9069269809,606601.3249147902,617444.7429025995,628288.1608904088,639131.578878218,649974.9968660272,660818.4148538364,671661.8328416457,682505.2508294549,693348.6688172641,704192.0868050735,715035.5047928827,725878.922780692,736722.3407685013,747565.7587563104,758409.1767441197,769252.5947319289,780096.0127197382],[128641.52125354308,139484.93924135232,150328.35722916154,161171.7752169708,172015.19320478005,182858.61119258928,193702.02918039853,204545.4471682078,215388.86515601704,226232.28314382627,237075.70113163552,247919.11911944477,258762.537107254,269605.95509506325,280449.3730828725,291292.79107068176,302136.209058491,312979.6270463002,323823.0450341095,334666.4630219188,345509.88100972795,356353.29899753723,367196.7169853464,378040.1349731557,388883.55296096497,399726.97094877413,410570.3889365834,421413.8069243927,432257.22491220187,443100.64290001115,453944.06088782044,464787.4788756296,475630.8968634389,486474.31485124805,497317.73283905734,508161.1508268666,519004.5688146758,529847.9868024851,540691.4047902944,551534.8227781036,562378.2407659128,573221.6587537221,584065.0767415314,594908.4947293405,605751.9127171498,616595.3307049591,627438.7486927684,638282.1666805776,649125.5846683868,659969.002656196,670812.4206440053,681655.8386318145,692499.2566196237,703342.6746074331,714186.0925952423,725029.5105830516,735872.9285708609,746716.34655867,757559.7645464793,768403.1825342885,779246.6005220978],[127792.1090559026,138635.52704371186,149478.94503152109,160322.3630193303,171165.7810071396,182009.19899494882,192852.61698275805,203696.03497056733,214539.45295837658,225382.8709461858,236226.28893399506,247069.70692180432,257913.12490961354,268756.5428974228,279599.9608852321,290443.3788730413,301286.79686085053,312130.21484865976,322973.632836469,333817.05082427827,344660.4688120875,355503.8867998967,366347.30478770594,377190.72277551517,388034.14076332445,398877.5587511337,409720.9767389429,420564.3947267522,431407.8127145614,442251.2307023707,453094.6486901799,463938.06667798915,474781.4846657984,485624.9026536076,496468.3206414169,507311.7386292261,518155.15661703533,528998.5746048447,539841.9925926538,550685.4105804631,561528.8285682723,572372.2465560816,583215.6645438909,594059.0825317,604902.5005195093,615745.9185073186,626589.3364951279,637432.754482937,648276.1724707463,659119.5904585555,669963.0084463648,680806.426434174,691649.8444219832,702493.2624097926,713336.6803976018,724180.0983854111,735023.5163732204,745866.9343610295,756710.3523488388,767553.770336648,778397.1883244573],[126942.69685826215,137786.1148460714,148629.53283388063,159472.95082168985,170316.36880949914,181159.78679730836,192003.2047851176,202846.62277292687,213690.0407607361,224533.45874854532,235376.87673635458,246220.29472416383,257063.71271197306,267907.1306997823,278750.54868759157,289593.96667540085,300437.38466321,311280.8026510193,322124.2206388285,332967.6386266378,343811.05661444704,354654.47460225626,365497.8925900655,376341.3105778747,387184.728565684,398028.1465534932,408871.56454130245,419714.98252911173,430558.40051692096,441401.81850473024,452245.23649253946,463088.6544803487,473932.0724681579,484775.49045596714,495618.9084437764,506462.32643158565,517305.7444193949,528149.1624072042,538992.5803950133,549835.9983828226,560679.4163706319,571522.8343584412,582366.2523462505,593209.6703340595,604053.0883218688,614896.5063096782,625739.9242974875,636583.3422852966,647426.7602731059,658270.1782609151,669113.5962487244,679957.0142365335,690800.4322243428,701643.8502121522,712487.2681999614,723330.6861877707,734174.10417558,745017.5221633891,755860.9401511984,766704.3581390076,777547.7761268169],[126093.28466062168,136936.70264843092,147780.12063624017,158623.5386240494,169466.95661185865,180310.3745996679,191153.79258747713,201997.2105752864,212840.62856309564,223684.04655090487,234527.46453871412,245370.88252652338,256214.3005143326,267057.7185021419,277901.1364899511,288744.55447776034,299587.9724655696,310431.3904533788,321274.80844118807,332118.22642899735,342961.6444168066,353805.0624046158,364648.48039242503,375491.89838023426,386335.31636804354,397178.73435585276,408022.152343662,418865.5703314713,429708.9883192805,440552.4063070898,451395.824294899,462239.24228270823,473082.66027051746,483926.0782583267,494769.49624613597,505612.9142339452,516456.3322217544,527299.7502095636,538143.1681973729,548986.5861851822,559830.0041729915,570673.4221608007,581516.84014861,592360.2581364191,603203.6761242284,614047.0941120377,624890.512099847,635733.9300876561,646577.3480754654,657420.7660632746,668264.1840510839,679107.602038893,689951.0200267023,700794.4380145117,711637.8560023209,722481.2739901302,733324.6919779395,744168.1099657486,755011.5279535579,765854.9459413671,776698.3639291764],[125243.87246298122,136087.29045079046,146930.70843859972,157774.12642640894,168617.5444142182,179460.96240202745,190304.38038983668,201147.79837764593,211991.21636545518,222834.6343532644,233678.05234107366,244521.47032888292,255364.88831669214,266208.30630450137,277051.72429231065,287895.14228011994,298738.5602679291,309581.9782557384,320425.3962435476,331268.8142313569,342112.2322191661,352955.65020697535,363799.0681947846,374642.4861825938,385485.9041704031,396329.3221582123,407172.74014602153,418016.1581338308,428859.57612164004,439702.9941094493,450546.41209725855,461389.8300850678,472233.248072877,483076.6660606862,493920.0840484955,504763.50203630474,515606.92002411396,526450.3380119232,537293.7559997325,548137.1739875418,558980.591975351,569824.0099631601,580667.4279509694,591510.8459387787,602354.263926588,613197.6819143972,624041.0999022064,634884.5178900156,645727.9358778249,656571.3538656341,667414.7718534434,678258.1898412525,689101.6078290618,699945.0258168712,710788.4438046804,721631.8617924897,732475.2797802989,743318.6977681081,754162.1157559174,765005.5337437266,775848.9517315358],[124394.46026534075,135237.87825314997,146081.29624095923,156924.71422876848,167768.1322165777,178611.55020438696,189454.96819219622,200298.38618000544,211141.80416781473,221985.22215562395,232828.6401434332,243672.05813124246,254515.4761190517,265358.894106861,276202.3120946702,287045.7300824794,297889.1480702887,308732.5660580979,319575.98404590716,330419.40203371644,341262.82002152567,352106.2380093349,362949.6559971441,373793.07398495334,384636.4919727626,395479.90996057185,406323.3279483811,417166.74593619036,428010.1639239996,438853.58191180887,449696.9998996181,460540.4178874273,471383.83587523655,482227.2538630458,493070.67185085505,503914.0898386643,514757.5078264735,525600.9258142828,536444.343802092,547287.7617899013,558131.1797777105,568974.5977655197,579818.015753329,590661.4337411382,601504.8517289475,612348.2697167568,623191.687704566,634035.1056923752,644878.5236801845,655721.9416679937,666565.359655803,677408.7776436121,688252.1956314214,699095.6136192308,709939.03160704,720782.4495948493,731625.8675826585,742469.2855704677,753312.703558277,764156.1215460862,774999.5395338954],[123545.04806770029,134388.46605550952,145231.88404331877,156075.302031128,166918.72001893725,177762.1380067465,188605.55599455573,199448.973982365,210292.39197017424,221135.80995798347,231979.22794579272,242822.64593360198,253666.0639214112,264509.48190922046,275352.89989702974,286196.31788483897,297039.7358726482,307883.1538604574,318726.57184826664,329569.9898360759,340413.4078238852,351256.82581169443,362100.24379950366,372943.6617873129,383787.07977512217,394630.4977629314,405473.9157507406,416317.3337385499,427160.7517263591,438004.1697141684,448847.58770197764,459691.00568978686,470534.4236775961,481377.8416654053,492221.2596532146,503064.6776410238,513908.09562883305,524751.5136166423,535594.9316044515,546438.3495922608,557281.7675800701,568125.1855678794,578968.6035556886,589812.0215434977,600655.439531307,611498.8575191163,622342.2755069255,633185.6934947347,644029.111482544,654872.5294703532,665715.9474581624,676559.3654459716,687402.7834337809,698246.2014215903,709089.6194093995,719933.0373972087,730776.455385018,741619.8733728272,752463.2913606365,763306.7093484456,774150.1273362549],[122695.63587005982,133539.05385786906,144382.4718456783,155225.88983348754,166069.3078212968,176912.72580910602,187756.14379691528,198599.56178472453,209442.97977253378,220286.397760343,231129.81574815226,241973.23373596152,252816.65172377074,263660.06971158,274503.4876993892,285346.9056871985,296190.32367500773,307033.74166281696,317877.15965062624,328720.5776384355,339563.9956262447,350407.413614054,361250.8316018632,372094.2495896724,382937.6675774817,393781.08556529094,404624.50355310016,415467.92154090945,426311.3395287187,437154.75751652796,447998.1755043372,458841.5934921464,469685.01147995563,480528.42946776486,491371.84745557414,502215.26544338337,513058.6834311926,523902.1014190019,534745.5194068111,545588.9373946204,556432.3553824297,567275.7733702388,578119.1913580481,588962.6093458573,599806.0273336666,610649.4453214759,621492.8633092851,632336.2812970943,643179.6992849036,654023.1172727128,664866.535260522,675709.9532483312,686553.3712361405,697396.7892239499,708240.207211759,719083.6251995683,729927.0431873776,740770.4611751868,751613.8791629961,762457.2971508052,773300.7151386145],[121846.22367241936,132689.6416602286,143533.05964803783,154376.47763584708,165219.89562365634,176063.31361146556,186906.73159927482,197750.14958708407,208593.56757489333,219436.98556270255,230280.4035505118,241123.82153832106,251967.2395261303,262810.65751393954,273654.0755017488,284497.49348955805,295340.9114773673,306184.3294651765,317027.7474529857,327871.165440795,338714.5834286043,349558.00141641346,360401.4194042227,371244.8373920319,382088.2553798412,392931.6733676504,403775.09135545965,414618.50934326893,425461.92733107816,436305.34531888744,447148.76330669667,457992.1812945059,468835.5992823151,479679.01727012434,490522.4352579336,501365.85324574285,512209.2712335521,523052.68922136136,533896.1072091706,544739.5251969799,555582.943184789,566426.3611725983,577269.7791604076,588113.1971482168,598956.615136026,609800.0331238353,620643.4511116446,631486.8690994538,642330.2870872631,653173.7050750722,664017.1230628815,674860.5410506907,685703.9590385,696547.3770263094,707390.7950141185,718234.2130019278,729077.6309897371,739921.0489775463,750764.4669653556,761607.8849531647,772451.302940974],[120996.8114747789,131840.22946258815,142683.64745039737,153527.0654382066,164370.48342601588,175213.9014138251,186057.31940163433,196900.73738944362,207744.15537725284,218587.57336506207,229430.99135287135,240274.40934068058,251117.8273284898,261961.2453162991,272804.6633041083,283648.0812919176,294491.4992797268,305334.91726753605,316178.3352553453,327021.75324315456,337865.1712309638,348708.589218773,359552.00720658223,370395.42519439146,381238.84318220074,392082.26117000997,402925.6791578192,413769.0971456285,424612.5151334377,435455.933121247,446299.3511090562,457142.76909686544,467986.18708467466,478829.6050724839,489673.02306029317,500516.4410481024,511359.8590359116,522203.2770237209,533046.6950115301,543890.1129993394,554733.5309871486,565576.9489749579,576420.3669627672,587263.7849505763,598107.2029383855,608950.6209261949,619794.0389140042,630637.4569018134,641480.8748896227,652324.2928774318,663167.7108652411,674011.1288530503,684854.5468408596,695697.964828669,706541.3828164781,717384.8008042874,728228.2187920967,739071.6367799059,749915.0547677152,760758.4727555243,771601.8907433336],[120147.39927713844,130990.81726494766,141834.23525275692,152677.65324056614,163521.0712283754,174364.48921618465,185207.90720399388,196051.32519180313,206894.7431796124,217738.1611674216,228581.57915523087,239424.99714304012,250268.41513084935,261111.8331186586,271955.25110646785,282798.6690942771,293642.08708208636,304485.50506989553,315328.9230577048,326172.3410455141,337015.7590333233,347859.17702113255,358702.5950089418,369546.012996751,380389.4309845603,391232.8489723695,402076.26696017873,412919.684947988,423763.10293579724,434606.5209236065,445449.93891141575,456293.356899225,467136.7748870342,477980.19287484343,488823.6108626527,499667.02885046194,510510.44683827116,521353.86482608045,532197.2828138897,543040.700801699,553884.1187895082,564727.5367773174,575570.9547651267,586414.3727529359,597257.7907407451,608101.2087285544,618944.6267163637,629788.0447041729,640631.4626919822,651474.8806797913,662318.2986676006,673161.7166554098,684005.1346432191,694848.5526310285,705691.9706188376,716535.3886066469,727378.8065944562,738222.2245822654,749065.6425700746,759909.0605578838,770752.4785456931],[119297.98707949797,130141.4050673072,140984.82305511646,151828.24104292569,162671.65903073494,173515.0770185442,184358.49500635342,195201.91299416267,206045.33098197193,216888.74896978115,227732.1669575904,238575.58494539966,249419.0029332089,260262.42092101814,271105.8389088274,281949.2568966367,292792.67488444585,303636.09287225513,314479.51086006436,325322.92884787364,336166.34683568287,347009.7648234921,357853.1828113013,368696.60079911054,379540.0187869198,390383.43677472905,401226.8547625383,412070.27275034756,422913.6907381568,433757.10872596607,444600.5267137753,455443.9447015845,466287.36268939375,477130.780677203,487974.19866501226,498817.6166528215,509661.0346406307,520504.45262844,531347.8706162493,542191.2886040586,553034.7065918677,563878.1245796769,574721.5425674862,585564.9605552955,596408.3785431047,607251.7965309139,618095.2145187232,628938.6325065325,639782.0504943418,650625.4684821508,661468.8864699601,672312.3044577694,683155.7224455787,693999.140433388,704842.5584211972,715685.9764090065,726529.3943968158,737372.8123846248,748216.2303724341,759059.6483602434,769903.0663480527],[118448.5748818575,129291.99286966675,140135.41085747597,150978.82884528523,161822.24683309448,172665.6648209037,183509.08280871296,194352.50079652222,205195.91878433147,216039.3367721407,226882.75475994995,237726.1727477592,248569.59073556843,259413.0087233777,270256.42671118694,281099.84469899617,291943.26268680545,302786.6806746146,313630.0986624239,324473.5166502332,335316.9346380424,346160.35262585164,357003.77061366086,367847.1886014701,378690.60658927937,389534.0245770886,400377.4425648978,411220.8605527071,422064.27854051633,432907.6965283256,443751.11451613484,454594.53250394406,465437.9504917533,476281.3684795625,487124.7864673718,497968.204455181,508811.62244299025,519655.04043079953,530498.4584186088,541341.876406418,552185.2943942272,563028.7123820365,573872.1303698458,584715.548357655,595558.9663454642,606402.3843332735,617245.8023210828,628089.220308892,638932.6382967012,649776.0562845104,660619.4742723197,671462.8922601289,682306.3102479381,693149.7282357475,703993.1462235567,714836.564211366,725679.9821991753,736523.4001869845,747366.8181747937,758210.2361626029,769053.6541504122],[117599.16268421704,128442.58067202628,139285.99865983552,150129.41664764477,160972.834635454,171816.25262326325,182659.6706110725,193503.08859888173,204346.50658669102,215189.92457450024,226033.34256230947,236876.76055011875,247720.17853792798,258563.5965257372,269407.0145135465,280250.4325013557,291093.85048916494,301937.26847697416,312780.68646478344,323624.1044525927,334467.52244040195,345310.9404282112,356154.3584160204,366997.77640382963,377841.1943916389,388684.61237944814,399528.03036725736,410371.44835506665,421214.8663428759,432058.28433068516,442901.7023184944,453745.1203063036,464588.53829411283,475431.95628192206,486275.37426973134,497118.79225754057,507962.2102453498,518805.6282331591,529649.0462209682,540492.4642087775,551335.8821965868,562179.3001843961,573022.7181722054,583866.1361600144,594709.5541478237,605552.972135633,616396.3901234423,627239.8081112514,638083.2260990607,648926.6440868699,659770.0620746792,670613.4800624884,681456.8980502976,692300.316038107,703143.7340259162,713987.1520137255,724830.5700015348,735673.9879893439,746517.4059771532,757360.8239649624,768204.2419527717],[116749.75048657658,127593.1684743858,138436.58646219506,149280.0044500043,160123.42243781354,170966.8404256228,181810.25841343202,192653.67640124128,203497.09438905053,214340.51237685976,225183.930364669,236027.34835247826,246870.7663402875,257714.18432809674,268557.60231590597,279401.02030371525,290244.4382915245,301087.8562793337,311931.274267143,322774.6922549523,333618.11024276144,344461.5282305707,355304.94621837995,366148.3642061892,376991.78219399846,387835.2001818077,398678.6181696169,409522.0361574262,420365.4541452354,431208.8721330447,442052.2901208539,452895.70810866315,463739.1260964724,474582.5440842816,485425.9620720909,496269.3800599001,507112.79804770934,517956.2160355186,528799.6340233278,539643.0520111371,550486.4699989464,561329.8879867556,572173.3059745649,583016.723962374,593860.1419501833,604703.5599379926,615546.9779258019,626390.395913611,637233.8139014203,648077.2318892295,658920.6498770388,669764.067864848,680607.4858526572,691450.9038404666,702294.3218282758,713137.7398160851,723981.1578038944,734824.5757917035,745667.9937795128,756511.411767322,767354.8297551313],[115900.33828893611,126743.75627674535,137587.17426455457,148430.59225236383,159274.01024017308,170117.4282279823,180960.84621579156,191804.26420360082,202647.68219141007,213491.1001792193,224334.51816702855,235177.9361548378,246021.35414264703,256864.7721304563,267708.1901182656,278551.6081060748,289395.026093884,300238.44408169325,311081.8620695025,321925.28005731176,332768.69804512104,343612.1160329302,354455.5340207395,365298.95200854866,376142.36999635794,386985.7879841672,397829.2059719764,408672.6239597857,419516.04194759496,430359.45993540424,441202.8779232134,452046.2959110227,462889.71389883186,473733.13188664115,484576.54987445043,495419.9678622596,506263.3858500689,517106.80383787816,527950.2218256873,538793.6398134966,549637.0578013059,560480.4757891151,571323.8937769243,582167.3117647335,593010.7297525428,603854.1477403521,614697.5657281614,625540.9837159705,636384.4017037798,647227.819691589,658071.2376793983,668914.6556672074,679758.0736550167,690601.4916428261,701444.9096306353,712288.3276184446,723131.7456062539,733975.163594063,744818.5815818723,755661.9995696815,766505.4175574908],[115050.92609129564,125894.34407910489,136737.76206691412,147581.18005472337,158424.59804253263,169268.01603034185,180111.4340181511,190954.85200596036,201798.26999376962,212641.68798157884,223485.1059693881,234328.52395719735,245171.94194500658,256015.35993281583,266858.77792062506,277702.19590843434,288545.61389624357,299389.0318840528,310232.4498718621,321075.86785967136,331919.2858474805,342762.7038352898,353606.121823099,364449.5398109082,375292.9577987175,386136.3757865267,396979.79377433594,407823.2117621452,418666.62974995445,429510.0477377637,440353.46572557295,451196.8837133822,462040.3017011914,472883.71968900063,483727.1376768099,494570.55566461914,505413.97365242837,516257.39164023765,527100.8096280468,537944.2276158561,548787.6456036654,559631.0635914747,570474.481579284,581317.899567093,592161.3175549023,603004.7355427116,613848.153530521,624691.5715183301,635534.9895061394,646378.4074939486,657221.8254817579,668065.243469567,678908.6614573763,689752.0794451857,700595.4974329949,711438.9154208042,722282.3334086135,733125.7513964226,743969.1693842319,754812.5873720411,765656.0053598504],[114201.51389365518,125044.93188146442,135888.34986927366,146731.7678570829,157575.18584489217,168418.6038327014,179262.02182051062,190105.4398083199,200948.85779612913,211792.27578393836,222635.69377174764,233479.11175955686,244322.5297473661,255165.94773517537,266009.3657229846,276852.7837107939,287696.2016986031,298539.61968641233,309383.03767422156,320226.45566203084,331069.87364984007,341913.2916376493,352756.7096254585,363600.12761326774,374443.545601077,385286.96358888625,396130.3815766955,406973.79956450476,417817.217552314,428660.6355401233,439504.0535279325,450347.4715157417,461190.88950355095,472034.3074913602,482877.72547916946,493721.1434669787,504564.5614547879,515407.9794425972,526251.3974304064,537094.8154182157,547938.233406025,558781.6513938342,569625.0693816434,580468.4873694526,591311.9053572619,602155.3233450712,612998.7413328805,623842.1593206896,634685.5773084989,645528.9952963081,656372.4132841174,667215.8312719265,678059.2492597358,688902.6672475452,699746.0852353544,710589.5032231637,721432.9212109729,732276.3391987821,743119.7571865914,753963.1751744006,764806.5931622098],[113352.10169601472,124195.51968382395,135038.9376716332,145882.35565944243,156725.77364725168,167569.19163506094,178412.60962287016,189256.02761067942,200099.44559848867,210942.8635862979,221786.28157410715,232629.6995619164,243473.11754972563,254316.5355375349,265159.95352534414,276003.3715131534,286846.7895009626,297690.2074887719,308533.6254765811,319377.0434643904,330220.4614521996,341063.87944000884,351907.29742781806,362750.7154156273,373594.1334034366,384437.5513912458,395280.969379055,406124.3873668643,416967.80535467353,427811.2233424828,438654.64133029204,449498.05931810127,460341.4773059105,471184.8952937197,482028.313281529,492871.7312693382,503715.14925714745,514558.56724495674,525401.985232766,536245.4032205753,547088.8212083845,557932.2391961936,568775.6571840029,579619.0751718122,590462.4931596215,601305.9111474308,612149.32913524,622992.7471230492,633836.1651108585,644679.5830986677,655523.001086477,666366.4190742861,677209.8370620954,688053.2550499048,698896.673037714,709740.0910255233,720583.5090133325,731426.9270011417,742270.344988951,753113.7629767602,763957.1809645694],[112502.68949837425,123346.1074861835,134189.52547399275,145032.94346180197,155876.36144961123,166719.77943742048,177563.1974252297,188406.61541303896,199250.03340084822,210093.45138865744,220936.8693764667,231780.28736427595,242623.70535208518,253467.12333989443,264310.5413277037,275153.9593155129,285997.3773033222,296840.79529113136,307684.21327894065,318527.63126674993,329371.04925455916,340214.4672423684,351057.8852301776,361901.30321798683,372744.7212057961,383588.13919360534,394431.55718141457,405274.97516922385,416118.3931570331,426961.81114484236,437805.2291326516,448648.6471204608,459492.06510827004,470335.48309607926,481178.90108388854,492022.31907169777,502865.737059507,513709.1550473163,524552.5730351255,535395.9910229348,546239.409010744,557082.8269985532,567926.2449863625,578769.6629741717,589613.080961981,600456.4989497903,611299.9169375995,622143.3349254087,632986.752913218,643830.1709010272,654673.5888888364,665517.0068766456,676360.4248644549,687203.8428522643,698047.2608400735,708890.6788278827,719734.096815692,730577.5148035012,741420.9327913105,752264.3507791196,763107.7687669289],[111653.27730073378,122496.69528854304,133340.11327635226,144183.53126416152,155026.94925197077,165870.36723978,176713.78522758925,187557.2032153985,198400.62120320776,209244.039191017,220087.45717882624,230930.8751666355,241774.29315444472,252617.71114225397,263461.12913006323,274304.5471178725,285147.9651056817,295991.38309349096,306834.8010813002,317678.2190691095,328521.6370569187,339365.0550447279,350208.47303253715,361051.8910203464,371895.30900815566,382738.7269959649,393582.1449837741,404425.5629715834,415268.9809593926,426112.3989472019,436955.8169350111,447799.23492282035,458642.6529106296,469486.0708984388,480329.4888862481,491172.9068740573,502016.32486186654,512859.7428496758,523703.16083748505,534546.5788252943,545389.9968131036,556233.4148009128,567076.8327887221,577920.2507765312,588763.6687643405,599607.0867521497,610450.504739959,621293.9227277682,632137.3407155775,642980.7587033866,653824.1766911959,664667.5946790051,675511.0126668144,686354.4306546238,697197.848642433,708041.2666302422,718884.6846180515,729728.1026058607,740571.52059367,751414.9385814791,762258.3565692884],[110803.86510309333,121647.28309090257,132490.7010787118,143334.11906652106,154177.53705433029,165020.95504213954,175864.3730299488,186707.79101775802,197551.2090055673,208394.62699337653,219238.04498118575,230081.46296899504,240924.88095680426,251768.2989446135,262611.7169324228,273455.134920232,284298.5529080412,295141.97089585045,305985.38888365973,316828.806871469,327672.22485927824,338515.64284708747,349359.0608348967,360202.4788227059,371045.8968105152,381889.3147983244,392732.73278613365,403576.15077394294,414419.56876175216,425262.98674956145,436106.40473737067,446949.8227251799,457793.2407129891,468636.65870079835,479480.07668860763,490323.49467641686,501166.9126642261,512010.33065203537,522853.7486398446,533697.1666276539,544540.5846154632,555384.0026032723,566227.4205910816,577070.8385788908,587914.2565667001,598757.6745545093,609601.0925423186,620444.5105301278,631287.9285179371,642131.3465057462,652974.7644935555,663818.1824813647,674661.600469174,685505.0184569834,696348.4364447925,707191.8544326018,718035.2724204111,728878.6904082203,739722.1083960296,750565.5263838387,761408.944371648],[109954.45290545287,120797.8708932621,131641.28888107135,142484.70686888057,153328.12485668983,164171.54284449908,175014.9608323083,185858.37882011756,196701.79680792682,207545.21479573604,218388.6327835453,229232.05077135455,240075.46875916378,250918.88674697303,261762.3047347823,272605.72272259154,283449.14071040077,294292.55869821,305135.9766860192,315979.3946738285,326822.8126616378,337666.23064944695,348509.64863725624,359353.06662506546,370196.48461287474,381039.90260068397,391883.3205884932,402726.7385763025,413570.1565641117,424413.574551921,435256.9925397302,446100.41052753944,456943.82851534866,467787.2465031579,478630.6644909672,489474.0824787764,500317.5004665856,511160.9184543949,522004.33644220413,532847.7544300135,543691.1724178226,554534.5904056318,565378.0083934411,576221.4263812504,587064.8443690597,597908.262356869,608751.6803446781,619595.0983324873,630438.5163202966,641281.9343081057,652125.352295915,662968.7702837242,673812.1882715335,684655.6062593429,695499.024247152,706342.4422349613,717185.8602227706,728029.2782105798,738872.696198389,749716.1141861982,760559.5321740075],[109105.04070781241,119948.45869562164,130791.87668343089,141635.29467124012,152478.71265904937,163322.13064685863,174165.54863466785,185008.9666224771,195852.38461028636,206695.8025980956,217539.22058590484,228382.6385737141,239226.05656152332,250069.47454933258,260912.89253714183,271756.3105249511,282599.7285127603,293443.14650056954,304286.5644883788,315129.9824761881,325973.40046399727,336816.81845180655,347660.2364396158,358503.654427425,369347.0724152343,380190.4904030435,391033.90839085274,401877.326378662,412720.74436647125,423564.16235428053,434407.58034208976,445250.998329899,456094.4163177082,466937.83430551743,477781.2522933267,488624.67028113594,499468.08826894517,510311.50625675445,521154.9242445637,531998.342232373,542841.7602201821,553685.1782079914,564528.5961958007,575372.0141836099,586215.4321714191,597058.8501592284,607902.2681470377,618745.6861348469,629589.1041226562,640432.5221104653,651275.9400982746,662119.3580860838,672962.7760738931,683806.1940617025,694649.6120495116,705493.0300373209,716336.4480251302,727179.8660129394,738023.2840007487,748866.7019885578,759710.1199763671],[108255.62851017193,119099.04649798118,129942.4644857904,140785.88247359966,151629.30046140891,162472.71844921814,173316.1364370274,184159.55442483665,195002.9724126459,205846.39040045513,216689.80838826438,227533.22637607364,238376.64436388286,249220.06235169212,260063.48033950137,270906.8983273106,281750.31631511985,292593.7343029291,303437.1522907383,314280.5702785476,325123.9882663569,335967.40625416604,346810.82424197526,357654.2422297845,368497.6602175938,379341.078205403,390184.4961932122,401027.9141810215,411871.33216883073,422714.75015664,433558.16814444924,444401.58613225847,455245.0041200677,466088.4221078769,476931.8400956862,487775.2580834954,498618.67607130465,509462.09405911394,520305.51204692316,531148.9300347324,541992.3480225417,552835.7660103509,563679.1839981602,574522.6019859693,585366.0199737786,596209.4379615879,607052.8559493972,617896.2739372064,628739.6919250156,639583.1099128248,650426.5279006341,661269.9458884433,672113.3638762526,682956.781864062,693800.1998518711,704643.6178396804,715487.0358274897,726330.4538152989,737173.8718031081,748017.2897909173,758860.7077787266],[107406.21631253147,118249.63430034071,129093.05228814995,139936.47027595917,150779.88826376846,161623.30625157768,172466.7242393869,183310.1422271962,194153.56021500542,204996.97820281464,215840.39619062393,226683.81417843315,237527.23216624238,248370.65015405166,259214.0681418609,270057.4861296702,280900.9041174794,291744.3221052886,302587.74009309785,313431.15808090713,324274.57606871636,335117.9940565256,345961.4120443348,356804.83003214403,367648.2480199533,378491.66600776254,389335.08399557177,400178.50198338105,411021.9199711903,421865.33795899956,432708.7559468088,443552.173934618,454395.59192242724,465239.00991023646,476082.42789804575,486925.845885855,497769.2638736642,508612.6818614735,519456.0998492827,530299.517837092,541142.9358249012,551986.3538127104,562829.7718005197,573673.189788329,584516.6077761382,595360.0257639475,606203.4437517568,617046.861739566,627890.2797273753,638733.6977151844,649577.1157029937,660420.5336908029,671263.9516786122,682107.3696664216,692950.7876542307,703794.20564204,714637.6236298493,725481.0416176585,736324.4596054677,747167.8775932769,758011.2955810862],[106556.80411489101,117400.22210270024,128243.64009050949,139087.05807831872,149930.47606612797,160773.89405393723,171617.31204174645,182460.7300295557,193304.14801736496,204147.5660051742,214990.98399298344,225834.4019807927,236677.81996860192,247521.23795641118,258364.65594422043,269208.07393202966,280051.49191983894,290894.9099076481,301738.3278954574,312581.7458832667,323425.1638710759,334268.5818588851,345111.99984669435,355955.4178345036,366798.83582231286,377642.2538101221,388485.6717979313,399329.0897857406,410172.5077735498,421015.9257613591,431859.3437491683,442702.76173697755,453546.1797247868,464389.597712596,475233.0157004053,486076.4336882145,496919.85167602374,507763.269663833,518606.68765164225,529450.1056394515,540293.5236272607,551136.94161507,561980.3596028793,572823.7775906884,583667.1955784977,594510.613566307,605354.0315541163,616197.4495419255,627040.8675297347,637884.2855175439,648727.7035053532,659571.1214931624,670414.5394809716,681257.957468781,692101.3754565902,702944.7934443995,713788.2114322088,724631.6294200179,735475.0474078272,746318.4653956364,757161.8833834457],[105707.39191725054,116550.80990505978,127394.22789286902,138237.64588067826,149081.06386848752,159924.48185629677,170767.899844106,181611.31783191525,192454.7358197245,203298.15380753373,214141.57179534298,224984.98978315224,235828.40777096146,246671.82575877072,257515.24374657997,268358.66173438926,279202.0797221984,290045.4977100077,300888.91569781693,311732.3336856262,322575.75167343544,333419.16966124467,344262.5876490539,355106.0056368631,365949.4236246724,376792.8416124816,387636.25960029085,398479.67758810014,409323.09557590936,420166.51356371865,431009.9315515279,441853.3495393371,452696.7675271463,463540.18551495555,474383.60350276483,485227.02149057406,496070.4394783833,506913.85746619257,517757.2754540018,528600.693441811,539444.1114296203,550287.5294174296,561130.9474052389,571974.3653930479,582817.7833808572,593661.2013686665,604504.6193564758,615348.0373442849,626191.4553320942,637034.8733199035,647878.2913077128,658721.7092955218,669565.1272833311,680408.5452711406,691251.9632589497,702095.381246759,712938.7992345683,723782.2172223775,734625.6352101868,745469.0531979959,756312.4711858052],[104857.97971961007,115701.39770741932,126544.81569522855,137388.2336830378,148231.65167084706,159075.06965865628,169918.48764646554,180761.9056342748,191605.32362208405,202448.74160989327,213292.15959770253,224135.57758551178,234978.995573321,245822.41356113026,256665.83154893952,267509.24953674874,278352.667524558,289196.0855123672,300039.5035001765,310882.92148798576,321726.339475795,332569.7574636042,343413.17545141344,354256.59343922266,365100.01142703195,375943.4294148412,386786.8474026504,397630.2653904597,408473.6833782689,419317.1013660782,430160.5193538874,441003.93734169664,451847.35532950587,462690.7733173151,473534.1913051244,484377.6092929336,495221.0272807428,506064.4452685521,516907.86325636134,527751.2812441706,538594.6992319799,549438.1172197891,560281.5352075984,571124.9531954075,581968.3711832168,592811.7891710261,603655.2071588354,614498.6251466445,625342.0431344538,636185.461122263,647028.8791100723,657872.2970978814,668715.7150856907,679559.1330735001,690402.5510613093,701245.9690491186,712089.3870369279,722932.805024737,733776.2230125463,744619.6410003555,755463.0589881648],[104008.56752196961,114851.98550977884,125695.4034975881,136538.82148539732,147382.23947320657,158225.65746101583,169069.07544882505,179912.4934366343,190755.91142444356,201599.3294122528,212442.74740006204,223286.1653878713,234129.58337568052,244973.00136348978,255816.41935129903,266659.8373391083,277503.2553269175,288346.67331472674,299190.09130253596,310033.50929034525,320876.92727815453,331720.3452659637,342563.763253773,353407.1812415822,364250.5992293915,375094.0172172007,385937.43520500994,396780.8531928192,407624.27118062845,418467.68916843773,429311.10715624696,440154.5251440562,450997.9431318654,461841.36111967464,472684.7791074839,483528.19709529314,494371.61508310237,505215.03307091165,516058.4510587209,526901.8690465302,537745.2870343394,548588.7050221486,559432.1230099578,570275.5409977671,581118.9589855764,591962.3769733857,602805.794961195,613649.212949004,624492.6309368133,635336.0489246225,646179.4669124318,657022.8849002409,667866.3028880502,678709.7208758596,689553.1388636688,700396.5568514781,711239.9748392873,722083.3928270965,732926.8108149058,743770.228802715,754613.6467905242],[103159.15532432916,114002.5733121384,124845.99129994764,135689.4092877569,146532.82727556612,157376.24526337537,168219.66325118463,179063.08123899385,189906.49922680313,200749.91721461236,211593.3352024216,222436.75319023087,233280.1711780401,244123.58916584932,254967.0071536586,265810.42514146783,276653.84312927705,287497.2611170863,298340.67910489556,309184.09709270485,320027.5150805141,330870.9330683233,341714.3510561325,352557.76904394175,363401.18703175103,374244.60501956026,385088.0230073695,395931.44099517877,406774.858982988,417618.2769707973,428461.6949586065,439305.1129464157,450148.53093422495,460991.9489220342,471835.36690984346,482678.7848976527,493522.2028854619,504365.6208732712,515209.0388610804,526052.4568488897,536895.8748366989,547739.2928245082,558582.7108123174,569426.1288001266,580269.5467879359,591112.9647757452,601956.3827635545,612799.8007513636,623643.2187391729,634486.6367269821,645330.0547147914,656173.4727026005,667016.8906904098,677860.3086782192,688703.7266660284,699547.1446538377,710390.562641647,721233.9806294561,732077.3986172654,742920.8166050746,753764.2345928838],[102309.74312668869,113153.16111449793,123996.57910230717,134839.9970901164,145683.41507792566,156526.83306573489,167370.25105354414,178213.6690413534,189057.08702916265,199900.50501697187,210743.92300478113,221587.34099259038,232430.7589803996,243274.17696820886,254117.59495601812,264961.0129438274,275804.4309316366,286647.8489194458,297491.26690725505,308334.68489506433,319178.1028828736,330021.5208706828,340864.93885849207,351708.35684630123,362551.7748341105,373395.1928219198,384238.61080972897,395082.02879753825,405925.44678534754,416768.8647731568,427612.282760966,438455.70074877527,449299.11873658444,460142.5367243937,470985.954712203,481829.3727000122,492672.79068782146,503516.20867563074,514359.6266634399,525203.0446512492,536046.4626390585,546889.8806268676,557733.2986146769,568576.7166024861,579420.1345902954,590263.5525781047,601106.970565914,611950.3885537231,622793.8065415324,633637.2245293416,644480.6425171508,655324.06050496,666167.4784927693,677010.8964805787,687854.3144683879,698697.7324561971,709541.1504440064,720384.5684318156,731227.9864196249,742071.404407434,752914.8223952433],[101460.33092904821,112303.74891685747,123147.1669046667,133990.58489247595,144834.0028802852,155677.42086809443,166520.83885590368,177364.25684371294,188207.6748315222,199051.09281933142,209894.51080714067,220737.92879494993,231581.34678275915,242424.7647705684,253268.18275837766,264111.6007461869,274955.01873399614,285798.43672180537,296641.85470961465,307485.27269742393,318328.6906852331,329172.1086730424,340015.52666085155,350858.9446486608,361702.36263647006,372545.7806242793,383389.1986120885,394232.6165998978,405076.034587707,415919.4525755163,426762.87056332553,437606.28855113476,448449.706538944,459293.1245267532,470136.5425145625,480979.9605023717,491823.37849018094,502666.7964779902,513510.21446579945,524353.6324536088,535197.050441418,546040.4684292271,556883.8864170364,567727.3044048457,578570.722392655,589414.1403804643,600257.5583682735,611100.9763560827,621944.394343892,632787.8123317012,643631.2303195104,654474.6483073196,665318.0662951289,676161.4842829383,687004.9022707475,697848.3202585567,708691.738246366,719535.1562341752,730378.5742219845,741221.9922097937,752065.4101976029],[100610.91873140776,111454.336719217,122297.75470702624,133141.17269483546,143984.59068264475,154828.00867045397,165671.4266582632,176514.84464607248,187358.2626338817,198201.68062169093,209045.09860950022,219888.51659730944,230731.93458511867,241575.35257292795,252418.77056073718,263262.18854854646,274105.6065363557,284949.0245241649,295792.44251197414,306635.8604997834,317479.27848759264,328322.69647540187,339166.1144632111,350009.5324510203,360852.9504388296,371696.36842663883,382539.78641444806,393383.20440225734,404226.62239006656,415070.04037787585,425913.4583656851,436756.8763534943,447600.2943413035,458443.71232911275,469287.13031692203,480130.54830473126,490973.9662925405,501817.38428034977,512660.802268159,523504.2202559683,534347.6382437774,545191.0562315867,556034.474219396,566877.8922072052,577721.3101950145,588564.7281828237,599408.146170633,610251.5641584422,621094.9821462515,631938.4001340606,642781.8181218699,653625.2361096791,664468.6540974884,675312.0720852978,686155.490073107,696998.9080609162,707842.3260487255,718685.7440365347,729529.162024344,740372.5800121531,751215.9979999624],[99761.5065337673,110604.92452157653,121448.34250938578,132291.760497195,143135.17848500426,153978.59647281351,164822.01446062274,175665.432448432,186508.85043624125,197352.26842405048,208195.68641185973,219039.10439966898,229882.5223874782,240725.94037528746,251569.35836309672,262412.776350906,273256.19433871517,284099.61232652445,294943.0303143337,305786.44830214296,316629.8662899522,327473.2842777614,338316.70226557064,349160.12025337986,360003.53824118915,370846.9562289984,381690.3742168076,392533.7922046169,403377.2101924261,414220.6281802354,425064.0461680446,435907.46415585384,446750.88214366307,457594.3001314723,468437.7181192816,479281.1361070908,490124.5540949,500967.9720827093,511811.39007051854,522654.8080583278,533498.226046137,544341.6440339463,555185.0620217556,566028.4800095647,576871.897997374,587715.3159851832,598558.7339729925,609402.1519608018,620245.5699486111,631088.9879364202,641932.4059242295,652775.8239120387,663619.241899848,674462.6598876574,685306.0778754666,696149.4958632758,706992.9138510851,717836.3318388943,728679.7498267036,739523.1678145127,750366.585802322],[98912.09433612683,109755.51232393607,120598.93031174531,131442.34829955455,142285.7662873638,153129.18427517306,163972.60226298228,174816.02025079154,185659.4382386008,196502.85622641002,207346.27421421927,218189.69220202853,229033.11018983775,239876.528177647,250719.94616545626,261563.36415326552,272406.7821410748,283250.20012888394,294093.6181166932,304937.0361045025,315780.45409231173,326623.87208012096,337467.2900679302,348310.7080557394,359154.1260435487,369997.5440313579,380840.96201916714,391684.3800069764,402527.79799478565,413371.21598259493,424214.63397040416,435058.0519582134,445901.4699460226,456744.88793383184,467588.3059216411,478431.72390945035,489275.1418972596,500118.55988506885,510961.9778728781,521805.39586068736,532648.8138484966,543492.2318363058,554335.6498241151,565179.0678119243,576022.4857997335,586865.9037875428,597709.3217753521,608552.7397631613,619396.1577509706,630239.5757387797,641082.993726589,651926.4117143982,662769.8297022075,673613.2476900169,684456.665677826,695300.0836656353,706143.5016534446,716986.9196412538,727830.337629063,738673.7556168722,749517.1736046815],[98062.68213848636,108906.1001262956,119749.51811410484,130592.93610191408,141436.35408972332,152279.77207753257,163123.19006534183,173966.60805315105,184810.02604096034,195653.44402876956,206496.8620165788,217340.28000438807,228183.6979921973,239027.11598000652,249870.5339678158,260713.95195562503,271557.36994343426,282400.7879312435,293244.20591905277,304087.62390686205,314931.0418946713,325774.4598824805,336617.8778702897,347461.29585809895,358304.71384590823,369148.13183371746,379991.5498215267,390834.96780933597,401678.3857971452,412521.8037849545,423365.2217727637,434208.6397605729,445052.05774838215,455895.4757361914,466738.89372400066,477582.3117118099,488425.7296996191,499269.1476874284,510112.5656752376,520955.9836630469,531799.4016508561,542642.8196386653,553486.2376264746,564329.6556142839,575173.0736020932,586016.4915899024,596859.9095777117,607703.3275655208,618546.74555333,629390.1635411392,640233.5815289485,651076.9995167577,661920.417504567,672763.8354923764,683607.2534801855,694450.6714679948,705294.0894558041,716137.5074436133,726980.9254314225,737824.3434192317,748667.761407041],[97213.2699408459,108056.68792865514,118900.10591646438,129743.52390427362,140586.94189208286,151430.35987989212,162273.77786770137,173117.1958555106,183960.61384331988,194804.0318311291,205647.44981893833,216490.8678067476,227334.28579455684,238177.70378236606,249021.12177017535,259864.53975798457,270707.9577457938,281551.375733603,292394.7937214123,303238.2117092216,314081.6296970308,324925.04768484004,335768.46567264927,346611.8836604585,357455.3016482678,368298.719636077,379142.1376238862,389985.5556116955,400828.97359950474,411672.391587314,422515.80957512325,433359.2275629325,444202.6455507417,455046.0635385509,465889.4815263602,476732.89951416943,487576.31750197866,498419.73548978794,509263.15347759717,520106.57146540645,530949.9894532156,541793.4074410249,552636.8254288342,563480.2434166434,574323.6614044526,585167.0793922619,596010.4973800712,606853.9153678804,617697.3333556897,628540.7513434988,639384.1693313081,650227.5873191173,661071.0053069266,671914.423294736,682757.8412825451,693601.2592703544,704444.6772581637,715288.0952459729,726131.5132337821,736974.9312215913,747818.3492094006]],\"type\":\"surface\"}],                        {\"template\":{\"data\":{\"histogram2dcontour\":[{\"type\":\"histogram2dcontour\",\"colorbar\":{\"outlinewidth\":0,\"ticks\":\"\"},\"colorscale\":[[0.0,\"#0d0887\"],[0.1111111111111111,\"#46039f\"],[0.2222222222222222,\"#7201a8\"],[0.3333333333333333,\"#9c179e\"],[0.4444444444444444,\"#bd3786\"],[0.5555555555555556,\"#d8576b\"],[0.6666666666666666,\"#ed7953\"],[0.7777777777777778,\"#fb9f3a\"],[0.8888888888888888,\"#fdca26\"],[1.0,\"#f0f921\"]]}],\"choropleth\":[{\"type\":\"choropleth\",\"colorbar\":{\"outlinewidth\":0,\"ticks\":\"\"}}],\"histogram2d\":[{\"type\":\"histogram2d\",\"colorbar\":{\"outlinewidth\":0,\"ticks\":\"\"},\"colorscale\":[[0.0,\"#0d0887\"],[0.1111111111111111,\"#46039f\"],[0.2222222222222222,\"#7201a8\"],[0.3333333333333333,\"#9c179e\"],[0.4444444444444444,\"#bd3786\"],[0.5555555555555556,\"#d8576b\"],[0.6666666666666666,\"#ed7953\"],[0.7777777777777778,\"#fb9f3a\"],[0.8888888888888888,\"#fdca26\"],[1.0,\"#f0f921\"]]}],\"heatmap\":[{\"type\":\"heatmap\",\"colorbar\":{\"outlinewidth\":0,\"ticks\":\"\"},\"colorscale\":[[0.0,\"#0d0887\"],[0.1111111111111111,\"#46039f\"],[0.2222222222222222,\"#7201a8\"],[0.3333333333333333,\"#9c179e\"],[0.4444444444444444,\"#bd3786\"],[0.5555555555555556,\"#d8576b\"],[0.6666666666666666,\"#ed7953\"],[0.7777777777777778,\"#fb9f3a\"],[0.8888888888888888,\"#fdca26\"],[1.0,\"#f0f921\"]]}],\"heatmapgl\":[{\"type\":\"heatmapgl\",\"colorbar\":{\"outlinewidth\":0,\"ticks\":\"\"},\"colorscale\":[[0.0,\"#0d0887\"],[0.1111111111111111,\"#46039f\"],[0.2222222222222222,\"#7201a8\"],[0.3333333333333333,\"#9c179e\"],[0.4444444444444444,\"#bd3786\"],[0.5555555555555556,\"#d8576b\"],[0.6666666666666666,\"#ed7953\"],[0.7777777777777778,\"#fb9f3a\"],[0.8888888888888888,\"#fdca26\"],[1.0,\"#f0f921\"]]}],\"contourcarpet\":[{\"type\":\"contourcarpet\",\"colorbar\":{\"outlinewidth\":0,\"ticks\":\"\"}}],\"contour\":[{\"type\":\"contour\",\"colorbar\":{\"outlinewidth\":0,\"ticks\":\"\"},\"colorscale\":[[0.0,\"#0d0887\"],[0.1111111111111111,\"#46039f\"],[0.2222222222222222,\"#7201a8\"],[0.3333333333333333,\"#9c179e\"],[0.4444444444444444,\"#bd3786\"],[0.5555555555555556,\"#d8576b\"],[0.6666666666666666,\"#ed7953\"],[0.7777777777777778,\"#fb9f3a\"],[0.8888888888888888,\"#fdca26\"],[1.0,\"#f0f921\"]]}],\"surface\":[{\"type\":\"surface\",\"colorbar\":{\"outlinewidth\":0,\"ticks\":\"\"},\"colorscale\":[[0.0,\"#0d0887\"],[0.1111111111111111,\"#46039f\"],[0.2222222222222222,\"#7201a8\"],[0.3333333333333333,\"#9c179e\"],[0.4444444444444444,\"#bd3786\"],[0.5555555555555556,\"#d8576b\"],[0.6666666666666666,\"#ed7953\"],[0.7777777777777778,\"#fb9f3a\"],[0.8888888888888888,\"#fdca26\"],[1.0,\"#f0f921\"]]}],\"mesh3d\":[{\"type\":\"mesh3d\",\"colorbar\":{\"outlinewidth\":0,\"ticks\":\"\"}}],\"scatter\":[{\"fillpattern\":{\"fillmode\":\"overlay\",\"size\":10,\"solidity\":0.2},\"type\":\"scatter\"}],\"parcoords\":[{\"type\":\"parcoords\",\"line\":{\"colorbar\":{\"outlinewidth\":0,\"ticks\":\"\"}}}],\"scatterpolargl\":[{\"type\":\"scatterpolargl\",\"marker\":{\"colorbar\":{\"outlinewidth\":0,\"ticks\":\"\"}}}],\"bar\":[{\"error_x\":{\"color\":\"#2a3f5f\"},\"error_y\":{\"color\":\"#2a3f5f\"},\"marker\":{\"line\":{\"color\":\"#E5ECF6\",\"width\":0.5},\"pattern\":{\"fillmode\":\"overlay\",\"size\":10,\"solidity\":0.2}},\"type\":\"bar\"}],\"scattergeo\":[{\"type\":\"scattergeo\",\"marker\":{\"colorbar\":{\"outlinewidth\":0,\"ticks\":\"\"}}}],\"scatterpolar\":[{\"type\":\"scatterpolar\",\"marker\":{\"colorbar\":{\"outlinewidth\":0,\"ticks\":\"\"}}}],\"histogram\":[{\"marker\":{\"pattern\":{\"fillmode\":\"overlay\",\"size\":10,\"solidity\":0.2}},\"type\":\"histogram\"}],\"scattergl\":[{\"type\":\"scattergl\",\"marker\":{\"colorbar\":{\"outlinewidth\":0,\"ticks\":\"\"}}}],\"scatter3d\":[{\"type\":\"scatter3d\",\"line\":{\"colorbar\":{\"outlinewidth\":0,\"ticks\":\"\"}},\"marker\":{\"colorbar\":{\"outlinewidth\":0,\"ticks\":\"\"}}}],\"scattermapbox\":[{\"type\":\"scattermapbox\",\"marker\":{\"colorbar\":{\"outlinewidth\":0,\"ticks\":\"\"}}}],\"scatterternary\":[{\"type\":\"scatterternary\",\"marker\":{\"colorbar\":{\"outlinewidth\":0,\"ticks\":\"\"}}}],\"scattercarpet\":[{\"type\":\"scattercarpet\",\"marker\":{\"colorbar\":{\"outlinewidth\":0,\"ticks\":\"\"}}}],\"carpet\":[{\"aaxis\":{\"endlinecolor\":\"#2a3f5f\",\"gridcolor\":\"white\",\"linecolor\":\"white\",\"minorgridcolor\":\"white\",\"startlinecolor\":\"#2a3f5f\"},\"baxis\":{\"endlinecolor\":\"#2a3f5f\",\"gridcolor\":\"white\",\"linecolor\":\"white\",\"minorgridcolor\":\"white\",\"startlinecolor\":\"#2a3f5f\"},\"type\":\"carpet\"}],\"table\":[{\"cells\":{\"fill\":{\"color\":\"#EBF0F8\"},\"line\":{\"color\":\"white\"}},\"header\":{\"fill\":{\"color\":\"#C8D4E3\"},\"line\":{\"color\":\"white\"}},\"type\":\"table\"}],\"barpolar\":[{\"marker\":{\"line\":{\"color\":\"#E5ECF6\",\"width\":0.5},\"pattern\":{\"fillmode\":\"overlay\",\"size\":10,\"solidity\":0.2}},\"type\":\"barpolar\"}],\"pie\":[{\"automargin\":true,\"type\":\"pie\"}]},\"layout\":{\"autotypenumbers\":\"strict\",\"colorway\":[\"#636efa\",\"#EF553B\",\"#00cc96\",\"#ab63fa\",\"#FFA15A\",\"#19d3f3\",\"#FF6692\",\"#B6E880\",\"#FF97FF\",\"#FECB52\"],\"font\":{\"color\":\"#2a3f5f\"},\"hovermode\":\"closest\",\"hoverlabel\":{\"align\":\"left\"},\"paper_bgcolor\":\"white\",\"plot_bgcolor\":\"#E5ECF6\",\"polar\":{\"bgcolor\":\"#E5ECF6\",\"angularaxis\":{\"gridcolor\":\"white\",\"linecolor\":\"white\",\"ticks\":\"\"},\"radialaxis\":{\"gridcolor\":\"white\",\"linecolor\":\"white\",\"ticks\":\"\"}},\"ternary\":{\"bgcolor\":\"#E5ECF6\",\"aaxis\":{\"gridcolor\":\"white\",\"linecolor\":\"white\",\"ticks\":\"\"},\"baxis\":{\"gridcolor\":\"white\",\"linecolor\":\"white\",\"ticks\":\"\"},\"caxis\":{\"gridcolor\":\"white\",\"linecolor\":\"white\",\"ticks\":\"\"}},\"coloraxis\":{\"colorbar\":{\"outlinewidth\":0,\"ticks\":\"\"}},\"colorscale\":{\"sequential\":[[0.0,\"#0d0887\"],[0.1111111111111111,\"#46039f\"],[0.2222222222222222,\"#7201a8\"],[0.3333333333333333,\"#9c179e\"],[0.4444444444444444,\"#bd3786\"],[0.5555555555555556,\"#d8576b\"],[0.6666666666666666,\"#ed7953\"],[0.7777777777777778,\"#fb9f3a\"],[0.8888888888888888,\"#fdca26\"],[1.0,\"#f0f921\"]],\"sequentialminus\":[[0.0,\"#0d0887\"],[0.1111111111111111,\"#46039f\"],[0.2222222222222222,\"#7201a8\"],[0.3333333333333333,\"#9c179e\"],[0.4444444444444444,\"#bd3786\"],[0.5555555555555556,\"#d8576b\"],[0.6666666666666666,\"#ed7953\"],[0.7777777777777778,\"#fb9f3a\"],[0.8888888888888888,\"#fdca26\"],[1.0,\"#f0f921\"]],\"diverging\":[[0,\"#8e0152\"],[0.1,\"#c51b7d\"],[0.2,\"#de77ae\"],[0.3,\"#f1b6da\"],[0.4,\"#fde0ef\"],[0.5,\"#f7f7f7\"],[0.6,\"#e6f5d0\"],[0.7,\"#b8e186\"],[0.8,\"#7fbc41\"],[0.9,\"#4d9221\"],[1,\"#276419\"]]},\"xaxis\":{\"gridcolor\":\"white\",\"linecolor\":\"white\",\"ticks\":\"\",\"title\":{\"standoff\":15},\"zerolinecolor\":\"white\",\"automargin\":true,\"zerolinewidth\":2},\"yaxis\":{\"gridcolor\":\"white\",\"linecolor\":\"white\",\"ticks\":\"\",\"title\":{\"standoff\":15},\"zerolinecolor\":\"white\",\"automargin\":true,\"zerolinewidth\":2},\"scene\":{\"xaxis\":{\"backgroundcolor\":\"#E5ECF6\",\"gridcolor\":\"white\",\"linecolor\":\"white\",\"showbackground\":true,\"ticks\":\"\",\"zerolinecolor\":\"white\",\"gridwidth\":2},\"yaxis\":{\"backgroundcolor\":\"#E5ECF6\",\"gridcolor\":\"white\",\"linecolor\":\"white\",\"showbackground\":true,\"ticks\":\"\",\"zerolinecolor\":\"white\",\"gridwidth\":2},\"zaxis\":{\"backgroundcolor\":\"#E5ECF6\",\"gridcolor\":\"white\",\"linecolor\":\"white\",\"showbackground\":true,\"ticks\":\"\",\"zerolinecolor\":\"white\",\"gridwidth\":2}},\"shapedefaults\":{\"line\":{\"color\":\"#2a3f5f\"}},\"annotationdefaults\":{\"arrowcolor\":\"#2a3f5f\",\"arrowhead\":0,\"arrowwidth\":1},\"geo\":{\"bgcolor\":\"white\",\"landcolor\":\"#E5ECF6\",\"subunitcolor\":\"white\",\"showland\":true,\"showlakes\":true,\"lakecolor\":\"white\"},\"title\":{\"x\":0.05},\"mapbox\":{\"style\":\"light\"}}},\"margin\":{\"l\":0,\"r\":0,\"b\":0,\"t\":0},\"autosize\":true,\"width\":500,\"height\":500,\"scene\":{\"xaxis\":{\"title\":{\"text\":\"size\"}},\"yaxis\":{\"title\":{\"text\":\"bedroom\"}},\"zaxis\":{\"title\":{\"text\":\"price\"}}},\"legend\":{\"yanchor\":\"top\",\"y\":0.99,\"xanchor\":\"left\",\"x\":0.01}},                        {\"responsive\": true}                    ).then(function(){\n",
       "                            \n",
       "var gd = document.getElementById('96cc054e-65c3-45e1-a3c4-f0e04d256b6d');\n",
       "var x = new MutationObserver(function (mutations, observer) {{\n",
       "        var display = window.getComputedStyle(gd).display;\n",
       "        if (!display || display === 'none') {{\n",
       "            console.log([gd, 'removed!']);\n",
       "            Plotly.purge(gd);\n",
       "            observer.disconnect();\n",
       "        }}\n",
       "}});\n",
       "\n",
       "// Listen for the removal of the full notebook cells\n",
       "var notebookContainer = gd.closest('#notebook-container');\n",
       "if (notebookContainer) {{\n",
       "    x.observe(notebookContainer, {childList: true});\n",
       "}}\n",
       "\n",
       "// Listen for the clearing of the current output cell\n",
       "var outputEl = gd.closest('.output');\n",
       "if (outputEl) {{\n",
       "    x.observe(outputEl, {childList: true});\n",
       "}}\n",
       "\n",
       "                        })                };                });            </script>        </div>"
      ]
     },
     "metadata": {},
     "output_type": "display_data"
    }
   ],
   "source": [
    "helpers.plot_surface_3d(w=w_mult,\n",
    "                        X_train=X_train_mult, \n",
    "                        y_train=y_train_mult, \n",
    "                        X_test=X_test_mult, \n",
    "                        y_test=y_test_mult,\n",
    "                        feature_names=feature_names_mult, \n",
    "                        label_name=\"price\")"
   ]
  },
  {
   "cell_type": "markdown",
   "metadata": {},
   "source": [
    "**Question:**\n",
    "What are your thoughts on this regression fit?\n",
    "\n",
    "**Answer:**\n",
    "Looks pretty good. We can see that number of bedrooms doen't really matter that much. In fact is already a considered a bit in the size of the appartement."
   ]
  },
  {
   "cell_type": "markdown",
   "metadata": {},
   "source": [
    "Congratulations on finishing this exercise! In the next exercise, we'll take a look at classification with logistic regression."
   ]
  }
 ],
 "metadata": {
  "kernelspec": {
   "display_name": "Python 3 (ipykernel)",
   "language": "python",
   "name": "python3"
  },
  "language_info": {
   "codemirror_mode": {
    "name": "ipython",
    "version": 3
   },
   "file_extension": ".py",
   "mimetype": "text/x-python",
   "name": "python",
   "nbconvert_exporter": "python",
   "pygments_lexer": "ipython3",
   "version": "3.8.16"
  }
 },
 "nbformat": 4,
 "nbformat_minor": 4
}
